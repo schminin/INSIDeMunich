{
 "cells": [
  {
   "cell_type": "code",
   "execution_count": null,
   "id": "a569f229",
   "metadata": {},
   "outputs": [],
   "source": [
    "import pandas as pd\n",
    "import numpy as np\n",
    "import matplotlib.pyplot as plt\n",
    "import seaborn as sns\n",
    "import os\n",
    "\n",
    "import sys\n",
    "sys.path.append(\"..\")\n",
    "\n",
    "from plotting_tools import * \n",
    "import geopandas as gpd"
   ]
  },
  {
   "cell_type": "code",
   "execution_count": null,
   "id": "1f896ec4",
   "metadata": {},
   "outputs": [],
   "source": [
    "person_locs = pd.read_csv(\"../../../preprocessing/data/0_persons_locs.csv\", sep=\",\", dtype=str)\n",
    "\n",
    "loc_mapping = pd.read_csv(\"../../../preprocessing/data/1_mapping_tan_locs.txt\", sep=\" \", dtype=str, header=None).iloc[:, [0, 1]]\n",
    "loc_mapping.columns = [\"ABM_id\", \"tan_id\"]\n",
    "loc_mapping_dict = loc_mapping.set_index(\"ABM_id\")[\"tan_id\"].to_dict()"
   ]
  },
  {
   "cell_type": "code",
   "execution_count": null,
   "id": "7dc4e4f9",
   "metadata": {},
   "outputs": [],
   "source": [
    "person_locs[\"Home_ww_area\"] = person_locs[\"Home\"].map(loc_mapping_dict)\n",
    "person_locs[\"Workplace_ww_area\"] = person_locs[\"Work\"].map(loc_mapping_dict)"
   ]
  },
  {
   "cell_type": "code",
   "execution_count": null,
   "id": "a27fb26e",
   "metadata": {},
   "outputs": [],
   "source": [
    "workplace_sizes = person_locs.groupby(\"Work\")[\"Id\"].count().reset_index().rename(columns={\"Id\": \"count\"}).sort_values(\"count\", ascending=False)"
   ]
  },
  {
   "cell_type": "code",
   "execution_count": null,
   "id": "eb9c3067",
   "metadata": {},
   "outputs": [],
   "source": [
    "worksize_mapping = workplace_sizes.set_index(\"Work\")[\"count\"].to_dict()\n",
    "person_locs[\"Workplace_size\"] = person_locs[\"Work\"].map(worksize_mapping)"
   ]
  },
  {
   "cell_type": "code",
   "execution_count": null,
   "id": "261c6e58",
   "metadata": {},
   "outputs": [],
   "source": [
    "person_locs.head()"
   ]
  },
  {
   "cell_type": "code",
   "execution_count": null,
   "id": "9cfe322f",
   "metadata": {},
   "outputs": [],
   "source": [
    "avg_workplace_of_citizens = person_locs[[\"Home_ww_area\"]].drop_duplicates()\n",
    "avg_workplace_of_citizens[\"avg_workplace_size\"] = np.nan\n",
    "\n",
    "for area in avg_workplace_of_citizens[\"Home_ww_area\"].unique():\n",
    "    avg_workplace_size = person_locs.loc[((person_locs[\"Work\"]!=\"-1\")&(person_locs[\"Home_ww_area\"]==area)), \"Workplace_size\"].mean()\n",
    "    avg_workplace_of_citizens.loc[avg_workplace_of_citizens[\"Home_ww_area\"] == area, \"avg_workplace_size\"] = avg_workplace_size\n"
   ]
  },
  {
   "cell_type": "code",
   "execution_count": null,
   "id": "eb483cd2",
   "metadata": {},
   "outputs": [],
   "source": [
    "gebiete = gpd.read_file(\"../MunichModel_shape/Gebiete.shp\")\n",
    "abschnitte = gpd.read_file(\"../MunichModel_shape/Abschnitte.shp\")\n",
    "knoten = gpd.read_file(\"../MunichModel_shape/Knoten.shp\")\n",
    "\n",
    "knoten[\"clear_name\"] = [\"Schmidbartlangerstr.\", \n",
    "                  \"Schenkendorfstr.\", \n",
    "                  \"Botanischer\\nGarten\", \n",
    "                  \"Gräfelfinger\\nStr.\", #3\n",
    "                  \"Am\\nLangwieder\\nBach\", #4\n",
    "                  \"Neue\\nMessstelle 2\", \n",
    "                  \"WWT Gut Großlappen\", \n",
    "                  \"Gyßlinger Becken\", #7\n",
    "                  \"Neue\\nMessstelle 1\", \n",
    "                  \"WWT Gut Marienhof\", #9\n",
    "                  \"Gesamt\",\n",
    "                  \"Leopoldstr.\", #11\n",
    "                  \"Neue\\nMessstelle 4\", \n",
    "                  \"Zulauf\\nGut Großlappen\", \n",
    "                  \"Savitstr.\",\n",
    "                  \"Wintersteinstr.\", ]\n",
    "\n",
    "knoten[\"name\"] = knoten.clear_name.apply(lambda x: manhole_clear_names[x])"
   ]
  },
  {
   "cell_type": "code",
   "execution_count": null,
   "id": "75416aa2",
   "metadata": {},
   "outputs": [],
   "source": [
    "avg_workplace_of_citizens.Home_ww_area = avg_workplace_of_citizens.Home_ww_area.astype(int)"
   ]
  },
  {
   "cell_type": "code",
   "execution_count": null,
   "id": "7ed3f2b0",
   "metadata": {},
   "outputs": [],
   "source": [
    "gebiete = pd.merge(gebiete, avg_workplace_of_citizens, left_on=\"Name\", right_on=\"Home_ww_area\", how=\"left\")"
   ]
  },
  {
   "cell_type": "code",
   "execution_count": null,
   "id": "44627430",
   "metadata": {},
   "outputs": [],
   "source": [
    "%config InlineBackend.print_figure_kwargs = {'dpi': 300, 'bbox_inches': 'tight'}"
   ]
  },
  {
   "cell_type": "code",
   "execution_count": null,
   "id": "ebe71fc5",
   "metadata": {},
   "outputs": [],
   "source": [
    "import matplotlib.colors as mcolors\n",
    "cmap = mcolors.LinearSegmentedColormap.from_list(\n",
    "    name=\"white_red\",\n",
    "    colors=[white, red],\n",
    ")\n",
    "fig, ax = plt.subplots(figsize=(6,5), dpi=300)\n",
    "\n",
    "gebiete.plot(\n",
    "    ax=ax,\n",
    "    column=\"avg_workplace_size\",\n",
    "    cmap=cmap, #\"viridis_r\",\n",
    "    edgecolor=medium_grey,\n",
    "    linewidth=0.2,\n",
    "    legend=True,\n",
    "    legend_kwds={\"label\": \"Average\\nworkplace size\", \"shrink\": 0.9}\n",
    ")\n",
    "txt_color = black\n",
    "abschnitte.plot(ax=ax, color=blue, label='Pipe', alpha=0.2, linewidth=0.8)\n",
    "knoten.plot(ax=ax, color=black, label='Sampling station', zorder=20, markersize=10)\n",
    "\n",
    "# orientation left of point\n",
    "for idx, row in knoten.iloc[[0,2,3,4,5,6,7,8,10,11,12,14,15]].iterrows():\n",
    "    ax.annotate(\n",
    "        text=row['name'],\n",
    "        xy=(row.geometry.x, row.geometry.y),\n",
    "        xytext=(-7, -5),\n",
    "        textcoords=\"offset points\",\n",
    "        ha=\"right\",\n",
    "        color=txt_color,\n",
    "        fontsize=0.8*15  # Change this value to your desired font size\n",
    "    )\n",
    "\n",
    "# orientation right of point\n",
    "for idx, row in knoten.iloc[[1,9,13]].iterrows():\n",
    "    ax.annotate(text=row['name'], xy=(row.geometry.x, row.geometry.y),\n",
    "                xytext=(7, -5), textcoords=\"offset points\", color=txt_color, fontsize=0.8*15)  # Change this value to your desired font size)\n",
    "\n",
    "ax.set_xlabel(\"\")\n",
    "ax.set_ylabel(\"\")\n",
    "ax.set_xticks([])\n",
    "ax.set_yticks([])\n",
    "ax.set_axis_off()  # Remove plot borders\n",
    "\n",
    "plt.savefig(\"../../plots/Figure_6/workplace_size_with_stations.png\", dpi=300, bbox_inches='tight')\n"
   ]
  },
  {
   "cell_type": "code",
   "execution_count": null,
   "id": "b55bd336",
   "metadata": {},
   "outputs": [],
   "source": []
  }
 ],
 "metadata": {
  "kernelspec": {
   "display_name": ".venv (3.12.3)",
   "language": "python",
   "name": "python3"
  },
  "language_info": {
   "codemirror_mode": {
    "name": "ipython",
    "version": 3
   },
   "file_extension": ".py",
   "mimetype": "text/x-python",
   "name": "python",
   "nbconvert_exporter": "python",
   "pygments_lexer": "ipython3",
   "version": "3.12.3"
  }
 },
 "nbformat": 4,
 "nbformat_minor": 5
}

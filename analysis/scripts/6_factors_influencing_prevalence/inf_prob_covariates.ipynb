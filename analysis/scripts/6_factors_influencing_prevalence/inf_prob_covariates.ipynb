{
 "cells": [
  {
   "cell_type": "code",
   "execution_count": null,
   "id": "77b1ae46",
   "metadata": {
    "ExecuteTime": {
     "end_time": "2025-09-02T13:58:36.287893Z",
     "start_time": "2025-09-02T13:58:35.687637Z"
    }
   },
   "outputs": [],
   "source": [
    "import pandas as pd\n",
    "import numpy as np\n",
    "import warnings\n",
    "from scipy.stats import pearsonr\n",
    "from scipy.stats import spearmanr\n",
    "import statsmodels.formula.api as smf\n",
    "import statsmodels.api as sm\n",
    "from statsmodels.stats.outliers_influence import variance_inflation_factor\n",
    "import os\n",
    "\n",
    "import sys\n",
    "sys.path.append(\"..\")\n",
    "\n",
    "from plotting_tools import * "
   ]
  },
  {
   "cell_type": "code",
   "execution_count": null,
   "id": "764d9c57f3b9b9c0",
   "metadata": {
    "ExecuteTime": {
     "end_time": "2025-09-02T13:58:49.300760Z",
     "start_time": "2025-09-02T13:58:49.297736Z"
    }
   },
   "outputs": [],
   "source": [
    "memilio_pop = \"pop8\"\n",
    "plot_path = f\"../plots/Figure_6\"\n",
    "os.makedirs(plot_path, exist_ok=True)"
   ]
  },
  {
   "cell_type": "code",
   "execution_count": null,
   "id": "5111f8300a481c0d",
   "metadata": {
    "ExecuteTime": {
     "end_time": "2025-09-02T13:58:52.907239Z",
     "start_time": "2025-09-02T13:58:50.087842Z"
    }
   },
   "outputs": [],
   "source": [
    "person_locs = pd.read_csv(\"../../../preprocessing/data/0_persons_locs.csv\", sep=\",\", dtype=str)\n",
    "\n",
    "person_locs['WorkSize'] = person_locs.groupby('Work')['Id'].transform('count')\n",
    "person_locs.loc[person_locs['Work'] == str(-1), 'WorkSize'] = np.nan\n",
    "\n",
    "person_locs['SchoolSize'] = person_locs.groupby('School')['Id'].transform('count')\n",
    "person_locs.loc[person_locs['School'] == str(-1), 'SchoolSize'] = np.nan\n",
    "\n",
    "person_locs['HomeSize'] = person_locs.groupby('Home')['Id'].transform('count')\n",
    "\n",
    "person_locs['ShopSize'] = person_locs.groupby('Shop')['Id'].transform('count')\n",
    "\n",
    "person_locs['SocialSize'] = person_locs.groupby('Event')['Id'].transform('count')"
   ]
  },
  {
   "cell_type": "code",
   "execution_count": null,
   "id": "5091f1fec6295bdc",
   "metadata": {
    "ExecuteTime": {
     "end_time": "2025-09-02T13:59:04.287526Z",
     "start_time": "2025-09-02T13:59:02.893681Z"
    }
   },
   "outputs": [],
   "source": [
    "loc_mapping = pd.read_csv(\"../../../preprocessing/data/1_mapping_tan_locs.txt\", sep=r\"\\s+\", dtype=str, header=None).iloc[:, [0, 1]]\n",
    "loc_mapping.columns = [\"ABM_id\", \"tan_id\"]\n",
    "loc_mapping_dict = loc_mapping.set_index(\"ABM_id\")[\"tan_id\"].to_dict()\n",
    "person_locs[\"Home_ww_area\"] = person_locs[\"Home\"].map(loc_mapping_dict)"
   ]
  },
  {
   "cell_type": "code",
   "execution_count": null,
   "id": "b6dd56b2f8c95cda",
   "metadata": {
    "ExecuteTime": {
     "end_time": "2025-09-02T14:00:07.752439Z",
     "start_time": "2025-09-02T13:59:06.690955Z"
    }
   },
   "outputs": [],
   "source": [
    "warnings.filterwarnings('ignore')\n",
    "\n",
    "ts = 2208\n",
    "def find_inf_agents(memilio_id):\n",
    "    df = pd.read_csv(f\"../../../raw_memilio_data/{memilio_pop}/inf_paths/{memilio_id}_infection_paths.txt\", sep=r\"\\s+\", index_col=False)\n",
    "    \n",
    "    df[\"is_inf\"] = np.where(df['S'] < ts, 1, 0)\n",
    "    df[\"sim\"] = memilio_id\n",
    "    \n",
    "    return df[[\"Agent_id\", \"is_inf\", \"sim\"]]\n",
    "\n",
    "inf_agents = pd.concat([find_inf_agents(memilio_id) for memilio_id in range(1, 101)])"
   ]
  },
  {
   "cell_type": "code",
   "execution_count": null,
   "id": "6f390fd5b016fe21",
   "metadata": {
    "ExecuteTime": {
     "end_time": "2025-09-02T14:00:14.273651Z",
     "start_time": "2025-09-02T14:00:10.304358Z"
    }
   },
   "outputs": [],
   "source": [
    "inf_probs = inf_agents.groupby('Agent_id')['is_inf'].mean().reset_index().rename(columns={'is_inf': 'inf_prob'})\n",
    "inf_probs['Agent_id'] = inf_probs['Agent_id'].apply(str)"
   ]
  },
  {
   "cell_type": "code",
   "execution_count": null,
   "id": "6e351bd2359df966",
   "metadata": {
    "ExecuteTime": {
     "end_time": "2025-09-02T14:00:17.477527Z",
     "start_time": "2025-09-02T14:00:16.076405Z"
    }
   },
   "outputs": [],
   "source": [
    "inf_probs_merged = pd.merge(person_locs, inf_probs, left_on='Id', right_on='Agent_id', how='left')\n",
    "inf_probs_merged = inf_probs_merged[[\"Agent_id\", \"WorkSize\", \"SchoolSize\", \"HomeSize\", \"ShopSize\", \"SocialSize\", \"inf_prob\"]]"
   ]
  },
  {
   "cell_type": "code",
   "execution_count": null,
   "id": "5943ad6024883f6a",
   "metadata": {
    "ExecuteTime": {
     "end_time": "2025-09-02T14:00:18.339817Z",
     "start_time": "2025-09-02T14:00:18.072473Z"
    }
   },
   "outputs": [],
   "source": [
    "inf_probs_merged_filtered = inf_probs_merged[['WorkSize', 'inf_prob']].dropna()\n",
    "r, p_value = pearsonr(inf_probs_merged_filtered['WorkSize'], inf_probs_merged_filtered['inf_prob'])\n",
    "print(f\"Pearson correlation coefficient: {r:.2f}\")\n",
    "print(f\"P-value: {p_value:.3e}\")\n",
    "\n",
    "rho, p_value_rho = spearmanr(inf_probs_merged_filtered['WorkSize'], inf_probs_merged_filtered['inf_prob'])\n",
    "print(f\"Spearman correlation coefficient: {rho:.2f}\")\n",
    "print(f\"P-value: {p_value_rho:.3e}\")"
   ]
  },
  {
   "cell_type": "code",
   "execution_count": null,
   "id": "3f963bedc0e264dd",
   "metadata": {
    "ExecuteTime": {
     "end_time": "2025-09-02T14:00:20.448552Z",
     "start_time": "2025-09-02T14:00:20.366674Z"
    }
   },
   "outputs": [],
   "source": [
    "inf_probs_summary = inf_probs_merged.groupby(\"WorkSize\")[\"inf_prob\"].agg(mean='mean', p05=lambda x: np.percentile(x, 5), p95=lambda x: np.percentile(x, 95)).reset_index()\n",
    "asym_error = [inf_probs_summary[\"mean\"] - inf_probs_summary[\"p05\"], inf_probs_summary[\"p95\"] - inf_probs_summary[\"mean\"]]"
   ]
  },
  {
   "cell_type": "code",
   "execution_count": null,
   "id": "9be5474bb1d7dbcf",
   "metadata": {
    "ExecuteTime": {
     "end_time": "2025-09-02T14:00:21.694371Z",
     "start_time": "2025-09-02T14:00:21.240039Z"
    }
   },
   "outputs": [],
   "source": [
    "plt.style.use('default')\n",
    "set_fontsize()\n",
    "\n",
    "fig, ax = plt.subplots(figsize=(5.6, 4.7), dpi=300)\n",
    "\n",
    "ax.errorbar(x = inf_probs_summary[\"WorkSize\"], y= inf_probs_summary[\"mean\"], yerr = asym_error, fmt='o-', capsize=4, color='#4C8670', ecolor='#4C8670', linewidth=2)\n",
    "ax.set_ylabel(\"Per-agent fraction of\\nsimulations with infection\")\n",
    "ax.set_xlabel(\"Workplace size\")\n",
    "\n",
    "ax.text(1, 0.08, f\"r = {r:.2f} (p < 0.001)\", fontsize = 15)\n",
    "\n",
    "plt.tight_layout()\n",
    "plt.savefig(f\"{plot_path}/inf_by_work_size.png\", dpi=300)\n",
    "plt.show()"
   ]
  },
  {
   "cell_type": "code",
   "execution_count": null,
   "id": "66e3d7e99ff476ae",
   "metadata": {
    "ExecuteTime": {
     "end_time": "2025-09-02T14:00:33.624652Z",
     "start_time": "2025-09-02T14:00:32.636227Z"
    }
   },
   "outputs": [],
   "source": [
    "persons = pd.read_csv(\"../../../preprocessing/data/persons.csv\", sep=\",\")"
   ]
  },
  {
   "cell_type": "code",
   "execution_count": null,
   "id": "523e8bd08a1502b7",
   "metadata": {
    "ExecuteTime": {
     "end_time": "2025-09-02T14:00:41.417533Z",
     "start_time": "2025-09-02T14:00:40.440343Z"
    }
   },
   "outputs": [],
   "source": [
    "loc_mapping = pd.read_csv(\"../../../preprocessing/data/1_mapping_tan_locs.txt\", sep=r\"\\s+\", dtype=str, header=None).iloc[:, [0, 1]]\n",
    "loc_mapping.columns = [\"ABM_id\", \"tan_id\"]\n",
    "loc_mapping_dict = loc_mapping.set_index(\"ABM_id\")[\"tan_id\"].to_dict()"
   ]
  },
  {
   "cell_type": "code",
   "execution_count": null,
   "id": "a829fc7ff5b1ace3",
   "metadata": {
    "ExecuteTime": {
     "end_time": "2025-09-02T14:00:43.563308Z",
     "start_time": "2025-09-02T14:00:41.970657Z"
    }
   },
   "outputs": [],
   "source": [
    "person_locs[\"Home_ww_area\"] = person_locs[\"Home\"].map(loc_mapping_dict)\n",
    "person_locs[\"Work_ww_area\"] = person_locs[\"Work\"].map(loc_mapping_dict)\n",
    "person_locs[\"School_ww_area\"] = person_locs[\"School\"].map(loc_mapping_dict)\n",
    "person_locs[\"Shop_ww_area\"] = person_locs[\"Shop\"].map(loc_mapping_dict)\n",
    "person_locs[\"Social_ww_area\"] = person_locs[\"Event\"].map(loc_mapping_dict)\n",
    "person_locs[\"age\"] = persons[\"age\"]"
   ]
  },
  {
   "cell_type": "code",
   "execution_count": null,
   "id": "cb93f7fce9991e5c",
   "metadata": {
    "ExecuteTime": {
     "end_time": "2025-09-02T14:00:44.224223Z",
     "start_time": "2025-09-02T14:00:44.144892Z"
    }
   },
   "outputs": [],
   "source": [
    "person_locs[\"is_child\"] = person_locs['age'].between(5, 15, inclusive = \"both\")\n",
    "ww_areas = person_locs.groupby('Home_ww_area')['is_child'].mean().reset_index()"
   ]
  },
  {
   "cell_type": "code",
   "execution_count": null,
   "id": "27f23d193d8434cf",
   "metadata": {
    "ExecuteTime": {
     "end_time": "2025-09-02T14:00:45.016192Z",
     "start_time": "2025-09-02T14:00:44.936392Z"
    }
   },
   "outputs": [],
   "source": [
    "person_locs[\"is_worker\"] = person_locs['age'].between(16, 59, inclusive = \"both\")\n",
    "temp = person_locs.groupby('Home_ww_area')['is_worker'].mean().reset_index()\n",
    "ww_areas = pd.merge(ww_areas, temp, on=\"Home_ww_area\", how=\"left\")\n",
    "ww_areas.rename(columns={'Home_ww_area': 'ww_area', \"is_child\": \"child_prop\", \"is_worker\": \"worker_prop\"}, inplace=True)"
   ]
  },
  {
   "cell_type": "code",
   "execution_count": null,
   "id": "1297819b435a8390",
   "metadata": {
    "ExecuteTime": {
     "end_time": "2025-09-02T14:00:46.236003Z",
     "start_time": "2025-09-02T14:00:46.125209Z"
    }
   },
   "outputs": [],
   "source": [
    "mean_loc_sizes = person_locs.groupby('Home_ww_area')[['HomeSize', 'WorkSize', 'SchoolSize', 'SocialSize', 'ShopSize']].mean().reset_index()\n",
    "ww_areas = pd.merge(ww_areas, mean_loc_sizes, left_on='ww_area', right_on='Home_ww_area', how='left')\n",
    "ww_areas = ww_areas[[\"ww_area\", \"child_prop\", \"worker_prop\", \"HomeSize\", \"WorkSize\", \"SchoolSize\", \"SocialSize\", \"ShopSize\"]].rename(columns={\"WorkSize\": \"Res_WorkSize\", \"ShopSize\": \"Res_ShopSize\", \"SchoolSize\": \"Res_SchoolSize\", \"SocialSize\": \"Res_SocialSize\"})"
   ]
  },
  {
   "cell_type": "code",
   "execution_count": null,
   "id": "10476a21b9735211",
   "metadata": {
    "ExecuteTime": {
     "end_time": "2025-09-02T14:00:49.396914Z",
     "start_time": "2025-09-02T14:00:49.133898Z"
    }
   },
   "outputs": [],
   "source": [
    "hospitals = loc_mapping[loc_mapping['ABM_id'].str.match(r'^05', na = False)].groupby('tan_id')['ABM_id'].count()\n",
    "ww_areas = pd.merge(ww_areas, hospitals, left_on='ww_area', right_on='tan_id', how='left').rename(columns={'ABM_id': 'num_hosp'})\n",
    "ww_areas[\"num_hosp\"] = ww_areas[\"num_hosp\"].fillna(0)"
   ]
  },
  {
   "cell_type": "code",
   "execution_count": null,
   "id": "4f34d87a7e466d1c",
   "metadata": {
    "ExecuteTime": {
     "end_time": "2025-09-02T14:01:18.760448Z",
     "start_time": "2025-09-02T14:00:52.310671Z"
    }
   },
   "outputs": [],
   "source": [
    "prev_by_area = pd.read_csv(f\"../../../raw_memilio_data/{memilio_pop}/num_agents_infections_area_{memilio_pop}.txt\", sep=\",\") \n",
    "prev_by_area[\"prev\"] = prev_by_area[\"NumInfected\"] / prev_by_area[\"NumAgents\"]\n",
    "prev_by_area[\"area\"] = prev_by_area[\"area\"].apply(str) "
   ]
  },
  {
   "cell_type": "code",
   "execution_count": null,
   "id": "6d474521829237a0",
   "metadata": {
    "ExecuteTime": {
     "end_time": "2025-09-02T14:01:31.239106Z",
     "start_time": "2025-09-02T14:01:24.680976Z"
    }
   },
   "outputs": [],
   "source": [
    "max_prev_per_sim = prev_by_area.groupby(['Sim', 'area'])['prev'].max().reset_index()\n",
    "mean_max_prev = max_prev_per_sim.groupby(['area'])['prev'].mean().reset_index()"
   ]
  },
  {
   "cell_type": "code",
   "execution_count": null,
   "id": "c55c78859d37e053",
   "metadata": {
    "ExecuteTime": {
     "end_time": "2025-09-02T14:01:37.618019Z",
     "start_time": "2025-09-02T14:01:37.602028Z"
    }
   },
   "outputs": [],
   "source": [
    "print(set(ww_areas['ww_area']) - set(mean_max_prev['area']))\n",
    "ww_areas = pd.merge(ww_areas, mean_max_prev, left_on='ww_area', right_on='area', how='left')\n",
    "ww_areas.head()"
   ]
  },
  {
   "cell_type": "code",
   "execution_count": null,
   "id": "52830f7f2eae0235",
   "metadata": {
    "ExecuteTime": {
     "end_time": "2025-09-02T14:01:39.062710Z",
     "start_time": "2025-09-02T14:01:39.048073Z"
    }
   },
   "outputs": [],
   "source": [
    "ww_areas_normalized = ww_areas.copy()\n",
    "numeric_cols = ww_areas_normalized.select_dtypes(include=[np.number]).columns\n",
    "ww_areas_normalized[numeric_cols] = (ww_areas_normalized[numeric_cols] - ww_areas_normalized[numeric_cols].min()) / (ww_areas_normalized[numeric_cols].max() - ww_areas_normalized[numeric_cols].min())\n",
    "ww_areas_normalized.head()"
   ]
  },
  {
   "cell_type": "code",
   "execution_count": null,
   "id": "a69576f0baec5933",
   "metadata": {
    "ExecuteTime": {
     "end_time": "2025-09-02T14:01:40.634889Z",
     "start_time": "2025-09-02T14:01:40.616003Z"
    }
   },
   "outputs": [],
   "source": [
    "X = ww_areas_normalized.drop(columns=[\"ww_area\", \"area\", \"prev\"]) \n",
    "X = sm.add_constant(X)\n",
    "\n",
    "vif_data = pd.DataFrame()\n",
    "vif_data['feature'] = X.columns\n",
    "vif_data['VIF'] = [variance_inflation_factor(X.values, i) for i in range(X.shape[1])]\n",
    "\n",
    "print(vif_data[vif_data[\"feature\"] != \"const\"])"
   ]
  },
  {
   "cell_type": "code",
   "execution_count": null,
   "id": "b5a99f7f774e1725",
   "metadata": {
    "ExecuteTime": {
     "end_time": "2025-09-02T14:01:42.146270Z",
     "start_time": "2025-09-02T14:01:42.125204Z"
    }
   },
   "outputs": [],
   "source": [
    "# child_prop: proportion of agents living in the ww area who are children\n",
    "# worker_prop: proportion of agents living in the ww area who are working-age adults\n",
    "# HomeSize: Mean household size in the area\n",
    "# Res_WorkSize: Mean size of the workplaces of the area's working-age residents\n",
    "# Res_SchoolSize: Mean size of the schools of the area's school-age residents\n",
    "# Res_SocialSize: Mean size of the social events of the area's residents\n",
    "# Res_ShopSize: Mean size of the shops of the area's residents\n",
    "# num_res: number of agents living in the ww area\n",
    "# num_worker: number of agents who work in the ww area (regardless of where they live)\n",
    "# num_pupils: number of agents who attend school in the ww area (regardless of where they live)\n",
    "# num_hosp: number of hospitals located in the ww area\n",
    "# mean_people_per_workplace: mean size of the workplaces located within the ww area\n",
    "# mean_people_per_school: mean size of the school locations located within the ww area\n",
    "# mean_people_per_shop: mean size of the shop locations located within the ww area\n",
    "# mean_people_per_social: mean size of the social event locations located within the ww area\n",
    "\n",
    "formula = 'prev ~ child_prop + worker_prop + HomeSize + Res_WorkSize + Res_SchoolSize + Res_SocialSize + Res_ShopSize + num_hosp' \n",
    "\n",
    "model = smf.ols(formula = formula, data = ww_areas_normalized).fit()\n",
    "\n",
    "results_df = pd.DataFrame({'coef': model.params,'p_value': model.pvalues})\n",
    "results_df['p_value'] = results_df['p_value'].round(4)\n",
    "\n",
    "print(results_df)\n",
    "# significant: child_prop, Res_WorkSize, Res_SocialSize"
   ]
  }
 ],
 "metadata": {
  "kernelspec": {
   "display_name": ".venv (3.12.3)",
   "language": "python",
   "name": "python3"
  },
  "language_info": {
   "codemirror_mode": {
    "name": "ipython",
    "version": 3
   },
   "file_extension": ".py",
   "mimetype": "text/x-python",
   "name": "python",
   "nbconvert_exporter": "python",
   "pygments_lexer": "ipython3",
   "version": "3.12.3"
  }
 },
 "nbformat": 4,
 "nbformat_minor": 5
}

{
 "cells": [
  {
   "cell_type": "code",
   "execution_count": null,
   "metadata": {},
   "outputs": [],
   "source": [
    "import pandas as pd\n",
    "import numpy as np\n",
    "import matplotlib.pyplot as plt\n",
    "import seaborn as sns\n",
    "import os\n",
    "\n",
    "from plotting_tools import * "
   ]
  },
  {
   "cell_type": "code",
   "execution_count": null,
   "metadata": {},
   "outputs": [],
   "source": [
    "experiment_series =\"pop8_local57\"\n",
    "precipitation_setting = \"Rain\"\n",
    "decay_setting = \"decay\"\n",
    "\n",
    "plot_path = f\"../plots/{experiment_series}/concentration\"\n",
    "os.makedirs(plot_path, exist_ok=True)"
   ]
  },
  {
   "cell_type": "code",
   "execution_count": null,
   "metadata": {},
   "outputs": [],
   "source": [
    "# Load the data\n",
    "result_path = f\"../../preprocessing/preprocessed_data/{experiment_series}\"\n",
    "\n",
    "df = pd.read_csv(f\"{result_path}/substances/{decay_setting}_{precipitation_setting}_output.csv\")\n",
    "\n",
    "df_measurements = pd.read_csv(f\"{result_path}/../concentration_measurements.csv\")\n"
   ]
  },
  {
   "cell_type": "code",
   "execution_count": null,
   "metadata": {},
   "outputs": [],
   "source": [
    "df[\"Date\"] = pd.to_datetime(start_date) + pd.to_timedelta(df[\"time_in_minutes\"], unit=\"min\")"
   ]
  },
  {
   "cell_type": "code",
   "execution_count": null,
   "metadata": {},
   "outputs": [],
   "source": [
    "# Filter data\n",
    "covid_df = df[(df[\"variable\"] == \"COV19\") & (df[\"manhole\"].isin(manhole_names.keys()))]\n",
    "covid_df[\"location\"] = covid_df[\"manhole\"].map(manhole_names)\n",
    "\n",
    "# Sort locations for consistency\n",
    "locations_sorted = manhole_names.values()\n",
    "\n",
    "# Set up 4x2 subplots\n",
    "fig, axes = plt.subplots(nrows=4, ncols=4, figsize=(18*cm, 12*cm), sharex=True)\n",
    "axes = axes.flatten()\n",
    "\n",
    "for i, location in enumerate(locations_sorted, start=0):  \n",
    "    print(location)  \n",
    "    ax = axes[i]\n",
    "    ax.grid(True)\n",
    "\n",
    "    group = covid_df.loc[covid_df[\"location\"] == location,:].copy()\n",
    "    sns.lineplot(data=group, x=\"Date\", y=\"value\", color=blue, ax=ax, estimator=np.mean, errorbar=(\"pi\", 90))\n",
    "\n",
    "    ax.set_title(location)\n",
    "    if i%4 == 0:\n",
    "        ax.set_ylabel(\"Virus levels\\n[copies/l]\")\n",
    "    else:\n",
    "        ax.set_ylabel(\"\")\n",
    "    \n",
    "    \n",
    "# Set x-labels for bottom row only\n",
    "for ax in axes[-4:]:\n",
    "    ax.set_xlabel(\"\")\n",
    "    \n",
    "    for label in ax.get_xticklabels():\n",
    "        label.set_rotation(45)\n",
    "\n",
    "# locator that places a tick on day=2 of every month\n",
    "second_of_month = mdates.DayLocator(bymonthday=2)\n",
    "\n",
    "for ax in axes:\n",
    "    ax.xaxis.set_major_locator(second_of_month)\n",
    "    for lbl in ax.get_xticklabels():\n",
    "        lbl.set_rotation(45)\n",
    "plt.gca().xaxis.set_major_formatter(mdates.DateFormatter(\"%d %b\"))  # Format without year\n",
    "\n",
    "# Add overall title\n",
    "plt.tight_layout()\n",
    "fig.savefig(f\"../plots/{experiment_series}/concentration/{decay_setting}_{precipitation_setting}_COV19.png\", dpi=300)\n",
    "plt.show()\n"
   ]
  },
  {
   "cell_type": "code",
   "execution_count": null,
   "metadata": {},
   "outputs": [],
   "source": [
    "# Filter data\n",
    "pmmov_df = df[(df[\"variable\"] == \"PMMoV\") & (df[\"manhole\"].isin(manhole_names.keys()))]\n",
    "pmmov_df[\"location\"] = pmmov_df[\"manhole\"].map(manhole_names)\n",
    "\n",
    "# Sort locations for consistency\n",
    "locations_sorted = manhole_names.values()\n",
    "\n",
    "# Set up 4x2 subplots\n",
    "fig, axes = plt.subplots(nrows=4, ncols=4, figsize=(14, 12), sharex=True)\n",
    "axes = axes.flatten()\n",
    "\n",
    "\n",
    "for i, location in enumerate(locations_sorted, start=0):    \n",
    "    ax = axes[i]\n",
    "    ax.grid(True)\n",
    "\n",
    "    group = pmmov_df[pmmov_df[\"location\"] == location]\n",
    "    sns.lineplot(data=group, x=\"Date\", y=\"value\", color=teal, ax=ax, estimator=np.mean, errorbar=(\"pi\", 90))\n",
    "\n",
    "    ax.set_title(location)\n",
    "    if i%4 == 0:\n",
    "        ax.set_ylabel(\"PMMoV [copies/l]\")\n",
    "    else:\n",
    "        ax.set_ylabel(\"\")\n",
    "\n",
    "# Set x-labels for bottom row only\n",
    "for ax in axes[-4:]:\n",
    "    ax.set_xlabel(\"Time [days]\")\n",
    "    \n",
    "    for label in ax.get_xticklabels():\n",
    "        label.set_rotation(45)\n",
    "\n",
    "plt.gca().xaxis.set_major_formatter(mdates.DateFormatter(\"%d.%m.\"))  # Format without year\n",
    "\n",
    "# Add overall title\n",
    "plt.tight_layout()\n",
    "\n",
    "# plt.savefig(f\"{plot_path}/{decay_setting}_{precipitation_setting}_{memilio_id}_PMMoV.png\", dpi=300, bbox_inches=\"tight\")\n",
    "\n",
    "plt.show()\n"
   ]
  }
 ],
 "metadata": {
  "kernelspec": {
   "display_name": ".venv (3.12.3)",
   "language": "python",
   "name": "python3"
  },
  "language_info": {
   "codemirror_mode": {
    "name": "ipython",
    "version": 3
   },
   "file_extension": ".py",
   "mimetype": "text/x-python",
   "name": "python",
   "nbconvert_exporter": "python",
   "pygments_lexer": "ipython3",
   "version": "3.12.3"
  }
 },
 "nbformat": 4,
 "nbformat_minor": 2
}

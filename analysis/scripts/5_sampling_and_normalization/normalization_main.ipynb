{
 "cells": [
  {
   "cell_type": "code",
   "execution_count": null,
   "metadata": {
    "ExecuteTime": {
     "end_time": "2025-09-02T12:07:19.835575Z",
     "start_time": "2025-09-02T12:07:19.831238Z"
    }
   },
   "outputs": [],
   "source": [
    "import pandas as pd\n",
    "import seaborn as sns\n",
    "import matplotlib.ticker as ticker\n",
    "import os\n",
    "import numpy as np\n",
    "import matplotlib.ticker as mticker\n",
    "\n",
    "import sys\n",
    "sys.path.append(\"..\")\n",
    "\n",
    "from plotting_tools import * "
   ]
  },
  {
   "cell_type": "code",
   "execution_count": null,
   "metadata": {
    "ExecuteTime": {
     "end_time": "2025-09-02T12:07:20.502261Z",
     "start_time": "2025-09-02T12:07:20.498350Z"
    }
   },
   "outputs": [],
   "source": [
    "memilio_pop = 8\n",
    "ww_data_dir = os.path.join(\"..\", \"..\", \"..\", \"preprocessing\", \"preprocessed_data\", f\"pop{memilio_pop}\")\n",
    "substances_dir = os.path.join(ww_data_dir, \"substances\")\n",
    "hydraulics_dir = os.path.join(ww_data_dir, \"hydraulics\")\n",
    "\n",
    "plot_path = f\"../plots/Figure_5\"\n",
    "os.makedirs(plot_path, exist_ok=True)"
   ]
  },
  {
   "cell_type": "code",
   "execution_count": null,
   "metadata": {
    "ExecuteTime": {
     "end_time": "2025-09-02T12:07:21.301081Z",
     "start_time": "2025-09-02T12:07:21.298220Z"
    }
   },
   "outputs": [],
   "source": [
    "# define plot settings\n",
    "sampling_locations = [\"S_Ub\", \"S_M2\", \"Overall\"]\n",
    "\n",
    "custom_palette = {\n",
    "    'Ref. (no rain or decay)': \"#595959\",\n",
    "    'Unnormalized': \"#3B75AF\",\n",
    "    'Normalized with PMMoV': \"#83AF63\",\n",
    "    'Normalized with flow rates': \"#F28C28\"\n",
    "}"
   ]
  },
  {
   "cell_type": "code",
   "execution_count": null,
   "metadata": {
    "ExecuteTime": {
     "end_time": "2025-09-02T12:07:22.681701Z",
     "start_time": "2025-09-02T12:07:22.678324Z"
    }
   },
   "outputs": [],
   "source": [
    "def load_ww_data(file_path, manhole_col_name):\n",
    "    df = pd.read_csv(file_path)\n",
    "    df = df[df[manhole_col_name].isin(manhole_names.keys())]\n",
    "    df[\"location\"] = df[manhole_col_name].map(manhole_names)\n",
    "    return df"
   ]
  },
  {
   "cell_type": "code",
   "execution_count": null,
   "metadata": {
    "ExecuteTime": {
     "end_time": "2025-09-02T12:08:02.980880Z",
     "start_time": "2025-09-02T12:07:24.762710Z"
    }
   },
   "outputs": [],
   "source": [
    "# load substance data\n",
    "df_ww = load_ww_data(os.path.join(substances_dir, \"decay_Rain_output_scaled.csv\"), \"manhole\")\n",
    "df_ww = df_ww.loc[df_ww['location'].isin(sampling_locations)]\n",
    "\n",
    "df_ww_ref = load_ww_data(os.path.join(substances_dir, \"no_decay_noRain_output_scaled.csv\"), \"manhole\") # note: decay does not affect PMMoV\n",
    "df_ww_ref = df_ww_ref.loc[df_ww_ref['location'].isin(sampling_locations)]"
   ]
  },
  {
   "cell_type": "code",
   "execution_count": null,
   "metadata": {
    "ExecuteTime": {
     "end_time": "2025-09-02T12:08:14.090153Z",
     "start_time": "2025-09-02T12:08:14.069773Z"
    }
   },
   "outputs": [],
   "source": [
    "min_time = df_ww[\"time_in_minutes\"].min()\n",
    "max_time = df_ww[\"time_in_minutes\"].max() - 1"
   ]
  },
  {
   "cell_type": "code",
   "execution_count": null,
   "metadata": {
    "ExecuteTime": {
     "end_time": "2025-09-02T12:10:37.723999Z",
     "start_time": "2025-09-02T12:08:14.954791Z"
    }
   },
   "outputs": [],
   "source": [
    "# load flow rate data - ca. 2.5min\n",
    "df_fr = load_ww_data(os.path.join(hydraulics_dir, \"decay_Rain_output.csv\"), \"pipe_number\")\n",
    "df_fr = df_fr.loc[df_fr['location'].isin(sampling_locations)]\n",
    "\n",
    "df_fr[\"time\"] = pd.to_datetime(start_date) + pd.to_timedelta(df_fr[\"time_in_minutes\"], unit=\"min\")\n",
    "df_fr = df_fr.set_index(\"time\").groupby([\"simulation_id\", \"location\"]).resample(\"15min\", include_groups = False).ffill().reset_index()\n",
    "\n",
    "df_fr[\"time_in_minutes\"] = ((df_fr[\"time\"] - pd.to_datetime(start_date)).dt.total_seconds() / 60).astype(\"int64\")\n",
    "df_fr[\"time_in_days\"] = df_fr[\"time_in_minutes\"] / (60 * 24)"
   ]
  },
  {
   "cell_type": "code",
   "execution_count": null,
   "metadata": {
    "ExecuteTime": {
     "end_time": "2025-09-02T12:13:46.289333Z",
     "start_time": "2025-09-02T12:11:21.585912Z"
    }
   },
   "outputs": [],
   "source": [
    "# load reference flow rate data - ca. 2.5min\n",
    "df_fr_ref = load_ww_data(os.path.join(hydraulics_dir, \"no_decay_noRain_output.csv\"), \"pipe_number\") # note: decay does not affect flow rates\n",
    "df_fr_ref = df_fr_ref.loc[df_fr_ref['location'].isin(sampling_locations)]\n",
    "\n",
    "df_fr_ref[\"time\"] = pd.to_datetime(start_date) + pd.to_timedelta(df_fr_ref[\"time_in_minutes\"], unit=\"min\")\n",
    "df_fr_ref = df_fr_ref.set_index(\"time\").groupby([\"simulation_id\", \"location\"]).resample(\"15min\", include_groups=False).ffill().reset_index()\n",
    "\n",
    "df_fr_ref[\"time_in_minutes\"] = ((df_fr_ref[\"time\"] - pd.to_datetime(start_date)).dt.total_seconds() / 60).astype(\"int64\")\n",
    "df_fr_ref[\"time_in_days\"] = df_fr_ref[\"time_in_minutes\"] / (60 * 24)"
   ]
  },
  {
   "cell_type": "code",
   "execution_count": null,
   "metadata": {
    "ExecuteTime": {
     "end_time": "2025-09-02T12:14:44.123200Z",
     "start_time": "2025-09-02T12:14:41.209142Z"
    }
   },
   "outputs": [],
   "source": [
    "# normalize wrt flow rates\n",
    "mean_fr = df_fr_ref.groupby([\"location\", \"simulation_id\"])[\"value\"].mean().reset_index().rename(columns={\"value\": \"mean_fr\"}) \n",
    "\n",
    "# rolling_window = \"1.5h\"\n",
    "# rolling_values = df_fr.set_index(\"time\").groupby([\"simulation_id\", \"location\"])[\"value\"].rolling(pd.Timedelta(rolling_window)).mean().reset_index().rename(columns={\"value\": \"value_rolling\"})\n",
    "# df_fr = pd.merge(df_fr, rolling_values, on=[\"simulation_id\", \"location\", \"time\"], how = \"left\")\n",
    "\n",
    "df_fr = pd.merge(df_fr, mean_fr, on=[\"location\", \"simulation_id\"], how=\"left\")\n",
    "df_fr[\"flow_norm_factor\"] = df_fr[\"value\"] / df_fr[\"mean_fr\"]\n",
    "df_fr.loc[df_fr[\"mean_fr\"].eq(0), \"flow_norm_factor\"] = np.nan\n",
    "\n",
    "df_ww_covid = df_ww[(df_ww[\"variable\"] == \"COV19\")].rename(columns={'value': 'raw_covid'})\n",
    "df_ww_covid = pd.merge(df_ww_covid.loc[:,[\"time_in_minutes\", \"simulation_id\", \"raw_covid\", \"location\"]], df_fr.loc[:,[\"time_in_minutes\", \"simulation_id\", \"flow_norm_factor\", \"location\"]], on=[\"location\", \"simulation_id\", \"time_in_minutes\"], how=\"outer\")\n",
    "df_ww_covid[\"flow_norm_covid\"] = df_ww_covid[\"raw_covid\"] * df_ww_covid[\"flow_norm_factor\"]"
   ]
  },
  {
   "cell_type": "code",
   "execution_count": null,
   "metadata": {
    "ExecuteTime": {
     "end_time": "2025-09-02T12:15:07.047436Z",
     "start_time": "2025-09-02T12:15:04.413474Z"
    }
   },
   "outputs": [],
   "source": [
    "# normalize wrt PMMoV\n",
    "mean_PMMoV = df_ww_ref[(df_ww_ref[\"variable\"] == \"PMMoV\")].groupby([\"location\", \"simulation_id\"])[\"value\"].mean().reset_index().rename(columns={\"value\": \"mean_PMMoV\"}) \n",
    "\n",
    "norm_factors_PMMoV = df_ww[(df_ww[\"variable\"] == \"PMMoV\")].copy()\n",
    "norm_factors_PMMoV = pd.merge(norm_factors_PMMoV, mean_PMMoV, on=[\"location\", \"simulation_id\"], how=\"left\")\n",
    "norm_factors_PMMoV = norm_factors_PMMoV.rename(columns={\"value\": \"PMMoV_measured\"})\n",
    "norm_factors_PMMoV[\"PMMoV_norm_factor\"] = norm_factors_PMMoV[\"mean_PMMoV\"] / norm_factors_PMMoV[\"PMMoV_measured\"]\n",
    "norm_factors_PMMoV.loc[norm_factors_PMMoV[\"PMMoV_measured\"].eq(0), \"PMMoV_norm_factor\"] = np.nan\n",
    "\n",
    "df_ww_covid = pd.merge(df_ww_covid.loc[:,[\"time_in_minutes\", \"location\", \"simulation_id\", \"raw_covid\", \"flow_norm_covid\", \"flow_norm_factor\"]], norm_factors_PMMoV.loc[:,[\"PMMoV_norm_factor\", \"location\", \"simulation_id\", \"time_in_minutes\", \"PMMoV_measured\"]], \n",
    "                       on=[\"location\", \"simulation_id\", \"time_in_minutes\"], how=\"outer\")\n",
    "df_ww_covid[\"PMMoV_norm_covid\"] = df_ww_covid[\"raw_covid\"] * df_ww_covid[\"PMMoV_norm_factor\"]"
   ]
  },
  {
   "cell_type": "code",
   "execution_count": null,
   "metadata": {
    "ExecuteTime": {
     "end_time": "2025-09-02T12:15:24.188264Z",
     "start_time": "2025-09-02T12:15:22.129111Z"
    }
   },
   "outputs": [],
   "source": [
    "# create combined dataframe with reference, measured, PMMoV normalized, and FR normalized COVID concentrations\n",
    "df_ww_ref_covid = df_ww_ref[(df_ww_ref[\"variable\"] == \"COV19\")].rename(columns={'value': 'ref_covid'})\n",
    "\n",
    "df_combined = df_ww_covid.merge(df_ww_ref_covid, on=[\"time_in_minutes\", \"location\", \"simulation_id\"], how=\"outer\")\n",
    "df_combined[\"Date\"] = pd.to_datetime(start_date) + pd.to_timedelta(df_combined[\"time_in_minutes\"], unit=\"min\")\n",
    "\n",
    "df_combined = df_combined[(df_combined[\"time_in_minutes\"] >= min_time) & (df_combined[\"time_in_minutes\"] <= max_time)]\n",
    "\n",
    "for col in [\"flow_norm_factor\",\"PMMoV_norm_factor\",\"flow_norm_covid\",\"PMMoV_norm_covid\",\"ref_covid\",\"raw_covid\"]:\n",
    "    if col in df_combined:\n",
    "        df_combined[col] = df_combined[col].replace([np.inf, -np.inf], np.nan)"
   ]
  },
  {
   "cell_type": "code",
   "execution_count": null,
   "metadata": {
    "ExecuteTime": {
     "end_time": "2025-09-02T12:15:25.232257Z",
     "start_time": "2025-09-02T12:15:25.215531Z"
    }
   },
   "outputs": [],
   "source": [
    "print(\"PMMoV_measured == 0 rows:\", (norm_factors_PMMoV[\"PMMoV_measured\"].fillna(0)==0).sum())\n",
    "print(\"PMMoV_norm_covid: inf =\", np.isinf(df_combined[\"PMMoV_norm_covid\"]).sum(),\n",
    "      \"NaN =\", df_combined[\"PMMoV_norm_covid\"].isna().sum())\n",
    "print(\"flow_norm_covid: inf =\", np.isinf(df_combined[\"flow_norm_covid\"]).sum(),\n",
    "      \"NaN =\", df_combined[\"flow_norm_covid\"].isna().sum())"
   ]
  },
  {
   "cell_type": "code",
   "execution_count": null,
   "metadata": {
    "ExecuteTime": {
     "end_time": "2025-08-25T14:57:16.705549Z",
     "start_time": "2025-08-25T14:55:09.668861Z"
    }
   },
   "outputs": [],
   "source": [
    "# df_combined.to_csv(os.path.join(substances_dir, \"decay_Rain_output_scaled_norm.csv\"))"
   ]
  },
  {
   "cell_type": "code",
   "execution_count": null,
   "metadata": {
    "ExecuteTime": {
     "end_time": "2025-09-02T12:15:30.244703Z",
     "start_time": "2025-09-02T12:15:30.234318Z"
    }
   },
   "outputs": [],
   "source": [
    "precipitation = pd.read_csv(\"rain/rain.txt\", decimal=\",\", sep=\";\", header=None, skiprows=1).reset_index()\n",
    "precipitation.columns = [\"date\", \"rain\"]\n",
    "precipitation['date'] = pd.date_range(start=start_date, periods=len(precipitation), freq=\"5min\")"
   ]
  },
  {
   "cell_type": "code",
   "execution_count": null,
   "metadata": {
    "ExecuteTime": {
     "end_time": "2025-08-26T08:29:45.798010Z",
     "start_time": "2025-08-26T08:29:05.814216Z"
    }
   },
   "outputs": [],
   "source": [
    "plt.style.use('default')\n",
    "set_fontsize()\n",
    "\n",
    "p95_envelope = (df_combined.groupby([\"location\", \"Date\"])[\"ref_covid\"].quantile(0.95).reset_index(name=\"p95\"))\n",
    "ref_max = p95_envelope[\"p95\"].max()\n",
    "ref_min = np.nanmin(df_combined[\"ref_covid\"].values)\n",
    "pad = 0.05 * max(ref_max - ref_min, 1.0)\n",
    "\n",
    "fig, axs = plt.subplots(nrows = 4, figsize = (7.5, 14), dpi = 300, sharex = True, sharey = False, gridspec_kw={\"height_ratios\": [1, 2, 2, 2]})\n",
    "\n",
    "ax_precip = axs[0]\n",
    "ax_precip.plot(precipitation[\"date\"], precipitation[\"rain\"], color=\"#874C82\")\n",
    "ax_precip.xaxis.set_major_locator(mdates.DayLocator(bymonthday=2))\n",
    "ax_precip.xaxis.set_major_formatter(mdates.DateFormatter(\"%d %b\"))\n",
    "ax_precip.set_ylabel(\"Precipitation [mm]\")\n",
    "\n",
    "for i, (sampling_location, ax) in enumerate(zip(sampling_locations, axs[1:])):\n",
    "\n",
    "    to_plot = df_combined[df_combined[\"location\"] == sampling_location].copy()\n",
    "    to_plot[\"Unnormalized\"] = to_plot[\"raw_covid\"] - to_plot[\"ref_covid\"]\n",
    "    to_plot[\"Normalized with PMMoV\"] = to_plot[\"PMMoV_norm_covid\"] - to_plot[\"ref_covid\"]\n",
    "    to_plot[\"Normalized with flow rates\"] = to_plot[\"flow_norm_covid\"] - to_plot[\"ref_covid\"]\n",
    "\n",
    "    diff_df = to_plot[[\"Date\", \"Unnormalized\", \"Normalized with PMMoV\", \"Normalized with flow rates\"]].melt(id_vars=\"Date\", var_name=\"Method\", value_name=\"Difference\")\n",
    "\n",
    "    ax.axhline(0, color='black', linestyle='--', linewidth=1, zorder=1)\n",
    "    sns.lineplot(data=diff_df, x=\"Date\", y=\"Difference\", hue=\"Method\", ax=ax, errorbar=(\"pi\", 90), hue_order=[\"Normalized with flow rates\", \"Unnormalized\", \"Normalized with PMMoV\"], palette=custom_palette)\n",
    "    ax.set_xlabel(\"\")\n",
    "    ax.xaxis.set_major_locator(mdates.DayLocator(bymonthday=2))\n",
    "    ax.xaxis.set_major_formatter(mdates.DateFormatter(\"%d %b\"))\n",
    "    ax.legend_.remove()\n",
    "    \n",
    "    escaped_location = sampling_location.replace('_', r'\\_')\n",
    "    ax.set_ylabel(f\"$\\\\mathbf{{Location:\\\\ {escaped_location}}}$\\n\\nΔ Virus levels [copies/l]\")\n",
    "\n",
    "    # --- inset: reference series (top-right corner)\n",
    "    # [left, bottom, width, height] in axes fraction coordinates\n",
    "    axin = ax.inset_axes([0.62, 0.67, 0.35, 0.25])\n",
    "    sns.lineplot(data=to_plot, x=\"Date\", y=\"ref_covid\", ax=axin, errorbar=(\"pi\", 90), color = \"#595959\", alpha = 0.5)\n",
    "\n",
    "    axin.set_ylim(ref_min - pad, ref_max + pad)\n",
    "\n",
    "    axin.set_title(\"Reference virus levels\", fontsize= 10, pad=2, fontstyle='italic', alpha=0.5)\n",
    "    \n",
    "    axin.tick_params(colors=\"0.5\")\n",
    "    axin.xaxis.set_major_locator(mdates.DayLocator(bymonthday=2))\n",
    "    axin.set_xlabel(\"\")\n",
    "    axin.set_ylabel(\"\")\n",
    "    axin.set_xticklabels([])\n",
    "    axin.tick_params(axis=\"x\", which=\"both\", labelsize=0)\n",
    "    axin.tick_params(axis=\"y\", labelsize=8)\n",
    "    axin.yaxis.set_major_locator(mticker.MaxNLocator(nbins=4))\n",
    "    for spine in axin.spines.values():\n",
    "        spine.set_alpha(0.5)\n",
    "\n",
    "fig.tight_layout()\n",
    "fig.align_ylabels(axs)\n",
    "fig.savefig(os.path.join(plot_path, \"diff_plot_all_locations_ref_inset.png\"), dpi=300)"
   ]
  },
  {
   "cell_type": "code",
   "execution_count": null,
   "metadata": {
    "ExecuteTime": {
     "end_time": "2025-09-02T12:15:36.453708Z",
     "start_time": "2025-09-02T12:15:36.424092Z"
    }
   },
   "outputs": [],
   "source": [
    "# calculate absolute error metrics\n",
    "df_combined[\"AE_raw\"] = abs(df_combined[\"raw_covid\"] - df_combined[\"ref_covid\"])\n",
    "df_combined[\"AE_PMMoV\"] = abs(df_combined[\"PMMoV_norm_covid\"] - df_combined[\"ref_covid\"])\n",
    "df_combined[\"AE_fr\"] = abs(df_combined[\"flow_norm_covid\"] - df_combined[\"ref_covid\"])"
   ]
  },
  {
   "cell_type": "code",
   "execution_count": null,
   "metadata": {
    "ExecuteTime": {
     "end_time": "2025-09-02T12:15:39.258894Z",
     "start_time": "2025-09-02T12:15:37.231552Z"
    }
   },
   "outputs": [],
   "source": [
    "# format metrics df for plotting\n",
    "df_metrics = df_combined[[\"time_in_days\", \"location\", \"simulation_id\", \"AE_raw\", \"AE_PMMoV\", \"AE_fr\"]]\n",
    "\n",
    "df_metrics_long = pd.melt(df_metrics, id_vars=[\"time_in_days\", \"location\", \"simulation_id\"], value_vars=[\"AE_raw\", \"AE_PMMoV\", \"AE_fr\"], var_name=\"category\", value_name=\"value\")\n",
    "\n",
    "df_metrics_long = df_metrics_long[df_metrics_long[\"location\"].isin(sampling_locations)]\n",
    "df_metrics_long[\"category\"] = df_metrics_long[\"category\"].replace({\"AE_raw\": \"Unnormalized\", \"AE_PMMoV\": \"Normalized with PMMoV\", \"AE_fr\": \"Normalized with flow rates\"})\n",
    "df_metrics_long = df_metrics_long.dropna(subset=[\"value\"])"
   ]
  },
  {
   "cell_type": "code",
   "execution_count": null,
   "metadata": {
    "ExecuteTime": {
     "end_time": "2025-09-02T12:15:39.893876Z",
     "start_time": "2025-09-02T12:15:39.886505Z"
    }
   },
   "outputs": [],
   "source": [
    "def crosscorr(data_x, data_y, lag=0):\n",
    "    return data_x.corr(data_y.shift(lag))\n",
    "\n",
    "def get_crosscorr_for_one_station(df_for_ccf, location, lags_in_hours, concentration_col):\n",
    "    df_for_ccf_sub = df_for_ccf.loc[df_for_ccf.location==location, :].sort_values(\"time_in_hours\")\n",
    "    return [crosscorr(df_for_ccf_sub[concentration_col], df_for_ccf_sub[\"prevalence\"], lag) for lag in lags_in_hours]\n",
    "\n",
    "def get_ccf_for_sel_stations(concentration_col):\n",
    "    results = []\n",
    "    for location in sampling_locations:\n",
    "        loc_corr = []\n",
    "        for sim in df_prevalence['memilio_id'].unique():\n",
    "            curr_sim_ww = df_combined.loc[df_combined['simulation_id'] == sim]\n",
    "            curr_sim_prev = df_prevalence.loc[df_prevalence['memilio_id'] == sim]\n",
    "            curr_combined = curr_sim_ww.merge(curr_sim_prev, left_on=\"time_in_hours\", right_on=\"t\", how=\"left\")\n",
    "            loc_corr.append(get_crosscorr_for_one_station(curr_combined, str(location), range(-max_lag_hours, max_lag_hours + 1, 1), concentration_col))\n",
    "        df_corr = pd.DataFrame(loc_corr)\n",
    "        results.append(df_corr.mean(axis = 0))\n",
    "    results = pd.DataFrame(results).transpose()\n",
    "    results.columns = sampling_locations\n",
    "    results[\"lag_in_h\"] = range(-max_lag_hours, max_lag_hours + 1, 1)\n",
    "    return results.set_index(\"lag_in_h\")"
   ]
  },
  {
   "cell_type": "code",
   "execution_count": null,
   "metadata": {
    "ExecuteTime": {
     "end_time": "2025-09-02T12:15:41.935331Z",
     "start_time": "2025-09-02T12:15:41.674032Z"
    }
   },
   "outputs": [],
   "source": [
    "# load in prevalence data\n",
    "def load_prevalence_data(memilio_id):\n",
    "    df = pd.read_csv(f\"../../raw_memilio_data/pop{memilio_pop}/comps/{memilio_id}_comps.csv\", sep=\" \", index_col=False)\n",
    "    \n",
    "    df = df[[\"t\", \"S\", \"E\", \"Ins\", \"Isy\", \"Isev\", \"Icri\", \"R\", \"D\"]]\n",
    "    df[\"prevalence\"] = df[\"E\"] + df[\"Ins\"] + df[\"Isy\"] + df[\"Isev\"] + df[\"Icri\"]\n",
    "    df[\"memilio_id\"] = memilio_id\n",
    "    \n",
    "    return df[[\"t\", \"memilio_id\", \"prevalence\"]]\n",
    "\n",
    "df_prevalence = pd.concat([load_prevalence_data(memilio_id) for memilio_id in range(1, 101)])"
   ]
  },
  {
   "cell_type": "code",
   "execution_count": null,
   "metadata": {
    "ExecuteTime": {
     "end_time": "2025-09-02T12:16:58.735100Z",
     "start_time": "2025-09-02T12:15:43.235608Z"
    }
   },
   "outputs": [],
   "source": [
    "# find ccf between prevalence data and 4 sets of ww data for selected sampling locations\n",
    "df_combined[\"time_in_hours\"] = df_combined[\"time_in_days\"] * 24\n",
    "max_lag_hours = 7 * 24\n",
    "\n",
    "ccf_raw = get_ccf_for_sel_stations(\"raw_covid\")\n",
    "ccf_PMMoV  = get_ccf_for_sel_stations(\"PMMoV_norm_covid\")\n",
    "ccf_fr  = get_ccf_for_sel_stations(\"flow_norm_covid\")\n",
    "ccf_ref  = get_ccf_for_sel_stations(\"ref_covid\")"
   ]
  },
  {
   "cell_type": "code",
   "execution_count": null,
   "metadata": {
    "ExecuteTime": {
     "end_time": "2025-09-02T12:18:13.465167Z",
     "start_time": "2025-09-02T12:18:13.449655Z"
    }
   },
   "outputs": [],
   "source": [
    "# format ccfs for plotting\n",
    "for df_ccf, name in zip([ccf_ref, ccf_raw, ccf_PMMoV, ccf_fr], [\"Reference\", \"Unnormalized\", \"Normalized with PMMoV\", \"Normalized with flow rates\"]):\n",
    "    df_ccf[\"scenario\"] = name\n",
    "\n",
    "all_ccf_df = pd.concat([ccf_ref, ccf_raw, ccf_PMMoV, ccf_fr])\n",
    "\n",
    "max_ccfs = all_ccf_df.groupby('scenario')[sampling_locations].max().reset_index()\n",
    "max_ccfs_long = pd.melt(max_ccfs, id_vars=[\"scenario\"], value_vars= sampling_locations, var_name=\"location\", value_name=\"max_ccf\")\n",
    "\n",
    "ccf_cols = [col for col in max_ccfs.columns if col != 'scenario']\n",
    "ref_ccfs = max_ccfs.loc[max_ccfs['scenario'] == 'Reference', ccf_cols].iloc[0]\n",
    "ccf_diffs = max_ccfs.copy()\n",
    "ccf_diffs[ccf_cols] = ref_ccfs - ccf_diffs[ccf_cols] \n",
    "ccf_diffs_long = pd.melt(ccf_diffs, id_vars=[\"scenario\"], value_vars= sampling_locations, var_name=\"location\", value_name=\"ccf_diff\")\n",
    "ccf_diffs_long = ccf_diffs_long[ccf_diffs_long['scenario'] != 'Reference']\n",
    "max_ccfs_long.head(30)"
   ]
  },
  {
   "cell_type": "code",
   "execution_count": null,
   "metadata": {
    "ExecuteTime": {
     "end_time": "2025-08-26T08:32:04.189055Z",
     "start_time": "2025-08-26T08:32:03.761415Z"
    }
   },
   "outputs": [],
   "source": [
    "precipitation = precipitation.set_index(\"date\")\n",
    "precipitation[\"cumulative_rain\"] = precipitation[\"rain\"].rolling(\"1h\").sum()\n",
    "precipitation = precipitation.reset_index()\n",
    "df_combined = pd.merge(df_combined, precipitation, left_on=\"Date\", right_on = \"date\", how = \"left\")"
   ]
  },
  {
   "cell_type": "code",
   "execution_count": null,
   "metadata": {
    "ExecuteTime": {
     "end_time": "2025-08-26T08:35:01.198126Z",
     "start_time": "2025-08-26T08:34:44.856912Z"
    }
   },
   "outputs": [],
   "source": [
    "plt.style.use('default')\n",
    "set_fontsize()\n",
    "\n",
    "fig = plt.figure(figsize=(8.5, 13.3), dpi=300, constrained_layout=True)\n",
    "gs = fig.add_gridspec(3, 3, height_ratios=[1, 1, 1])  \n",
    "\n",
    "# CCF bar plot\n",
    "ax2 = fig.add_subplot(gs[0, :]) \n",
    "sns.barplot(x='location', y='ccf_diff', data=ccf_diffs_long, \n",
    "            hue='scenario', hue_order=[\"Unnormalized\", \"Normalized with PMMoV\", \"Normalized with flow rates\"], \n",
    "            palette=custom_palette, ax=ax2)\n",
    "ax2.set_ylabel(\"Δ Max. pearson correlation\")\n",
    "ax2.set_xlabel(\" \")\n",
    "ax2.set_xticklabels([])\n",
    "ax2.yaxis.set_major_locator(ticker.MultipleLocator(0.05)) \n",
    "padding = (ccf_diffs_long[\"ccf_diff\"].max() - ccf_diffs_long[\"ccf_diff\"].min()) * 0.05\n",
    "ax2.set_ylim(ccf_diffs_long[\"ccf_diff\"].min() - 0.01, ccf_diffs_long[\"ccf_diff\"].max() + 0.03)\n",
    "for container in ax2.containers:\n",
    "    ax2.bar_label(container, fmt=\"%.3f\", label_type='edge', padding=2, fontsize=12)\n",
    "ax2.legend_.remove()\n",
    "\n",
    "# AE box plot\n",
    "ax1 = fig.add_subplot(gs[1, :]) \n",
    "sns.boxplot(x=\"location\", y=\"value\", hue=\"category\", palette=custom_palette, \n",
    "            data=df_metrics_long, ax=ax1, order=sampling_locations, \n",
    "            showmeans=True, \n",
    "            meanprops={'markerfacecolor':\"#8B4513\",'markeredgecolor':\"#8B4513\", 'markersize': 8})\n",
    "ax1.set_ylabel(\"Absolute error\")\n",
    "ax1.set_xlabel(\" \")\n",
    "ax1.set_xticklabels([])\n",
    "ax1.set_yscale('symlog')\n",
    "ax1.set(ylim=(-1, 50000))\n",
    "ax1.legend_.remove()\n",
    "\n",
    "# AE vs. rain scatterplot\n",
    "ax_s0 = fig.add_subplot(gs[2, 0])\n",
    "ax_s1 = fig.add_subplot(gs[2, 1], sharey=ax_s0)\n",
    "ax_s2 = fig.add_subplot(gs[2, 2], sharey=ax_s0)\n",
    "axes_scatter = [ax_s0, ax_s1, ax_s2]\n",
    "\n",
    "bins = list(range(0, 101, 10)) + [np.inf]\n",
    "labels = [f\"{i}-{i+10}\" for i in range(0, 100, 10)] + [\"100+\"]\n",
    "\n",
    "scatter_colors = {\n",
    "    \"AE_raw\": custom_palette['Unnormalized'],\n",
    "    \"AE_PMMoV\": custom_palette['Normalized with PMMoV'],\n",
    "    \"AE_fr\": custom_palette['Normalized with flow rates']\n",
    "}\n",
    "\n",
    "for i, loc in enumerate(sampling_locations): \n",
    "    df = df_combined[df_combined[\"location\"] == loc].copy()\n",
    "    df[\"Rain_Category\"] = pd.cut(df[\"cumulative_rain\"], bins=bins, labels=labels, right=False)\n",
    "    mean_errors = df.groupby(\"Rain_Category\", observed=False)[[\"AE_raw\", \"AE_PMMoV\", \"AE_fr\"]].mean()\n",
    "\n",
    "    ax = axes_scatter[i]\n",
    "    for col in mean_errors.columns:\n",
    "        ax.plot(mean_errors.index.astype(str), mean_errors[col], marker='o', label=col, color=scatter_colors[col])\n",
    "        \n",
    "    ticks = np.arange(len(labels))\n",
    "    ax.set_xticks(ticks)\n",
    "    ax.set_xticklabels([label if j % 2 == 0 else \"\" for j, label in enumerate(labels)], rotation=45)\n",
    "\n",
    "    #ax.set_title(f\"Location: {loc}\")\n",
    "    ax.set_xlabel(\"Rain in past hour [mm]\")\n",
    "    if i == 0:\n",
    "        ax.set_ylabel(\"Mean absolute error\")\n",
    "    else:\n",
    "        ax.set_ylabel(\"\")\n",
    "        ax.yaxis.set_tick_params(labelleft=False)\n",
    "\n",
    "fig.savefig(os.path.join(plot_path, \"norm_summary_combined.png\"), dpi=300)\n",
    "plt.show()"
   ]
  }
 ],
 "metadata": {
  "kernelspec": {
   "display_name": ".venv (3.12.3)",
   "language": "python",
   "name": "python3"
  },
  "language_info": {
   "codemirror_mode": {
    "name": "ipython",
    "version": 3
   },
   "file_extension": ".py",
   "mimetype": "text/x-python",
   "name": "python",
   "nbconvert_exporter": "python",
   "pygments_lexer": "ipython3",
   "version": "3.12.3"
  }
 },
 "nbformat": 4,
 "nbformat_minor": 2
}

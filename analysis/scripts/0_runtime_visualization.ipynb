{
 "cells": [
  {
   "cell_type": "code",
   "execution_count": 1,
   "id": "8bedefac",
   "metadata": {},
   "outputs": [],
   "source": [
    "import pandas as pd\n",
    "import numpy as np\n",
    "import matplotlib.pyplot as plt\n",
    "import seaborn as sns\n",
    "import os\n",
    "\n",
    "from plotting_tools import * "
   ]
  },
  {
   "cell_type": "code",
   "execution_count": 2,
   "id": "a34cbc79",
   "metadata": {},
   "outputs": [],
   "source": [
    "runtimes = pd.DataFrame({\n",
    "    \"rain\": \"no_rain\",\n",
    "    \"decay\": \"no_decay\",\n",
    "    \"memilio_sim\": \"pop8\",\n",
    "    \"Reading\": 3+28/60,\n",
    "    \"Calculate hydraulics\": 13,\n",
    "    \"Calculate substances\": 2+28/60,\n",
    "    \"Writing\": 10/60,\n",
    "}, index=[0])\n",
    "\n",
    "runtimes2 = pd.DataFrame({\n",
    "    \"rain\": \"rain\",\n",
    "    \"decay\": \"decay\",\n",
    "    \"memilio_sim\": \"pop8\",\n",
    "    \"Reading\": 3+12/60,\n",
    "    \"Calculate hydraulics\": 12,\n",
    "    \"Calculate substances\": 5+24/60,\n",
    "    \"Writing\": 8/60,\n",
    "}, index=[1])\n",
    "\n",
    "runtimes3 = pd.DataFrame({\n",
    "    \"rain\": \"rain\",\n",
    "    \"decay\": \"decay\",\n",
    "    \"memilio_sim\": \"pop8_local\",\n",
    "    \"Reading\": 7+21/60,\n",
    "    \"Calculate hydraulics\": 12,\n",
    "    \"Calculate substances\": 5+32/60,\n",
    "    \"Writing\": 8/60,\n",
    "}, index=[2])\n",
    "\n",
    "runtimes4 = pd.DataFrame({\n",
    "    \"rain\": \"rain\",\n",
    "    \"decay\": \"no_decay\",\n",
    "    \"memilio_sim\": \"pop8\",\n",
    "    \"Reading\": 3+12/60,\n",
    "    \"Calculate hydraulics\": 11,\n",
    "    \"Calculate substances\": 3+43/60,\n",
    "    \"Writing\": 8/60,\n",
    "}, index=[3])\n"
   ]
  },
  {
   "cell_type": "code",
   "execution_count": 3,
   "id": "5fd10d9b",
   "metadata": {},
   "outputs": [],
   "source": [
    "runtimes_long = pd.concat([runtimes, runtimes2, runtimes3, runtimes4], axis=0).melt(id_vars=[\"rain\", \"decay\", \"memilio_sim\"])"
   ]
  },
  {
   "cell_type": "code",
   "execution_count": 4,
   "id": "85031bbe",
   "metadata": {},
   "outputs": [
    {
     "data": {
      "text/html": [
       "<div>\n",
       "<style scoped>\n",
       "    .dataframe tbody tr th:only-of-type {\n",
       "        vertical-align: middle;\n",
       "    }\n",
       "\n",
       "    .dataframe tbody tr th {\n",
       "        vertical-align: top;\n",
       "    }\n",
       "\n",
       "    .dataframe thead th {\n",
       "        text-align: right;\n",
       "    }\n",
       "</style>\n",
       "<table border=\"1\" class=\"dataframe\">\n",
       "  <thead>\n",
       "    <tr style=\"text-align: right;\">\n",
       "      <th></th>\n",
       "      <th>rain</th>\n",
       "      <th>decay</th>\n",
       "      <th>memilio_sim</th>\n",
       "      <th>variable</th>\n",
       "      <th>value</th>\n",
       "    </tr>\n",
       "  </thead>\n",
       "  <tbody>\n",
       "    <tr>\n",
       "      <th>0</th>\n",
       "      <td>no_rain</td>\n",
       "      <td>no_decay</td>\n",
       "      <td>pop8</td>\n",
       "      <td>Reading</td>\n",
       "      <td>3.466667</td>\n",
       "    </tr>\n",
       "    <tr>\n",
       "      <th>1</th>\n",
       "      <td>rain</td>\n",
       "      <td>decay</td>\n",
       "      <td>pop8</td>\n",
       "      <td>Reading</td>\n",
       "      <td>3.200000</td>\n",
       "    </tr>\n",
       "    <tr>\n",
       "      <th>2</th>\n",
       "      <td>rain</td>\n",
       "      <td>decay</td>\n",
       "      <td>pop8_local</td>\n",
       "      <td>Reading</td>\n",
       "      <td>7.350000</td>\n",
       "    </tr>\n",
       "    <tr>\n",
       "      <th>3</th>\n",
       "      <td>rain</td>\n",
       "      <td>no_decay</td>\n",
       "      <td>pop8</td>\n",
       "      <td>Reading</td>\n",
       "      <td>3.200000</td>\n",
       "    </tr>\n",
       "    <tr>\n",
       "      <th>4</th>\n",
       "      <td>no_rain</td>\n",
       "      <td>no_decay</td>\n",
       "      <td>pop8</td>\n",
       "      <td>Calculate hydraulics</td>\n",
       "      <td>13.000000</td>\n",
       "    </tr>\n",
       "  </tbody>\n",
       "</table>\n",
       "</div>"
      ],
      "text/plain": [
       "      rain     decay memilio_sim              variable      value\n",
       "0  no_rain  no_decay        pop8               Reading   3.466667\n",
       "1     rain     decay        pop8               Reading   3.200000\n",
       "2     rain     decay  pop8_local               Reading   7.350000\n",
       "3     rain  no_decay        pop8               Reading   3.200000\n",
       "4  no_rain  no_decay        pop8  Calculate hydraulics  13.000000"
      ]
     },
     "execution_count": 4,
     "metadata": {},
     "output_type": "execute_result"
    }
   ],
   "source": [
    "runtimes_long.head()"
   ]
  },
  {
   "cell_type": "code",
   "execution_count": 5,
   "id": "271b2c01",
   "metadata": {},
   "outputs": [],
   "source": [
    "runtimes_sub = runtimes_long.loc[(runtimes_long.memilio_sim==\"pop8\")&(runtimes_long.decay==\"no_decay\")]"
   ]
  },
  {
   "cell_type": "code",
   "execution_count": 6,
   "id": "2ce03923",
   "metadata": {},
   "outputs": [
    {
     "name": "stderr",
     "output_type": "stream",
     "text": [
      "/tmp/ipykernel_17400/2276806194.py:1: SettingWithCopyWarning: \n",
      "A value is trying to be set on a copy of a slice from a DataFrame.\n",
      "Try using .loc[row_indexer,col_indexer] = value instead\n",
      "\n",
      "See the caveats in the documentation: https://pandas.pydata.org/pandas-docs/stable/user_guide/indexing.html#returning-a-view-versus-a-copy\n",
      "  runtimes_sub.variable = runtimes_sub.variable.apply(lambda x: x.replace(\" \", \"\\n\"))\n",
      "/tmp/ipykernel_17400/2276806194.py:2: SettingWithCopyWarning: \n",
      "A value is trying to be set on a copy of a slice from a DataFrame.\n",
      "Try using .loc[row_indexer,col_indexer] = value instead\n",
      "\n",
      "See the caveats in the documentation: https://pandas.pydata.org/pandas-docs/stable/user_guide/indexing.html#returning-a-view-versus-a-copy\n",
      "  runtimes_sub.rain = runtimes_sub.rain.apply(lambda x: x.replace(\"_\", \" \"))\n",
      "/tmp/ipykernel_17400/2276806194.py:3: SettingWithCopyWarning: \n",
      "A value is trying to be set on a copy of a slice from a DataFrame.\n",
      "Try using .loc[row_indexer,col_indexer] = value instead\n",
      "\n",
      "See the caveats in the documentation: https://pandas.pydata.org/pandas-docs/stable/user_guide/indexing.html#returning-a-view-versus-a-copy\n",
      "  runtimes_sub.rain = runtimes_sub.rain.apply(lambda x: x.replace(\"rain\", \"precipitation\"))\n",
      "/tmp/ipykernel_17400/2276806194.py:4: SettingWithCopyWarning: \n",
      "A value is trying to be set on a copy of a slice from a DataFrame.\n",
      "Try using .loc[row_indexer,col_indexer] = value instead\n",
      "\n",
      "See the caveats in the documentation: https://pandas.pydata.org/pandas-docs/stable/user_guide/indexing.html#returning-a-view-versus-a-copy\n",
      "  runtimes_sub.rain = runtimes_sub.rain.apply(lambda x: x[0].upper() + x[1:] if x else x)\n"
     ]
    }
   ],
   "source": [
    "runtimes_sub.variable = runtimes_sub.variable.apply(lambda x: x.replace(\" \", \"\\n\"))\n",
    "runtimes_sub.rain = runtimes_sub.rain.apply(lambda x: x.replace(\"_\", \" \"))\n",
    "runtimes_sub.rain = runtimes_sub.rain.apply(lambda x: x.replace(\"rain\", \"precipitation\"))\n",
    "runtimes_sub.rain = runtimes_sub.rain.apply(lambda x: x[0].upper() + x[1:] if x else x)"
   ]
  },
  {
   "cell_type": "code",
   "execution_count": 16,
   "id": "ef3ce9e8",
   "metadata": {},
   "outputs": [
    {
     "data": {
      "image/png": "[encoded data removed]",
      "text/plain": [
       "<Figure size 300x389 with 1 Axes>"
      ]
     },
     "metadata": {},
     "output_type": "display_data"
    }
   ],
   "source": [
    "fig, ax = plt.subplots(figsize=(3, 3.89))  # Swap width/height for vertical space\n",
    "\n",
    "barplot = sns.barplot(\n",
    "    data=runtimes_sub,\n",
    "    x=\"value\",                  # Now the quantitative variable\n",
    "    y=\"variable\",               # Now the categorical variable\n",
    "    hue=\"rain\",\n",
    "    palette={\"Precipitation\": blue, \"No precipitation\": tan},\n",
    "    ax=ax,\n",
    "    legend=None,\n",
    "    orient=\"h\"                  # Explicitly set horizontal orientation\n",
    ")\n",
    "\n",
    "ax.set_xlabel(\"Runtime per\\nsimulation [min]\", fontdict={\"fontsize\": 15*0.8})\n",
    "ax.set_ylabel(\"\")\n",
    "#ax.legend(title=None)\n",
    "\n",
    "plt.tight_layout()\n",
    "plt.savefig(\n",
    "    os.path.join(\"..\", \"plots\", \"pop8\", \"runtime_visualization_horizontal.png\"),\n",
    "    bbox_inches=\"tight\",\n",
    "    dpi=300\n",
    ")\n"
   ]
  },
  {
   "cell_type": "code",
   "execution_count": null,
   "id": "52addc65",
   "metadata": {},
   "outputs": [],
   "source": []
  }
 ],
 "metadata": {
  "kernelspec": {
   "display_name": ".venv (3.12.3)",
   "language": "python",
   "name": "python3"
  },
  "language_info": {
   "codemirror_mode": {
    "name": "ipython",
    "version": 3
   },
   "file_extension": ".py",
   "mimetype": "text/x-python",
   "name": "python",
   "nbconvert_exporter": "python",
   "pygments_lexer": "ipython3",
   "version": "3.12.3"
  }
 },
 "nbformat": 4,
 "nbformat_minor": 5
}

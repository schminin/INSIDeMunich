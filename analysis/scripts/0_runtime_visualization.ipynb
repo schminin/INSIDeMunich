{
 "cells": [
  {
   "cell_type": "code",
   "execution_count": 1,
   "id": "8bedefac",
   "metadata": {},
   "outputs": [],
   "source": [
    "import pandas as pd\n",
    "import numpy as np\n",
    "import matplotlib.pyplot as plt\n",
    "import seaborn as sns\n",
    "import os\n",
    "\n",
    "from plotting_tools import * "
   ]
  },
  {
   "cell_type": "code",
   "execution_count": 7,
   "id": "a34cbc79",
   "metadata": {},
   "outputs": [],
   "source": [
    "runtimes = pd.DataFrame({\n",
    "    \"rain\": \"no_rain\",\n",
    "    \"decay\": \"no_decay\",\n",
    "    \"memilio_sim\": \"pop8\",\n",
    "    \"Reading\": 3+28/60,\n",
    "    \"Calculate hydraulics\": 13,\n",
    "    \"Calculate substances\": 2+28/60,\n",
    "    \"Writing\": 10/60,\n",
    "}, index=[0])\n",
    "\n",
    "runtimes2 = pd.DataFrame({\n",
    "    \"rain\": \"rain\",\n",
    "    \"decay\": \"decay\",\n",
    "    \"memilio_sim\": \"pop8\",\n",
    "    \"Reading\": 3+12/60,\n",
    "    \"Calculate hydraulics\": 12,\n",
    "    \"Calculate substances\": 5+24/60,\n",
    "    \"Writing\": 8/60,\n",
    "}, index=[1])\n",
    "\n",
    "runtimes3 = pd.DataFrame({\n",
    "    \"rain\": \"rain\",\n",
    "    \"decay\": \"decay\",\n",
    "    \"memilio_sim\": \"pop8_local\",\n",
    "    \"Reading\": 7+21/60,\n",
    "    \"Calculate hydraulics\": 12,\n",
    "    \"Calculate substances\": 5+32/60,\n",
    "    \"Writing\": 8/60,\n",
    "}, index=[2])\n",
    "\n",
    "runtimes4 = pd.DataFrame({\n",
    "    \"rain\": \"rain\",\n",
    "    \"decay\": \"no_decay\",\n",
    "    \"memilio_sim\": \"pop8\",\n",
    "    \"Reading\": 3+12/60,\n",
    "    \"Calculate hydraulics\": 11,\n",
    "    \"Calculate substances\": 3+43/60,\n",
    "    \"Writing\": 8/60,\n",
    "}, index=[3])\n"
   ]
  },
  {
   "cell_type": "code",
   "execution_count": 8,
   "id": "5fd10d9b",
   "metadata": {},
   "outputs": [],
   "source": [
    "runtimes_long = pd.concat([runtimes, runtimes2, runtimes3, runtimes4], axis=0).melt(id_vars=[\"rain\", \"decay\", \"memilio_sim\"])"
   ]
  },
  {
   "cell_type": "code",
   "execution_count": 9,
   "id": "85031bbe",
   "metadata": {},
   "outputs": [
    {
     "data": {
      "text/html": [
       "<div>\n",
       "<style scoped>\n",
       "    .dataframe tbody tr th:only-of-type {\n",
       "        vertical-align: middle;\n",
       "    }\n",
       "\n",
       "    .dataframe tbody tr th {\n",
       "        vertical-align: top;\n",
       "    }\n",
       "\n",
       "    .dataframe thead th {\n",
       "        text-align: right;\n",
       "    }\n",
       "</style>\n",
       "<table border=\"1\" class=\"dataframe\">\n",
       "  <thead>\n",
       "    <tr style=\"text-align: right;\">\n",
       "      <th></th>\n",
       "      <th>rain</th>\n",
       "      <th>decay</th>\n",
       "      <th>memilio_sim</th>\n",
       "      <th>variable</th>\n",
       "      <th>value</th>\n",
       "    </tr>\n",
       "  </thead>\n",
       "  <tbody>\n",
       "    <tr>\n",
       "      <th>0</th>\n",
       "      <td>no_rain</td>\n",
       "      <td>no_decay</td>\n",
       "      <td>pop8</td>\n",
       "      <td>Reading</td>\n",
       "      <td>3.466667</td>\n",
       "    </tr>\n",
       "    <tr>\n",
       "      <th>1</th>\n",
       "      <td>rain</td>\n",
       "      <td>decay</td>\n",
       "      <td>pop8</td>\n",
       "      <td>Reading</td>\n",
       "      <td>3.200000</td>\n",
       "    </tr>\n",
       "    <tr>\n",
       "      <th>2</th>\n",
       "      <td>rain</td>\n",
       "      <td>decay</td>\n",
       "      <td>pop8_local</td>\n",
       "      <td>Reading</td>\n",
       "      <td>7.350000</td>\n",
       "    </tr>\n",
       "    <tr>\n",
       "      <th>3</th>\n",
       "      <td>rain</td>\n",
       "      <td>no_decay</td>\n",
       "      <td>pop8</td>\n",
       "      <td>Reading</td>\n",
       "      <td>3.200000</td>\n",
       "    </tr>\n",
       "    <tr>\n",
       "      <th>4</th>\n",
       "      <td>no_rain</td>\n",
       "      <td>no_decay</td>\n",
       "      <td>pop8</td>\n",
       "      <td>Calculate hydraulics</td>\n",
       "      <td>13.000000</td>\n",
       "    </tr>\n",
       "  </tbody>\n",
       "</table>\n",
       "</div>"
      ],
      "text/plain": [
       "      rain     decay memilio_sim              variable      value\n",
       "0  no_rain  no_decay        pop8               Reading   3.466667\n",
       "1     rain     decay        pop8               Reading   3.200000\n",
       "2     rain     decay  pop8_local               Reading   7.350000\n",
       "3     rain  no_decay        pop8               Reading   3.200000\n",
       "4  no_rain  no_decay        pop8  Calculate hydraulics  13.000000"
      ]
     },
     "execution_count": 9,
     "metadata": {},
     "output_type": "execute_result"
    }
   ],
   "source": [
    "runtimes_long.head()"
   ]
  },
  {
   "cell_type": "code",
   "execution_count": 10,
   "id": "271b2c01",
   "metadata": {},
   "outputs": [],
   "source": [
    "runtimes_sub = runtimes_long.loc[(runtimes_long.memilio_sim==\"pop8\")&(runtimes_long.decay==\"no_decay\")]"
   ]
  },
  {
   "cell_type": "code",
   "execution_count": 11,
   "id": "2ce03923",
   "metadata": {},
   "outputs": [
    {
     "name": "stderr",
     "output_type": "stream",
     "text": [
      "/tmp/ipykernel_42074/3459148759.py:1: SettingWithCopyWarning: \n",
      "A value is trying to be set on a copy of a slice from a DataFrame.\n",
      "Try using .loc[row_indexer,col_indexer] = value instead\n",
      "\n",
      "See the caveats in the documentation: https://pandas.pydata.org/pandas-docs/stable/user_guide/indexing.html#returning-a-view-versus-a-copy\n",
      "  runtimes_sub.variable = runtimes_sub.variable.apply(lambda x: x.replace(\" \", \"\\n\"))\n",
      "/tmp/ipykernel_42074/3459148759.py:2: SettingWithCopyWarning: \n",
      "A value is trying to be set on a copy of a slice from a DataFrame.\n",
      "Try using .loc[row_indexer,col_indexer] = value instead\n",
      "\n",
      "See the caveats in the documentation: https://pandas.pydata.org/pandas-docs/stable/user_guide/indexing.html#returning-a-view-versus-a-copy\n",
      "  runtimes_sub.rain = runtimes_sub.rain.apply(lambda x: x.replace(\"_\", \" \"))\n",
      "/tmp/ipykernel_42074/3459148759.py:3: SettingWithCopyWarning: \n",
      "A value is trying to be set on a copy of a slice from a DataFrame.\n",
      "Try using .loc[row_indexer,col_indexer] = value instead\n",
      "\n",
      "See the caveats in the documentation: https://pandas.pydata.org/pandas-docs/stable/user_guide/indexing.html#returning-a-view-versus-a-copy\n",
      "  runtimes_sub.rain = runtimes_sub.rain.apply(lambda x: x.replace(\"rain\", \"precipitation\"))\n"
     ]
    }
   ],
   "source": [
    "runtimes_sub.variable = runtimes_sub.variable.apply(lambda x: x.replace(\" \", \"\\n\"))\n",
    "runtimes_sub.rain = runtimes_sub.rain.apply(lambda x: x.replace(\"_\", \" \"))\n",
    "runtimes_sub.rain = runtimes_sub.rain.apply(lambda x: x.replace(\"rain\", \"precipitation\"))"
   ]
  },
  {
   "cell_type": "code",
   "execution_count": 16,
   "id": "f139e15e",
   "metadata": {},
   "outputs": [
    {
     "name": "stderr",
     "output_type": "stream",
     "text": [
      "/tmp/ipykernel_42074/3831672833.py:13: UserWarning: set_ticklabels() should only be used with a fixed number of ticks, i.e. after set_ticks() or using a FixedLocator.\n",
      "  ax.set_xticklabels(ax.get_xticklabels(), rotation=45, ha='right')\n"
     ]
    },
    {
     "data": {
      "image/png": "[encoded data removed]",
      "text/plain": [
       "<Figure size 472.441x354.331 with 1 Axes>"
      ]
     },
     "metadata": {},
     "output_type": "display_data"
    }
   ],
   "source": [
    "fig, ax = plt.subplots(figsize=(6*cm, 4.5*cm))\n",
    "\n",
    "barplot = sns.barplot(\n",
    "    data=runtimes_sub,\n",
    "    x=\"variable\",\n",
    "    y=\"value\",\n",
    "    hue=\"rain\",\n",
    "    palette={\"no precipitation\": green, \"precipitation\": blue},\n",
    "    ax=ax,\n",
    ")\n",
    "ax.set_ylabel(\"Runtime per\\nsimulation [min]\")\n",
    "ax.set_xlabel(\"\")\n",
    "ax.set_xticklabels(ax.get_xticklabels(), rotation=45, ha='right')\n",
    "ax.legend(title=None)\n",
    "\n",
    "plt.tight_layout()\n",
    "plt.savefig(os.path.join(\"..\", \"plots\", \"pop8\", \"runtime_visualization.png\"), bbox_inches=\"tight\", dpi=300)"
   ]
  },
  {
   "cell_type": "code",
   "execution_count": null,
   "id": "52addc65",
   "metadata": {},
   "outputs": [],
   "source": []
  }
 ],
 "metadata": {
  "kernelspec": {
   "display_name": ".venv (3.12.3)",
   "language": "python",
   "name": "python3"
  },
  "language_info": {
   "codemirror_mode": {
    "name": "ipython",
    "version": 3
   },
   "file_extension": ".py",
   "mimetype": "text/x-python",
   "name": "python",
   "nbconvert_exporter": "python",
   "pygments_lexer": "ipython3",
   "version": "3.12.3"
  }
 },
 "nbformat": 4,
 "nbformat_minor": 5
}

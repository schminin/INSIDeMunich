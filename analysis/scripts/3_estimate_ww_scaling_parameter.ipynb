{
 "cells": [
  {
   "cell_type": "code",
   "execution_count": 57,
   "id": "719417f3",
   "metadata": {},
   "outputs": [],
   "source": [
    "import pandas as pd\n",
    "import numpy as np\n",
    "import matplotlib.pyplot as plt\n",
    "import seaborn as sns\n",
    "import os\n",
    "\n",
    "from plotting_tools import * "
   ]
  },
  {
   "cell_type": "code",
   "execution_count": 58,
   "id": "18811157",
   "metadata": {},
   "outputs": [],
   "source": [
    "import scipy.stats as stats"
   ]
  },
  {
   "cell_type": "code",
   "execution_count": 59,
   "id": "cfb1fa3e",
   "metadata": {},
   "outputs": [],
   "source": [
    "experiment_series =\"pop8\"\n",
    "precipitation_setting = \"Rain\"\n",
    "decay_setting = \"decay\""
   ]
  },
  {
   "cell_type": "code",
   "execution_count": 60,
   "id": "2c4b1c7e",
   "metadata": {},
   "outputs": [],
   "source": [
    "result_path = f\"../../preprocessing/preprocessed_data/{experiment_series}\"\n",
    "\n",
    "df_simulations = pd.read_csv(f\"{result_path}/substances/{decay_setting}_{precipitation_setting}_output.csv\")\n",
    "df_simulations = df_simulations.loc[df_simulations[\"variable\"]==\"COV19\"]\n",
    "df_simulations[\"Location\"] = df_simulations.manhole.apply(lambda x: manhole_names[x] if x in manhole_names else x)\n",
    "df_simulations[\"Date\"] = pd.to_datetime(start_date) + pd.to_timedelta(df_simulations[\"time_in_minutes\"], unit=\"min\")\n",
    "\n",
    "df_measurements = pd.read_csv(f\"{result_path}/../concentration_measurements.csv\")\n",
    "\n",
    "# df_simulations = df_simulations.loc[df_simulations[\"Location\"].isin(df_measurements[\"Location\"].unique())]"
   ]
  },
  {
   "cell_type": "code",
   "execution_count": 61,
   "id": "95bb0482",
   "metadata": {},
   "outputs": [],
   "source": [
    "df_measurements[\"sampling_timepoint\"] = pd.to_datetime(df_measurements.Date)\n",
    "df_measurements.rename(columns={\"Value\": \"value\"}, inplace=True)"
   ]
  },
  {
   "cell_type": "code",
   "execution_count": 62,
   "id": "dbd6d2f1",
   "metadata": {},
   "outputs": [],
   "source": [
    "df_measurements = df_measurements.loc[df_measurements.value>75]"
   ]
  },
  {
   "cell_type": "code",
   "execution_count": 63,
   "id": "7b7f3abe",
   "metadata": {},
   "outputs": [
    {
     "name": "stderr",
     "output_type": "stream",
     "text": [
      "/tmp/ipykernel_15658/906119272.py:1: UserWarning: Pandas doesn't allow columns to be created via a new attribute name - see https://pandas.pydata.org/pandas-docs/stable/indexing.html#attribute-access\n",
      "  df_simulations.Hour = df_simulations.Date.dt.hour\n"
     ]
    }
   ],
   "source": [
    "df_simulations.Hour = df_simulations.Date.dt.hour\n",
    "df_simulations = df_simulations.loc[(df_simulations.Hour<=11)&(df_simulations.Hour>=9)]\n",
    "df_simulations.Date = pd.to_datetime(df_simulations.Date.dt.date)"
   ]
  },
  {
   "cell_type": "code",
   "execution_count": 64,
   "id": "ea28a128",
   "metadata": {},
   "outputs": [
    {
     "data": {
      "text/html": [
       "<div>\n",
       "<style scoped>\n",
       "    .dataframe tbody tr th:only-of-type {\n",
       "        vertical-align: middle;\n",
       "    }\n",
       "\n",
       "    .dataframe tbody tr th {\n",
       "        vertical-align: top;\n",
       "    }\n",
       "\n",
       "    .dataframe thead th {\n",
       "        text-align: right;\n",
       "    }\n",
       "</style>\n",
       "<table border=\"1\" class=\"dataframe\">\n",
       "  <thead>\n",
       "    <tr style=\"text-align: right;\">\n",
       "      <th></th>\n",
       "      <th>time_in_minutes</th>\n",
       "      <th>variable</th>\n",
       "      <th>value</th>\n",
       "      <th>manhole</th>\n",
       "      <th>time_in_days</th>\n",
       "      <th>simulation_id</th>\n",
       "      <th>Location</th>\n",
       "      <th>Date</th>\n",
       "    </tr>\n",
       "  </thead>\n",
       "  <tbody>\n",
       "    <tr>\n",
       "      <th>35</th>\n",
       "      <td>540</td>\n",
       "      <td>COV19</td>\n",
       "      <td>0.00000</td>\n",
       "      <td>MUC012</td>\n",
       "      <td>0.375000</td>\n",
       "      <td>1</td>\n",
       "      <td>N_Uc</td>\n",
       "      <td>2020-03-02</td>\n",
       "    </tr>\n",
       "    <tr>\n",
       "      <th>36</th>\n",
       "      <td>555</td>\n",
       "      <td>COV19</td>\n",
       "      <td>0.00000</td>\n",
       "      <td>MUC012</td>\n",
       "      <td>0.385417</td>\n",
       "      <td>1</td>\n",
       "      <td>N_Uc</td>\n",
       "      <td>2020-03-02</td>\n",
       "    </tr>\n",
       "    <tr>\n",
       "      <th>37</th>\n",
       "      <td>570</td>\n",
       "      <td>COV19</td>\n",
       "      <td>0.00000</td>\n",
       "      <td>MUC012</td>\n",
       "      <td>0.395833</td>\n",
       "      <td>1</td>\n",
       "      <td>N_Uc</td>\n",
       "      <td>2020-03-02</td>\n",
       "    </tr>\n",
       "    <tr>\n",
       "      <th>38</th>\n",
       "      <td>585</td>\n",
       "      <td>COV19</td>\n",
       "      <td>0.00000</td>\n",
       "      <td>MUC012</td>\n",
       "      <td>0.406250</td>\n",
       "      <td>1</td>\n",
       "      <td>N_Uc</td>\n",
       "      <td>2020-03-02</td>\n",
       "    </tr>\n",
       "    <tr>\n",
       "      <th>39</th>\n",
       "      <td>600</td>\n",
       "      <td>COV19</td>\n",
       "      <td>0.00000</td>\n",
       "      <td>MUC012</td>\n",
       "      <td>0.416667</td>\n",
       "      <td>1</td>\n",
       "      <td>N_Uc</td>\n",
       "      <td>2020-03-02</td>\n",
       "    </tr>\n",
       "    <tr>\n",
       "      <th>...</th>\n",
       "      <td>...</td>\n",
       "      <td>...</td>\n",
       "      <td>...</td>\n",
       "      <td>...</td>\n",
       "      <td>...</td>\n",
       "      <td>...</td>\n",
       "      <td>...</td>\n",
       "      <td>...</td>\n",
       "    </tr>\n",
       "    <tr>\n",
       "      <th>30023312</th>\n",
       "      <td>131685</td>\n",
       "      <td>COV19</td>\n",
       "      <td>219.94832</td>\n",
       "      <td>MUC616</td>\n",
       "      <td>91.447917</td>\n",
       "      <td>100</td>\n",
       "      <td>S_M1</td>\n",
       "      <td>2020-06-01</td>\n",
       "    </tr>\n",
       "    <tr>\n",
       "      <th>30023313</th>\n",
       "      <td>131700</td>\n",
       "      <td>COV19</td>\n",
       "      <td>221.27918</td>\n",
       "      <td>MUC616</td>\n",
       "      <td>91.458333</td>\n",
       "      <td>100</td>\n",
       "      <td>S_M1</td>\n",
       "      <td>2020-06-01</td>\n",
       "    </tr>\n",
       "    <tr>\n",
       "      <th>30023314</th>\n",
       "      <td>131715</td>\n",
       "      <td>COV19</td>\n",
       "      <td>222.74467</td>\n",
       "      <td>MUC616</td>\n",
       "      <td>91.468750</td>\n",
       "      <td>100</td>\n",
       "      <td>S_M1</td>\n",
       "      <td>2020-06-01</td>\n",
       "    </tr>\n",
       "    <tr>\n",
       "      <th>30023315</th>\n",
       "      <td>131730</td>\n",
       "      <td>COV19</td>\n",
       "      <td>224.24210</td>\n",
       "      <td>MUC616</td>\n",
       "      <td>91.479167</td>\n",
       "      <td>100</td>\n",
       "      <td>S_M1</td>\n",
       "      <td>2020-06-01</td>\n",
       "    </tr>\n",
       "    <tr>\n",
       "      <th>30023316</th>\n",
       "      <td>131745</td>\n",
       "      <td>COV19</td>\n",
       "      <td>225.65814</td>\n",
       "      <td>MUC616</td>\n",
       "      <td>91.489583</td>\n",
       "      <td>100</td>\n",
       "      <td>S_M1</td>\n",
       "      <td>2020-06-01</td>\n",
       "    </tr>\n",
       "  </tbody>\n",
       "</table>\n",
       "<p>1876800 rows × 8 columns</p>\n",
       "</div>"
      ],
      "text/plain": [
       "          time_in_minutes variable      value manhole  time_in_days  \\\n",
       "35                    540    COV19    0.00000  MUC012      0.375000   \n",
       "36                    555    COV19    0.00000  MUC012      0.385417   \n",
       "37                    570    COV19    0.00000  MUC012      0.395833   \n",
       "38                    585    COV19    0.00000  MUC012      0.406250   \n",
       "39                    600    COV19    0.00000  MUC012      0.416667   \n",
       "...                   ...      ...        ...     ...           ...   \n",
       "30023312           131685    COV19  219.94832  MUC616     91.447917   \n",
       "30023313           131700    COV19  221.27918  MUC616     91.458333   \n",
       "30023314           131715    COV19  222.74467  MUC616     91.468750   \n",
       "30023315           131730    COV19  224.24210  MUC616     91.479167   \n",
       "30023316           131745    COV19  225.65814  MUC616     91.489583   \n",
       "\n",
       "          simulation_id Location       Date  \n",
       "35                    1     N_Uc 2020-03-02  \n",
       "36                    1     N_Uc 2020-03-02  \n",
       "37                    1     N_Uc 2020-03-02  \n",
       "38                    1     N_Uc 2020-03-02  \n",
       "39                    1     N_Uc 2020-03-02  \n",
       "...                 ...      ...        ...  \n",
       "30023312            100     S_M1 2020-06-01  \n",
       "30023313            100     S_M1 2020-06-01  \n",
       "30023314            100     S_M1 2020-06-01  \n",
       "30023315            100     S_M1 2020-06-01  \n",
       "30023316            100     S_M1 2020-06-01  \n",
       "\n",
       "[1876800 rows x 8 columns]"
      ]
     },
     "execution_count": 64,
     "metadata": {},
     "output_type": "execute_result"
    }
   ],
   "source": [
    "df_simulations"
   ]
  },
  {
   "cell_type": "code",
   "execution_count": 65,
   "id": "556141d4",
   "metadata": {},
   "outputs": [],
   "source": [
    "df_res = pd.merge(df_simulations, df_measurements, how=\"left\", left_on=[\"Date\"], right_on=[\"sampling_timepoint\"], suffixes=(\"_sim\", \"_meas\"))"
   ]
  },
  {
   "cell_type": "code",
   "execution_count": 66,
   "id": "0cbe57df",
   "metadata": {},
   "outputs": [],
   "source": [
    "df_res = df_res.loc[df_res.value_meas.notna(), [\"Location_sim\", \"Location_meas\", \"simulation_id\", \"time_in_minutes\", \"value_meas\", \"value_sim\"]]"
   ]
  },
  {
   "cell_type": "code",
   "execution_count": 76,
   "id": "c234d9a4",
   "metadata": {},
   "outputs": [],
   "source": [
    "df_res = df_res.loc[df_res.value_sim!=0]"
   ]
  },
  {
   "cell_type": "code",
   "execution_count": 77,
   "id": "dbf80675",
   "metadata": {},
   "outputs": [
    {
     "name": "stdout",
     "output_type": "stream",
     "text": [
      "  Estimated scaling k = 1.100993\n",
      "Estimated log‐space σ = 1.436032\n"
     ]
    }
   ],
   "source": [
    "import numpy as np\n",
    "import pandas as pd\n",
    "from scipy.optimize import minimize\n",
    "\n",
    "meas = df_res['value_meas'].values\n",
    "sim  = df_res['value_sim'].values\n",
    "\n",
    "def neg_log_likelihood(params, meas, sim):\n",
    "    \"\"\"\n",
    "    Negative log-likelihood for:\n",
    "      meas_i ~ LogNormal(log(k*sim_i), sigma^2)\n",
    "    params = [ln_k, ln_sigma]\n",
    "    \"\"\"\n",
    "    ln_k, ln_sigma = params\n",
    "    sigma = np.exp(ln_sigma)\n",
    "    mu = ln_k + np.log(sim)\n",
    "    # drop the -ln(x) term since it doesn't depend on k or sigma\n",
    "    resid = (np.log(meas) - mu)\n",
    "    # NLL up to an additive constant:\n",
    "    return 0.5 * np.sum((resid/sigma)**2 + 2*ln_sigma)\n",
    "\n",
    "# initial guesses: use simple log‐ratio MLE for ln_k, and its std for ln_sigma\n",
    "initial_ln_k = 1.0\n",
    "initial_ln_sigma = np.log(np.log(meas/sim).std(ddof=0))\n",
    "x0 = np.array([initial_ln_k, initial_ln_sigma])\n",
    "\n",
    "# enforce sigma>0 but ln_sigma free; k>0 automatically via ln_k\n",
    "res = minimize(neg_log_likelihood, x0,\n",
    "               args=(meas, sim),\n",
    "               bounds=[(None, None), (None, None)])\n",
    "\n",
    "ln_k_opt, ln_sigma_opt = res.x\n",
    "k_opt = np.exp(ln_k_opt)\n",
    "sigma_opt = np.exp(ln_sigma_opt)\n",
    "\n",
    "print(f\"  Estimated scaling k = {k_opt:.6f}\")\n",
    "print(f\"Estimated log‐space σ = {sigma_opt:.6f}\")\n"
   ]
  },
  {
   "cell_type": "markdown",
   "id": "9cc051c5",
   "metadata": {},
   "source": [
    "## Apply scaling"
   ]
  },
  {
   "cell_type": "code",
   "execution_count": 80,
   "id": "13a776c6",
   "metadata": {},
   "outputs": [],
   "source": [
    "for setting in [\"decay_Rain\", \"no_decay_noRain\", \"no_decay_Rain\"]:\n",
    "    result_path = f\"../../preprocessing/preprocessed_data/pop8\"\n",
    "    df_simulations = pd.read_csv(f\"{result_path}/substances/{setting}_output.csv\")\n",
    "    df_simulations.value = df_simulations.value * k_opt\n",
    "    df_simulations.to_csv(f\"{result_path}/substances/{setting}_output_scaled.csv\", index=False)\n",
    "\n",
    "\n",
    "result_path = f\"../../preprocessing/preprocessed_data/pop8_local\"\n",
    "setting = \"decay_Rain\"\n",
    "df_simulations = pd.read_csv(f\"{result_path}/substances/{setting}_output.csv\")\n",
    "df_simulations.value = df_simulations.value * k_opt\n",
    "df_simulations.to_csv(f\"{result_path}/substances/{setting}_output_scaled.csv\", index=False)"
   ]
  },
  {
   "cell_type": "code",
   "execution_count": null,
   "id": "fdde59dc",
   "metadata": {},
   "outputs": [],
   "source": []
  }
 ],
 "metadata": {
  "kernelspec": {
   "display_name": ".venv (3.12.3)",
   "language": "python",
   "name": "python3"
  },
  "language_info": {
   "codemirror_mode": {
    "name": "ipython",
    "version": 3
   },
   "file_extension": ".py",
   "mimetype": "text/x-python",
   "name": "python",
   "nbconvert_exporter": "python",
   "pygments_lexer": "ipython3",
   "version": "3.12.3"
  }
 },
 "nbformat": 4,
 "nbformat_minor": 5
}

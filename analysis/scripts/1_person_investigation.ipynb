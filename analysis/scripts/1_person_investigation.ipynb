{
 "cells": [
  {
   "cell_type": "code",
   "execution_count": 1,
   "id": "4386a79f",
   "metadata": {},
   "outputs": [],
   "source": [
    "import h5py\n",
    "import numpy as np\n",
    "from collections import defaultdict\n",
    "import pandas as pd \n",
    "\n",
    "from plotting_tools import *\n",
    "import geopandas as gpd"
   ]
  },
  {
   "cell_type": "code",
   "execution_count": 2,
   "id": "4649b5d9",
   "metadata": {},
   "outputs": [],
   "source": [
    "file_path = \"../../data/memilio_input/\""
   ]
  },
  {
   "cell_type": "code",
   "execution_count": 3,
   "id": "b2477a3b",
   "metadata": {},
   "outputs": [],
   "source": [
    "df_ABM_loc_size = pd.read_csv(file_path + \"../0_size_per_loc.txt\", sep=\" \", header=None, dtype={0: str})\n",
    "df_ABM_loc_size.columns = [\"loc\", \"n_Agents\"]\n",
    "\n",
    "def location_type(loc):\n",
    "    \"\"\"\n",
    "    Function to determine the type of location based on its name.\n",
    "    \"\"\"\n",
    "    if loc.startswith(\"00\"):\n",
    "        return \"home\"\n",
    "    elif loc.startswith(\"01\"):\n",
    "        return \"school\"\n",
    "    elif loc.startswith(\"02\"):\n",
    "        return \"work\"\n",
    "    elif loc.startswith(\"03\"):\n",
    "        return \"social event\"\n",
    "    elif loc.startswith(\"04\"):\n",
    "        return \"Shop\"\n",
    "    elif loc.startswith(\"05\"):\n",
    "        return \"Hospital\"\n",
    "    elif loc.startswith(\"06\"):\n",
    "        return \"ICU\"\n",
    "    elif loc.startswith(\"10\"):\n",
    "        return \"Cemetery\"\n",
    "    else:\n",
    "        return \"Unknown\"\n",
    "    \n",
    "df_ABM_loc_size[\"loc_type\"] = df_ABM_loc_size[\"loc\"].apply(location_type)"
   ]
  },
  {
   "cell_type": "code",
   "execution_count": 4,
   "id": "ebaa1eef",
   "metadata": {},
   "outputs": [
    {
     "data": {
      "text/html": [
       "<div>\n",
       "<style scoped>\n",
       "    .dataframe tbody tr th:only-of-type {\n",
       "        vertical-align: middle;\n",
       "    }\n",
       "\n",
       "    .dataframe tbody tr th {\n",
       "        vertical-align: top;\n",
       "    }\n",
       "\n",
       "    .dataframe thead th {\n",
       "        text-align: right;\n",
       "    }\n",
       "</style>\n",
       "<table border=\"1\" class=\"dataframe\">\n",
       "  <thead>\n",
       "    <tr style=\"text-align: right;\">\n",
       "      <th></th>\n",
       "      <th>loc</th>\n",
       "      <th>n_Agents</th>\n",
       "      <th>loc_type</th>\n",
       "    </tr>\n",
       "  </thead>\n",
       "  <tbody>\n",
       "    <tr>\n",
       "      <th>0</th>\n",
       "      <td>00100000</td>\n",
       "      <td>1</td>\n",
       "      <td>home</td>\n",
       "    </tr>\n",
       "    <tr>\n",
       "      <th>1</th>\n",
       "      <td>001000000</td>\n",
       "      <td>5</td>\n",
       "      <td>home</td>\n",
       "    </tr>\n",
       "    <tr>\n",
       "      <th>2</th>\n",
       "      <td>001000001</td>\n",
       "      <td>2</td>\n",
       "      <td>home</td>\n",
       "    </tr>\n",
       "    <tr>\n",
       "      <th>3</th>\n",
       "      <td>001000002</td>\n",
       "      <td>1</td>\n",
       "      <td>home</td>\n",
       "    </tr>\n",
       "    <tr>\n",
       "      <th>4</th>\n",
       "      <td>001000003</td>\n",
       "      <td>1</td>\n",
       "      <td>home</td>\n",
       "    </tr>\n",
       "  </tbody>\n",
       "</table>\n",
       "</div>"
      ],
      "text/plain": [
       "         loc  n_Agents loc_type\n",
       "0   00100000         1     home\n",
       "1  001000000         5     home\n",
       "2  001000001         2     home\n",
       "3  001000002         1     home\n",
       "4  001000003         1     home"
      ]
     },
     "execution_count": 4,
     "metadata": {},
     "output_type": "execute_result"
    }
   ],
   "source": [
    "df_ABM_loc_size.head()"
   ]
  },
  {
   "cell_type": "code",
   "execution_count": 24,
   "id": "4d610f5f",
   "metadata": {},
   "outputs": [],
   "source": [
    "df_ABM_tan_loc_mapping = pd.read_csv(file_path + \"../1_mapping_tan_locs.txt\", sep=\" \", header=None, index_col=None, dtype={0: str}).iloc[:,:2]\n",
    "df_ABM_tan_loc_mapping.columns = [\"loc\", \"tan_loc\"]"
   ]
  },
  {
   "cell_type": "code",
   "execution_count": 26,
   "id": "7a0f12e3",
   "metadata": {},
   "outputs": [],
   "source": [
    "df_loc = pd.merge(df_ABM_loc_size, df_ABM_tan_loc_mapping, on=\"loc\", how=\"outer\")"
   ]
  },
  {
   "cell_type": "code",
   "execution_count": 31,
   "id": "505dc880",
   "metadata": {},
   "outputs": [
    {
     "data": {
      "text/html": [
       "<div>\n",
       "<style scoped>\n",
       "    .dataframe tbody tr th:only-of-type {\n",
       "        vertical-align: middle;\n",
       "    }\n",
       "\n",
       "    .dataframe tbody tr th {\n",
       "        vertical-align: top;\n",
       "    }\n",
       "\n",
       "    .dataframe thead th {\n",
       "        text-align: right;\n",
       "    }\n",
       "</style>\n",
       "<table border=\"1\" class=\"dataframe\">\n",
       "  <thead>\n",
       "    <tr style=\"text-align: right;\">\n",
       "      <th></th>\n",
       "      <th>loc_type</th>\n",
       "      <th>n_Agents</th>\n",
       "    </tr>\n",
       "  </thead>\n",
       "  <tbody>\n",
       "    <tr>\n",
       "      <th>3</th>\n",
       "      <td>social event</td>\n",
       "      <td>7784.0</td>\n",
       "    </tr>\n",
       "    <tr>\n",
       "      <th>1</th>\n",
       "      <td>home</td>\n",
       "      <td>7174.0</td>\n",
       "    </tr>\n",
       "    <tr>\n",
       "      <th>0</th>\n",
       "      <td>Shop</td>\n",
       "      <td>5370.0</td>\n",
       "    </tr>\n",
       "    <tr>\n",
       "      <th>4</th>\n",
       "      <td>work</td>\n",
       "      <td>3306.0</td>\n",
       "    </tr>\n",
       "    <tr>\n",
       "      <th>2</th>\n",
       "      <td>school</td>\n",
       "      <td>316.0</td>\n",
       "    </tr>\n",
       "  </tbody>\n",
       "</table>\n",
       "</div>"
      ],
      "text/plain": [
       "       loc_type  n_Agents\n",
       "3  social event    7784.0\n",
       "1          home    7174.0\n",
       "0          Shop    5370.0\n",
       "4          work    3306.0\n",
       "2        school     316.0"
      ]
     },
     "execution_count": 31,
     "metadata": {},
     "output_type": "execute_result"
    }
   ],
   "source": [
    "df_loc.loc[df_loc.tan_loc==64].groupby(\"loc_type\").agg({\"n_Agents\": \"sum\"}).reset_index().sort_values(\"n_Agents\", ascending=False)"
   ]
  },
  {
   "cell_type": "code",
   "execution_count": 30,
   "id": "f91d8d05",
   "metadata": {},
   "outputs": [
    {
     "data": {
      "text/html": [
       "<div>\n",
       "<style scoped>\n",
       "    .dataframe tbody tr th:only-of-type {\n",
       "        vertical-align: middle;\n",
       "    }\n",
       "\n",
       "    .dataframe tbody tr th {\n",
       "        vertical-align: top;\n",
       "    }\n",
       "\n",
       "    .dataframe thead th {\n",
       "        text-align: right;\n",
       "    }\n",
       "</style>\n",
       "<table border=\"1\" class=\"dataframe\">\n",
       "  <thead>\n",
       "    <tr style=\"text-align: right;\">\n",
       "      <th></th>\n",
       "      <th>loc_type</th>\n",
       "      <th>n_Agents</th>\n",
       "    </tr>\n",
       "  </thead>\n",
       "  <tbody>\n",
       "    <tr>\n",
       "      <th>1</th>\n",
       "      <td>home</td>\n",
       "      <td>7136.0</td>\n",
       "    </tr>\n",
       "    <tr>\n",
       "      <th>0</th>\n",
       "      <td>Shop</td>\n",
       "      <td>5143.0</td>\n",
       "    </tr>\n",
       "    <tr>\n",
       "      <th>3</th>\n",
       "      <td>social event</td>\n",
       "      <td>4898.0</td>\n",
       "    </tr>\n",
       "    <tr>\n",
       "      <th>4</th>\n",
       "      <td>work</td>\n",
       "      <td>2544.0</td>\n",
       "    </tr>\n",
       "    <tr>\n",
       "      <th>2</th>\n",
       "      <td>school</td>\n",
       "      <td>631.0</td>\n",
       "    </tr>\n",
       "  </tbody>\n",
       "</table>\n",
       "</div>"
      ],
      "text/plain": [
       "       loc_type  n_Agents\n",
       "1          home    7136.0\n",
       "0          Shop    5143.0\n",
       "3  social event    4898.0\n",
       "4          work    2544.0\n",
       "2        school     631.0"
      ]
     },
     "execution_count": 30,
     "metadata": {},
     "output_type": "execute_result"
    }
   ],
   "source": [
    "df_loc.loc[df_loc.tan_loc==234].groupby(\"loc_type\").agg({\"n_Agents\": \"sum\"}).reset_index().sort_values(\"n_Agents\", ascending=False)"
   ]
  },
  {
   "cell_type": "code",
   "execution_count": 35,
   "id": "1b5fda94",
   "metadata": {},
   "outputs": [
    {
     "data": {
      "text/plain": [
       "452879.0"
      ]
     },
     "execution_count": 35,
     "metadata": {},
     "output_type": "execute_result"
    }
   ],
   "source": [
    "255577.0+197302.0"
   ]
  },
  {
   "cell_type": "code",
   "execution_count": 39,
   "id": "e57b2f2a",
   "metadata": {},
   "outputs": [
    {
     "data": {
      "text/plain": [
       "1320"
      ]
     },
     "execution_count": 39,
     "metadata": {},
     "output_type": "execute_result"
    }
   ],
   "source": [
    "1005+315"
   ]
  },
  {
   "cell_type": "code",
   "execution_count": 38,
   "id": "e1e9392c",
   "metadata": {},
   "outputs": [
    {
     "data": {
      "text/plain": [
       "316.6666666666667"
      ]
     },
     "execution_count": 38,
     "metadata": {},
     "output_type": "execute_result"
    }
   ],
   "source": [
    "(1955-1005)/3"
   ]
  },
  {
   "cell_type": "code",
   "execution_count": 34,
   "id": "f43aee32",
   "metadata": {},
   "outputs": [
    {
     "data": {
      "text/html": [
       "<div>\n",
       "<style scoped>\n",
       "    .dataframe tbody tr th:only-of-type {\n",
       "        vertical-align: middle;\n",
       "    }\n",
       "\n",
       "    .dataframe tbody tr th {\n",
       "        vertical-align: top;\n",
       "    }\n",
       "\n",
       "    .dataframe thead th {\n",
       "        text-align: right;\n",
       "    }\n",
       "</style>\n",
       "<table border=\"1\" class=\"dataframe\">\n",
       "  <thead>\n",
       "    <tr style=\"text-align: right;\">\n",
       "      <th></th>\n",
       "      <th>loc_type</th>\n",
       "      <th>n_Agents</th>\n",
       "    </tr>\n",
       "  </thead>\n",
       "  <tbody>\n",
       "    <tr>\n",
       "      <th>1</th>\n",
       "      <td>ICU</td>\n",
       "      <td>255577.0</td>\n",
       "    </tr>\n",
       "    <tr>\n",
       "      <th>0</th>\n",
       "      <td>Hospital</td>\n",
       "      <td>197302.0</td>\n",
       "    </tr>\n",
       "    <tr>\n",
       "      <th>5</th>\n",
       "      <td>social event</td>\n",
       "      <td>3829.0</td>\n",
       "    </tr>\n",
       "    <tr>\n",
       "      <th>2</th>\n",
       "      <td>Shop</td>\n",
       "      <td>1605.0</td>\n",
       "    </tr>\n",
       "    <tr>\n",
       "      <th>6</th>\n",
       "      <td>work</td>\n",
       "      <td>970.0</td>\n",
       "    </tr>\n",
       "    <tr>\n",
       "      <th>4</th>\n",
       "      <td>school</td>\n",
       "      <td>768.0</td>\n",
       "    </tr>\n",
       "    <tr>\n",
       "      <th>3</th>\n",
       "      <td>home</td>\n",
       "      <td>7.0</td>\n",
       "    </tr>\n",
       "  </tbody>\n",
       "</table>\n",
       "</div>"
      ],
      "text/plain": [
       "       loc_type  n_Agents\n",
       "1           ICU  255577.0\n",
       "0      Hospital  197302.0\n",
       "5  social event    3829.0\n",
       "2          Shop    1605.0\n",
       "6          work     970.0\n",
       "4        school     768.0\n",
       "3          home       7.0"
      ]
     },
     "execution_count": 34,
     "metadata": {},
     "output_type": "execute_result"
    }
   ],
   "source": [
    "df_loc.groupby(\"loc_type\").agg({\"n_Agents\": \"max\"}).reset_index().sort_values(\"n_Agents\", ascending=False)"
   ]
  },
  {
   "cell_type": "code",
   "execution_count": 33,
   "id": "e62da4b5",
   "metadata": {},
   "outputs": [
    {
     "data": {
      "text/html": [
       "<div>\n",
       "<style scoped>\n",
       "    .dataframe tbody tr th:only-of-type {\n",
       "        vertical-align: middle;\n",
       "    }\n",
       "\n",
       "    .dataframe tbody tr th {\n",
       "        vertical-align: top;\n",
       "    }\n",
       "\n",
       "    .dataframe thead th {\n",
       "        text-align: right;\n",
       "    }\n",
       "</style>\n",
       "<table border=\"1\" class=\"dataframe\">\n",
       "  <thead>\n",
       "    <tr style=\"text-align: right;\">\n",
       "      <th></th>\n",
       "      <th>loc_type</th>\n",
       "      <th>n_Agents</th>\n",
       "    </tr>\n",
       "  </thead>\n",
       "  <tbody>\n",
       "    <tr>\n",
       "      <th>3</th>\n",
       "      <td>social event</td>\n",
       "      <td>2001.0</td>\n",
       "    </tr>\n",
       "    <tr>\n",
       "      <th>0</th>\n",
       "      <td>Shop</td>\n",
       "      <td>867.0</td>\n",
       "    </tr>\n",
       "    <tr>\n",
       "      <th>4</th>\n",
       "      <td>work</td>\n",
       "      <td>792.0</td>\n",
       "    </tr>\n",
       "    <tr>\n",
       "      <th>2</th>\n",
       "      <td>school</td>\n",
       "      <td>316.0</td>\n",
       "    </tr>\n",
       "    <tr>\n",
       "      <th>1</th>\n",
       "      <td>home</td>\n",
       "      <td>7.0</td>\n",
       "    </tr>\n",
       "  </tbody>\n",
       "</table>\n",
       "</div>"
      ],
      "text/plain": [
       "       loc_type  n_Agents\n",
       "3  social event    2001.0\n",
       "0          Shop     867.0\n",
       "4          work     792.0\n",
       "2        school     316.0\n",
       "1          home       7.0"
      ]
     },
     "execution_count": 33,
     "metadata": {},
     "output_type": "execute_result"
    }
   ],
   "source": [
    "df_loc.loc[df_loc.tan_loc==64].groupby(\"loc_type\").agg({\"n_Agents\": \"max\"}).reset_index().sort_values(\"n_Agents\", ascending=False)"
   ]
  },
  {
   "cell_type": "code",
   "execution_count": 32,
   "id": "e411d71d",
   "metadata": {},
   "outputs": [
    {
     "data": {
      "text/html": [
       "<div>\n",
       "<style scoped>\n",
       "    .dataframe tbody tr th:only-of-type {\n",
       "        vertical-align: middle;\n",
       "    }\n",
       "\n",
       "    .dataframe tbody tr th {\n",
       "        vertical-align: top;\n",
       "    }\n",
       "\n",
       "    .dataframe thead th {\n",
       "        text-align: right;\n",
       "    }\n",
       "</style>\n",
       "<table border=\"1\" class=\"dataframe\">\n",
       "  <thead>\n",
       "    <tr style=\"text-align: right;\">\n",
       "      <th></th>\n",
       "      <th>loc_type</th>\n",
       "      <th>n_Agents</th>\n",
       "    </tr>\n",
       "  </thead>\n",
       "  <tbody>\n",
       "    <tr>\n",
       "      <th>0</th>\n",
       "      <td>Shop</td>\n",
       "      <td>1605.0</td>\n",
       "    </tr>\n",
       "    <tr>\n",
       "      <th>3</th>\n",
       "      <td>social event</td>\n",
       "      <td>634.0</td>\n",
       "    </tr>\n",
       "    <tr>\n",
       "      <th>2</th>\n",
       "      <td>school</td>\n",
       "      <td>631.0</td>\n",
       "    </tr>\n",
       "    <tr>\n",
       "      <th>4</th>\n",
       "      <td>work</td>\n",
       "      <td>146.0</td>\n",
       "    </tr>\n",
       "    <tr>\n",
       "      <th>1</th>\n",
       "      <td>home</td>\n",
       "      <td>7.0</td>\n",
       "    </tr>\n",
       "  </tbody>\n",
       "</table>\n",
       "</div>"
      ],
      "text/plain": [
       "       loc_type  n_Agents\n",
       "0          Shop    1605.0\n",
       "3  social event     634.0\n",
       "2        school     631.0\n",
       "4          work     146.0\n",
       "1          home       7.0"
      ]
     },
     "execution_count": 32,
     "metadata": {},
     "output_type": "execute_result"
    }
   ],
   "source": [
    "df_loc.loc[df_loc.tan_loc==234].groupby(\"loc_type\").agg({\"n_Agents\": \"max\"}).reset_index().sort_values(\"n_Agents\", ascending=False)"
   ]
  },
  {
   "cell_type": "code",
   "execution_count": null,
   "id": "7faa2c24",
   "metadata": {},
   "outputs": [],
   "source": []
  },
  {
   "cell_type": "code",
   "execution_count": null,
   "id": "f9ceeb1f",
   "metadata": {},
   "outputs": [],
   "source": [
    "df_loc.loc[df_loc.tan_loc==].groupby(\"loc_type\").agg({\"n_Agents\": \"sum\"}).reset_index().sort_values(\"n_Agents\", ascending=False)"
   ]
  },
  {
   "cell_type": "markdown",
   "id": "2448784e",
   "metadata": {},
   "source": []
  },
  {
   "cell_type": "code",
   "execution_count": null,
   "id": "e4c62c2e",
   "metadata": {},
   "outputs": [],
   "source": []
  },
  {
   "cell_type": "code",
   "execution_count": null,
   "id": "f4c8f921",
   "metadata": {},
   "outputs": [],
   "source": [
    "8743027"
   ]
  },
  {
   "cell_type": "code",
   "execution_count": 24,
   "id": "0af9c30d",
   "metadata": {},
   "outputs": [
    {
     "data": {
      "text/plain": [
       "np.True_"
      ]
     },
     "execution_count": 24,
     "metadata": {},
     "output_type": "execute_result"
    }
   ],
   "source": [
    "1536985*4 < df_ABM_loc_size.n_Agents.sum()"
   ]
  },
  {
   "cell_type": "code",
   "execution_count": 19,
   "id": "55bf1e64",
   "metadata": {},
   "outputs": [],
   "source": [
    "df =pd.read_csv(file_path+\"persons.csv\")\n",
    "shape_file = gpd.read_file(file_path+\"Munich_shape250319/Verschnitt_DLR_TAN_Rep.shp\")\n"
   ]
  },
  {
   "cell_type": "code",
   "execution_count": 20,
   "id": "ce6d9db2",
   "metadata": {},
   "outputs": [
    {
     "data": {
      "text/html": [
       "<div>\n",
       "<style scoped>\n",
       "    .dataframe tbody tr th:only-of-type {\n",
       "        vertical-align: middle;\n",
       "    }\n",
       "\n",
       "    .dataframe tbody tr th {\n",
       "        vertical-align: top;\n",
       "    }\n",
       "\n",
       "    .dataframe thead th {\n",
       "        text-align: right;\n",
       "    }\n",
       "</style>\n",
       "<table border=\"1\" class=\"dataframe\">\n",
       "  <thead>\n",
       "    <tr style=\"text-align: right;\">\n",
       "      <th></th>\n",
       "      <th>Unnamed: 0</th>\n",
       "      <th>puid</th>\n",
       "      <th>age</th>\n",
       "      <th>home_zone</th>\n",
       "      <th>home_id</th>\n",
       "      <th>shop_zone</th>\n",
       "      <th>shop_id</th>\n",
       "      <th>event_zone</th>\n",
       "      <th>event_id</th>\n",
       "      <th>work_zone</th>\n",
       "      <th>work_id</th>\n",
       "      <th>school_zone</th>\n",
       "      <th>school_id</th>\n",
       "    </tr>\n",
       "  </thead>\n",
       "  <tbody>\n",
       "    <tr>\n",
       "      <th>0</th>\n",
       "      <td>0</td>\n",
       "      <td>863051</td>\n",
       "      <td>50</td>\n",
       "      <td>91620671</td>\n",
       "      <td>86305</td>\n",
       "      <td>91620671</td>\n",
       "      <td>14601362</td>\n",
       "      <td>91620671</td>\n",
       "      <td>14601315</td>\n",
       "      <td>91820112</td>\n",
       "      <td>14829646</td>\n",
       "      <td>-2</td>\n",
       "      <td>-2</td>\n",
       "    </tr>\n",
       "    <tr>\n",
       "      <th>1</th>\n",
       "      <td>1</td>\n",
       "      <td>863791</td>\n",
       "      <td>50</td>\n",
       "      <td>91620691</td>\n",
       "      <td>86379</td>\n",
       "      <td>91620691</td>\n",
       "      <td>14629079</td>\n",
       "      <td>91620691</td>\n",
       "      <td>14625743</td>\n",
       "      <td>91820112</td>\n",
       "      <td>14829638</td>\n",
       "      <td>-2</td>\n",
       "      <td>-2</td>\n",
       "    </tr>\n",
       "    <tr>\n",
       "      <th>2</th>\n",
       "      <td>2</td>\n",
       "      <td>883451</td>\n",
       "      <td>50</td>\n",
       "      <td>91620811</td>\n",
       "      <td>88345</td>\n",
       "      <td>91820012</td>\n",
       "      <td>14582286</td>\n",
       "      <td>91620811</td>\n",
       "      <td>14598482</td>\n",
       "      <td>91820112</td>\n",
       "      <td>14829614</td>\n",
       "      <td>-2</td>\n",
       "      <td>-2</td>\n",
       "    </tr>\n",
       "    <tr>\n",
       "      <th>3</th>\n",
       "      <td>3</td>\n",
       "      <td>1247641</td>\n",
       "      <td>51</td>\n",
       "      <td>91620521</td>\n",
       "      <td>124764</td>\n",
       "      <td>91620521</td>\n",
       "      <td>14393929</td>\n",
       "      <td>91620521</td>\n",
       "      <td>14397895</td>\n",
       "      <td>91620521</td>\n",
       "      <td>14395347</td>\n",
       "      <td>-2</td>\n",
       "      <td>-2</td>\n",
       "    </tr>\n",
       "    <tr>\n",
       "      <th>4</th>\n",
       "      <td>4</td>\n",
       "      <td>1257601</td>\n",
       "      <td>57</td>\n",
       "      <td>91620591</td>\n",
       "      <td>125760</td>\n",
       "      <td>91620591</td>\n",
       "      <td>14425142</td>\n",
       "      <td>91820025</td>\n",
       "      <td>14828673</td>\n",
       "      <td>91870042</td>\n",
       "      <td>15454696</td>\n",
       "      <td>-2</td>\n",
       "      <td>-2</td>\n",
       "    </tr>\n",
       "  </tbody>\n",
       "</table>\n",
       "</div>"
      ],
      "text/plain": [
       "   Unnamed: 0     puid  age  home_zone  home_id  shop_zone   shop_id  \\\n",
       "0           0   863051   50   91620671    86305   91620671  14601362   \n",
       "1           1   863791   50   91620691    86379   91620691  14629079   \n",
       "2           2   883451   50   91620811    88345   91820012  14582286   \n",
       "3           3  1247641   51   91620521   124764   91620521  14393929   \n",
       "4           4  1257601   57   91620591   125760   91620591  14425142   \n",
       "\n",
       "   event_zone  event_id  work_zone   work_id  school_zone  school_id  \n",
       "0    91620671  14601315   91820112  14829646           -2         -2  \n",
       "1    91620691  14625743   91820112  14829638           -2         -2  \n",
       "2    91620811  14598482   91820112  14829614           -2         -2  \n",
       "3    91620521  14397895   91620521  14395347           -2         -2  \n",
       "4    91820025  14828673   91870042  15454696           -2         -2  "
      ]
     },
     "execution_count": 20,
     "metadata": {},
     "output_type": "execute_result"
    }
   ],
   "source": [
    "df.head()"
   ]
  },
  {
   "cell_type": "code",
   "execution_count": 21,
   "id": "7c436971",
   "metadata": {},
   "outputs": [
    {
     "data": {
      "text/plain": [
       "(1536985, 13)"
      ]
     },
     "execution_count": 21,
     "metadata": {},
     "output_type": "execute_result"
    }
   ],
   "source": [
    "df.shape"
   ]
  },
  {
   "cell_type": "code",
   "execution_count": 29,
   "id": "b8c2f7fa",
   "metadata": {},
   "outputs": [],
   "source": [
    "memilio_zone = shape_file.loc[shape_file[\"ID_TAN\"]==64, \"id_n\"].iloc[0]"
   ]
  },
  {
   "cell_type": "code",
   "execution_count": 36,
   "id": "8e5404a4",
   "metadata": {},
   "outputs": [
    {
     "data": {
      "text/html": [
       "<div>\n",
       "<style scoped>\n",
       "    .dataframe tbody tr th:only-of-type {\n",
       "        vertical-align: middle;\n",
       "    }\n",
       "\n",
       "    .dataframe tbody tr th {\n",
       "        vertical-align: top;\n",
       "    }\n",
       "\n",
       "    .dataframe thead th {\n",
       "        text-align: right;\n",
       "    }\n",
       "</style>\n",
       "<table border=\"1\" class=\"dataframe\">\n",
       "  <thead>\n",
       "    <tr style=\"text-align: right;\">\n",
       "      <th></th>\n",
       "      <th>id</th>\n",
       "      <th>geom</th>\n",
       "      <th>id_n</th>\n",
       "      <th>ags</th>\n",
       "      <th>gen</th>\n",
       "      <th>ind</th>\n",
       "      <th>ID_TAN</th>\n",
       "      <th>geometry</th>\n",
       "    </tr>\n",
       "  </thead>\n",
       "  <tbody>\n",
       "    <tr>\n",
       "      <th>53</th>\n",
       "      <td>4613</td>\n",
       "      <td>0106000020E6100000010000000103000000010000001B...</td>\n",
       "      <td>91620111</td>\n",
       "      <td>9162000</td>\n",
       "      <td>München</td>\n",
       "      <td>4612</td>\n",
       "      <td>64</td>\n",
       "      <td>POLYGON ((691190.778 5343013.348, 691189.657 5...</td>\n",
       "    </tr>\n",
       "    <tr>\n",
       "      <th>104</th>\n",
       "      <td>4613</td>\n",
       "      <td>0106000020E6100000010000000103000000010000001B...</td>\n",
       "      <td>91620111</td>\n",
       "      <td>9162000</td>\n",
       "      <td>München</td>\n",
       "      <td>4612</td>\n",
       "      <td>234</td>\n",
       "      <td>POLYGON ((690524.966 5343093.232, 690190.114 5...</td>\n",
       "    </tr>\n",
       "  </tbody>\n",
       "</table>\n",
       "</div>"
      ],
      "text/plain": [
       "       id                                               geom      id_n  \\\n",
       "53   4613  0106000020E6100000010000000103000000010000001B...  91620111   \n",
       "104  4613  0106000020E6100000010000000103000000010000001B...  91620111   \n",
       "\n",
       "         ags      gen   ind  ID_TAN  \\\n",
       "53   9162000  München  4612      64   \n",
       "104  9162000  München  4612     234   \n",
       "\n",
       "                                              geometry  \n",
       "53   POLYGON ((691190.778 5343013.348, 691189.657 5...  \n",
       "104  POLYGON ((690524.966 5343093.232, 690190.114 5...  "
      ]
     },
     "execution_count": 36,
     "metadata": {},
     "output_type": "execute_result"
    }
   ],
   "source": [
    "shape_file.loc[shape_file[\"id_n\"]==memilio_zone]"
   ]
  },
  {
   "cell_type": "code",
   "execution_count": 41,
   "id": "09c1db7d",
   "metadata": {},
   "outputs": [
    {
     "data": {
      "text/plain": [
       "<Axes: >"
      ]
     },
     "execution_count": 41,
     "metadata": {},
     "output_type": "execute_result"
    },
    {
     "data": {
      "image/png": "[encoded data removed]",
      "text/plain": [
       "<Figure size 640x480 with 1 Axes>"
      ]
     },
     "metadata": {},
     "output_type": "display_data"
    }
   ],
   "source": [
    "shape_file.groupby(\"id_n\")[\"ID_TAN\"].count().hist()"
   ]
  },
  {
   "cell_type": "code",
   "execution_count": 33,
   "id": "a36e8296",
   "metadata": {},
   "outputs": [
    {
     "name": "stdout",
     "output_type": "stream",
     "text": [
      "Citizens in zone 91620111: 14349\n",
      "Citizens working in zone 91620111: 3465\n",
      "Citizens working outside zone 91620111: 10884\n"
     ]
    }
   ],
   "source": [
    "citizens = df.loc[df[\"home_zone\"]==memilio_zone, :].shape[0]\n",
    "\n",
    "citizens_and_working_in_zone = df.loc[(df[\"home_zone\"]==memilio_zone)&(df[\"work_zone\"]==memilio_zone), :].shape[0]\n",
    "citizens_and_working_outside_zone = df.loc[(df[\"home_zone\"]==memilio_zone)&(df[\"work_zone\"]!=memilio_zone), :].shape[0]\n",
    "\n",
    "print(f\"Citizens in zone {memilio_zone}: {citizens}\")\n",
    "print(f\"Citizens working in zone {memilio_zone}: {citizens_and_working_in_zone}\")\n",
    "print(f\"Citizens working outside zone {memilio_zone}: {citizens_and_working_outside_zone}\")"
   ]
  },
  {
   "cell_type": "markdown",
   "id": "85be77ff",
   "metadata": {},
   "source": [
    "### Questions"
   ]
  },
  {
   "cell_type": "markdown",
   "id": "6898012c",
   "metadata": {},
   "source": [
    "kommen in 64 neue agenten rein / wie viele? \n",
    "wie viele locations sind da? \n",
    "\n",
    "3 Tage rauspicken und zu welchen Tageszeiten geht das hoch und runter? "
   ]
  },
  {
   "cell_type": "code",
   "execution_count": null,
   "id": "f7d43d4b",
   "metadata": {},
   "outputs": [],
   "source": []
  }
 ],
 "metadata": {
  "kernelspec": {
   "display_name": ".venv",
   "language": "python",
   "name": "python3"
  },
  "language_info": {
   "codemirror_mode": {
    "name": "ipython",
    "version": 3
   },
   "file_extension": ".py",
   "mimetype": "text/x-python",
   "name": "python",
   "nbconvert_exporter": "python",
   "pygments_lexer": "ipython3",
   "version": "3.10.12"
  }
 },
 "nbformat": 4,
 "nbformat_minor": 5
}

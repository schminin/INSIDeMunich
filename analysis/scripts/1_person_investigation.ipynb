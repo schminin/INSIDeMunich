{
 "cells": [
  {
   "cell_type": "code",
   "execution_count": 4,
   "id": "689e3e4f",
   "metadata": {},
   "outputs": [],
   "source": [
    "import pandas as pd\n",
    "import numpy as np\n",
    "import json\n",
    "\n",
    "from plotting_tools import *\n",
    "import geopandas as gpd"
   ]
  },
  {
   "cell_type": "code",
   "execution_count": 5,
   "id": "a64683b9",
   "metadata": {},
   "outputs": [],
   "source": [
    "experiment_series = \"pop8\"\n",
    "\n",
    "df = pd.read_csv(f\"../../preprocessing/preprocessed_data/{experiment_series}/num_agents_infections_area_{experiment_series}.txt\")"
   ]
  },
  {
   "cell_type": "markdown",
   "id": "c3811439",
   "metadata": {},
   "source": [
    "### Agents per area"
   ]
  },
  {
   "cell_type": "code",
   "execution_count": 6,
   "id": "e0a6d44c",
   "metadata": {},
   "outputs": [],
   "source": [
    "with open(\"../../preprocessing/preprocessed_data/tandler_upstream_gebiete.json\") as f:\n",
    "    tandler_upstream_gebiete = json.load(f)\n",
    "\n",
    "tandler_upstream_gebiete = {k: [int(x) for x in v] for k, v in tandler_upstream_gebiete.items()}"
   ]
  },
  {
   "cell_type": "code",
   "execution_count": 16,
   "id": "54550af3",
   "metadata": {},
   "outputs": [],
   "source": [
    "gebiete = gpd.read_file(\"MunichModel_shape/Gebiete.shp\")\n",
    "gebiete.set_crs(epsg=32632)\n",
    "gebiete[\"area\"] = gebiete.geometry.area / 1_000_000  # Convert to square kilometers"
   ]
  },
  {
   "cell_type": "code",
   "execution_count": 17,
   "id": "d62e74c0",
   "metadata": {},
   "outputs": [
    {
     "data": {
      "text/plain": [
       "np.float64(311.4320859813416)"
      ]
     },
     "execution_count": 17,
     "metadata": {},
     "output_type": "execute_result"
    }
   ],
   "source": [
    "gebiete.geometry.area.sum()/1_000_000"
   ]
  },
  {
   "cell_type": "code",
   "execution_count": 21,
   "id": "b48dadf0",
   "metadata": {},
   "outputs": [],
   "source": [
    "df_sub = df.loc[(df.Sim==1)&(df.t==0)]"
   ]
  },
  {
   "cell_type": "code",
   "execution_count": 22,
   "id": "9e19c896",
   "metadata": {},
   "outputs": [
    {
     "data": {
      "text/html": [
       "<div>\n",
       "<style scoped>\n",
       "    .dataframe tbody tr th:only-of-type {\n",
       "        vertical-align: middle;\n",
       "    }\n",
       "\n",
       "    .dataframe tbody tr th {\n",
       "        vertical-align: top;\n",
       "    }\n",
       "\n",
       "    .dataframe thead th {\n",
       "        text-align: right;\n",
       "    }\n",
       "</style>\n",
       "<table border=\"1\" class=\"dataframe\">\n",
       "  <thead>\n",
       "    <tr style=\"text-align: right;\">\n",
       "      <th></th>\n",
       "      <th>Sim</th>\n",
       "      <th>t</th>\n",
       "      <th>area</th>\n",
       "      <th>NumInfected</th>\n",
       "      <th>NewInfections</th>\n",
       "      <th>NumAgents</th>\n",
       "    </tr>\n",
       "  </thead>\n",
       "  <tbody>\n",
       "    <tr>\n",
       "      <th>0</th>\n",
       "      <td>1</td>\n",
       "      <td>0</td>\n",
       "      <td>0</td>\n",
       "      <td>0</td>\n",
       "      <td>0</td>\n",
       "      <td>0</td>\n",
       "    </tr>\n",
       "    <tr>\n",
       "      <th>1</th>\n",
       "      <td>1</td>\n",
       "      <td>0</td>\n",
       "      <td>1</td>\n",
       "      <td>0</td>\n",
       "      <td>0</td>\n",
       "      <td>7270</td>\n",
       "    </tr>\n",
       "    <tr>\n",
       "      <th>2</th>\n",
       "      <td>1</td>\n",
       "      <td>0</td>\n",
       "      <td>2</td>\n",
       "      <td>0</td>\n",
       "      <td>0</td>\n",
       "      <td>0</td>\n",
       "    </tr>\n",
       "    <tr>\n",
       "      <th>3</th>\n",
       "      <td>1</td>\n",
       "      <td>0</td>\n",
       "      <td>3</td>\n",
       "      <td>0</td>\n",
       "      <td>0</td>\n",
       "      <td>8991</td>\n",
       "    </tr>\n",
       "    <tr>\n",
       "      <th>4</th>\n",
       "      <td>1</td>\n",
       "      <td>0</td>\n",
       "      <td>4</td>\n",
       "      <td>2</td>\n",
       "      <td>0</td>\n",
       "      <td>8244</td>\n",
       "    </tr>\n",
       "    <tr>\n",
       "      <th>...</th>\n",
       "      <td>...</td>\n",
       "      <td>...</td>\n",
       "      <td>...</td>\n",
       "      <td>...</td>\n",
       "      <td>...</td>\n",
       "      <td>...</td>\n",
       "    </tr>\n",
       "    <tr>\n",
       "      <th>239</th>\n",
       "      <td>1</td>\n",
       "      <td>0</td>\n",
       "      <td>239</td>\n",
       "      <td>0</td>\n",
       "      <td>0</td>\n",
       "      <td>2813</td>\n",
       "    </tr>\n",
       "    <tr>\n",
       "      <th>240</th>\n",
       "      <td>1</td>\n",
       "      <td>0</td>\n",
       "      <td>240</td>\n",
       "      <td>1</td>\n",
       "      <td>0</td>\n",
       "      <td>2822</td>\n",
       "    </tr>\n",
       "    <tr>\n",
       "      <th>241</th>\n",
       "      <td>1</td>\n",
       "      <td>0</td>\n",
       "      <td>241</td>\n",
       "      <td>2</td>\n",
       "      <td>0</td>\n",
       "      <td>5082</td>\n",
       "    </tr>\n",
       "    <tr>\n",
       "      <th>242</th>\n",
       "      <td>1</td>\n",
       "      <td>0</td>\n",
       "      <td>242</td>\n",
       "      <td>0</td>\n",
       "      <td>0</td>\n",
       "      <td>2682</td>\n",
       "    </tr>\n",
       "    <tr>\n",
       "      <th>243</th>\n",
       "      <td>1</td>\n",
       "      <td>0</td>\n",
       "      <td>243</td>\n",
       "      <td>0</td>\n",
       "      <td>0</td>\n",
       "      <td>4197</td>\n",
       "    </tr>\n",
       "  </tbody>\n",
       "</table>\n",
       "<p>244 rows × 6 columns</p>\n",
       "</div>"
      ],
      "text/plain": [
       "     Sim  t  area  NumInfected  NewInfections  NumAgents\n",
       "0      1  0     0            0              0          0\n",
       "1      1  0     1            0              0       7270\n",
       "2      1  0     2            0              0          0\n",
       "3      1  0     3            0              0       8991\n",
       "4      1  0     4            2              0       8244\n",
       "..   ... ..   ...          ...            ...        ...\n",
       "239    1  0   239            0              0       2813\n",
       "240    1  0   240            1              0       2822\n",
       "241    1  0   241            2              0       5082\n",
       "242    1  0   242            0              0       2682\n",
       "243    1  0   243            0              0       4197\n",
       "\n",
       "[244 rows x 6 columns]"
      ]
     },
     "execution_count": 22,
     "metadata": {},
     "output_type": "execute_result"
    }
   ],
   "source": [
    "df_sub"
   ]
  },
  {
   "cell_type": "code",
   "execution_count": 29,
   "id": "b49807be",
   "metadata": {},
   "outputs": [
    {
     "data": {
      "text/html": [
       "<div>\n",
       "<style scoped>\n",
       "    .dataframe tbody tr th:only-of-type {\n",
       "        vertical-align: middle;\n",
       "    }\n",
       "\n",
       "    .dataframe tbody tr th {\n",
       "        vertical-align: top;\n",
       "    }\n",
       "\n",
       "    .dataframe thead th {\n",
       "        text-align: right;\n",
       "    }\n",
       "</style>\n",
       "<table border=\"1\" class=\"dataframe\">\n",
       "  <thead>\n",
       "    <tr style=\"text-align: right;\">\n",
       "      <th></th>\n",
       "      <th>Name</th>\n",
       "      <th>geometry</th>\n",
       "      <th>NumAgents</th>\n",
       "      <th>area</th>\n",
       "    </tr>\n",
       "  </thead>\n",
       "  <tbody>\n",
       "    <tr>\n",
       "      <th>0</th>\n",
       "      <td>201</td>\n",
       "      <td>POLYGON ((690550.062 5332480.949, 691069.156 5...</td>\n",
       "      <td>3561</td>\n",
       "      <td>0.343494</td>\n",
       "    </tr>\n",
       "    <tr>\n",
       "      <th>1</th>\n",
       "      <td>221</td>\n",
       "      <td>POLYGON ((696263.806 5337159.535, 694264.699 5...</td>\n",
       "      <td>4797</td>\n",
       "      <td>1.947244</td>\n",
       "    </tr>\n",
       "    <tr>\n",
       "      <th>2</th>\n",
       "      <td>222</td>\n",
       "      <td>POLYGON ((697263.369 5337171.641, 697276.083 5...</td>\n",
       "      <td>7508</td>\n",
       "      <td>2.019481</td>\n",
       "    </tr>\n",
       "    <tr>\n",
       "      <th>3</th>\n",
       "      <td>29</td>\n",
       "      <td>POLYGON ((696289.237 5335158.663, 696276.523 5...</td>\n",
       "      <td>4434</td>\n",
       "      <td>0.994401</td>\n",
       "    </tr>\n",
       "    <tr>\n",
       "      <th>4</th>\n",
       "      <td>142</td>\n",
       "      <td>POLYGON ((688874.057 5331599.98, 688353.138 53...</td>\n",
       "      <td>6392</td>\n",
       "      <td>0.288198</td>\n",
       "    </tr>\n",
       "  </tbody>\n",
       "</table>\n",
       "</div>"
      ],
      "text/plain": [
       "   Name                                           geometry  NumAgents  \\\n",
       "0   201  POLYGON ((690550.062 5332480.949, 691069.156 5...       3561   \n",
       "1   221  POLYGON ((696263.806 5337159.535, 694264.699 5...       4797   \n",
       "2   222  POLYGON ((697263.369 5337171.641, 697276.083 5...       7508   \n",
       "3    29  POLYGON ((696289.237 5335158.663, 696276.523 5...       4434   \n",
       "4   142  POLYGON ((688874.057 5331599.98, 688353.138 53...       6392   \n",
       "\n",
       "       area  \n",
       "0  0.343494  \n",
       "1  1.947244  \n",
       "2  2.019481  \n",
       "3  0.994401  \n",
       "4  0.288198  "
      ]
     },
     "execution_count": 29,
     "metadata": {},
     "output_type": "execute_result"
    }
   ],
   "source": [
    "gebiete = gebiete.merge(df_sub, left_on=\"Name\", right_on=\"area\", how=\"left\", suffixes=(\"\", \"_y\"), validate=\"one_to_one\")[[\"Name\", \"geometry\", \"NumAgents\", \"area\"]]\n",
    "\n",
    "gebiete.head()"
   ]
  },
  {
   "cell_type": "code",
   "execution_count": 33,
   "id": "25b5cfa3",
   "metadata": {},
   "outputs": [
    {
     "data": {
      "text/html": [
       "<div>\n",
       "<style scoped>\n",
       "    .dataframe tbody tr th:only-of-type {\n",
       "        vertical-align: middle;\n",
       "    }\n",
       "\n",
       "    .dataframe tbody tr th {\n",
       "        vertical-align: top;\n",
       "    }\n",
       "\n",
       "    .dataframe thead th {\n",
       "        text-align: right;\n",
       "    }\n",
       "</style>\n",
       "<table border=\"1\" class=\"dataframe\">\n",
       "  <thead>\n",
       "    <tr style=\"text-align: right;\">\n",
       "      <th></th>\n",
       "      <th>Name</th>\n",
       "      <th>geometry</th>\n",
       "      <th>NumAgents</th>\n",
       "      <th>area</th>\n",
       "    </tr>\n",
       "  </thead>\n",
       "  <tbody>\n",
       "    <tr>\n",
       "      <th>86</th>\n",
       "      <td>182</td>\n",
       "      <td>POLYGON ((689318.595 5333021.618, 689317.942 5...</td>\n",
       "      <td>4337</td>\n",
       "      <td>0.001244</td>\n",
       "    </tr>\n",
       "  </tbody>\n",
       "</table>\n",
       "</div>"
      ],
      "text/plain": [
       "    Name                                           geometry  NumAgents  \\\n",
       "86   182  POLYGON ((689318.595 5333021.618, 689317.942 5...       4337   \n",
       "\n",
       "        area  \n",
       "86  0.001244  "
      ]
     },
     "execution_count": 33,
     "metadata": {},
     "output_type": "execute_result"
    }
   ],
   "source": [
    "gebiete.loc[gebiete.Name==182]"
   ]
  },
  {
   "cell_type": "code",
   "execution_count": 32,
   "id": "c5934b8e",
   "metadata": {},
   "outputs": [
    {
     "data": {
      "text/plain": [
       "count      235.000000\n",
       "mean      6540.361702\n",
       "std       4207.697654\n",
       "min        694.000000\n",
       "25%       4153.000000\n",
       "50%       5444.000000\n",
       "75%       7698.500000\n",
       "max      25483.000000\n",
       "Name: NumAgents, dtype: float64"
      ]
     },
     "execution_count": 32,
     "metadata": {},
     "output_type": "execute_result"
    }
   ],
   "source": [
    "gebiete.NumAgents.describe()"
   ]
  },
  {
   "cell_type": "code",
   "execution_count": 38,
   "id": "48ffc344",
   "metadata": {},
   "outputs": [
    {
     "data": {
      "text/plain": [
       "count    235.000000\n",
       "mean       0.022421\n",
       "std        0.227136\n",
       "min        0.000232\n",
       "25%        0.003238\n",
       "50%        0.005587\n",
       "75%        0.009712\n",
       "max        3.487114\n",
       "dtype: float64"
      ]
     },
     "execution_count": 38,
     "metadata": {},
     "output_type": "execute_result"
    }
   ],
   "source": [
    "(gebiete.NumAgents/gebiete.area).describe()"
   ]
  },
  {
   "cell_type": "code",
   "execution_count": 48,
   "id": "937b631b",
   "metadata": {},
   "outputs": [
    {
     "data": {
      "text/html": [
       "<div>\n",
       "<style scoped>\n",
       "    .dataframe tbody tr th:only-of-type {\n",
       "        vertical-align: middle;\n",
       "    }\n",
       "\n",
       "    .dataframe tbody tr th {\n",
       "        vertical-align: top;\n",
       "    }\n",
       "\n",
       "    .dataframe thead th {\n",
       "        text-align: right;\n",
       "    }\n",
       "</style>\n",
       "<table border=\"1\" class=\"dataframe\">\n",
       "  <thead>\n",
       "    <tr style=\"text-align: right;\">\n",
       "      <th></th>\n",
       "      <th>Name</th>\n",
       "      <th>NumAgents</th>\n",
       "      <th>area</th>\n",
       "      <th>pop_density</th>\n",
       "    </tr>\n",
       "  </thead>\n",
       "  <tbody>\n",
       "    <tr>\n",
       "      <th>86</th>\n",
       "      <td>182</td>\n",
       "      <td>4337</td>\n",
       "      <td>0.001244</td>\n",
       "      <td>3.487114</td>\n",
       "    </tr>\n",
       "    <tr>\n",
       "      <th>114</th>\n",
       "      <td>146</td>\n",
       "      <td>4241</td>\n",
       "      <td>0.042829</td>\n",
       "      <td>0.099021</td>\n",
       "    </tr>\n",
       "    <tr>\n",
       "      <th>53</th>\n",
       "      <td>161</td>\n",
       "      <td>6097</td>\n",
       "      <td>0.136561</td>\n",
       "      <td>0.044647</td>\n",
       "    </tr>\n",
       "    <tr>\n",
       "      <th>143</th>\n",
       "      <td>162</td>\n",
       "      <td>6106</td>\n",
       "      <td>0.163710</td>\n",
       "      <td>0.037298</td>\n",
       "    </tr>\n",
       "    <tr>\n",
       "      <th>207</th>\n",
       "      <td>114</td>\n",
       "      <td>25483</td>\n",
       "      <td>1.000094</td>\n",
       "      <td>0.025481</td>\n",
       "    </tr>\n",
       "    <tr>\n",
       "      <th>85</th>\n",
       "      <td>85</td>\n",
       "      <td>22925</td>\n",
       "      <td>1.000103</td>\n",
       "      <td>0.022923</td>\n",
       "    </tr>\n",
       "    <tr>\n",
       "      <th>4</th>\n",
       "      <td>142</td>\n",
       "      <td>6392</td>\n",
       "      <td>0.288198</td>\n",
       "      <td>0.022179</td>\n",
       "    </tr>\n",
       "    <tr>\n",
       "      <th>227</th>\n",
       "      <td>15</td>\n",
       "      <td>21612</td>\n",
       "      <td>1.000105</td>\n",
       "      <td>0.021610</td>\n",
       "    </tr>\n",
       "    <tr>\n",
       "      <th>75</th>\n",
       "      <td>84</td>\n",
       "      <td>20912</td>\n",
       "      <td>1.000092</td>\n",
       "      <td>0.020910</td>\n",
       "    </tr>\n",
       "    <tr>\n",
       "      <th>26</th>\n",
       "      <td>110</td>\n",
       "      <td>20704</td>\n",
       "      <td>1.000076</td>\n",
       "      <td>0.020702</td>\n",
       "    </tr>\n",
       "  </tbody>\n",
       "</table>\n",
       "</div>"
      ],
      "text/plain": [
       "     Name  NumAgents      area  pop_density\n",
       "86    182       4337  0.001244     3.487114\n",
       "114   146       4241  0.042829     0.099021\n",
       "53    161       6097  0.136561     0.044647\n",
       "143   162       6106  0.163710     0.037298\n",
       "207   114      25483  1.000094     0.025481\n",
       "85     85      22925  1.000103     0.022923\n",
       "4     142       6392  0.288198     0.022179\n",
       "227    15      21612  1.000105     0.021610\n",
       "75     84      20912  1.000092     0.020910\n",
       "26    110      20704  1.000076     0.020702"
      ]
     },
     "execution_count": 48,
     "metadata": {},
     "output_type": "execute_result"
    }
   ],
   "source": [
    "gebiete.sort_values(\"pop_density\", ascending=False).head(10)[[\"Name\", \"NumAgents\", \"area\", \"pop_density\"]]"
   ]
  },
  {
   "cell_type": "code",
   "execution_count": 45,
   "id": "70dd2c64",
   "metadata": {},
   "outputs": [
    {
     "data": {
      "text/html": [
       "<div>\n",
       "<style scoped>\n",
       "    .dataframe tbody tr th:only-of-type {\n",
       "        vertical-align: middle;\n",
       "    }\n",
       "\n",
       "    .dataframe tbody tr th {\n",
       "        vertical-align: top;\n",
       "    }\n",
       "\n",
       "    .dataframe thead th {\n",
       "        text-align: right;\n",
       "    }\n",
       "</style>\n",
       "<table border=\"1\" class=\"dataframe\">\n",
       "  <thead>\n",
       "    <tr style=\"text-align: right;\">\n",
       "      <th></th>\n",
       "      <th>Name</th>\n",
       "      <th>geometry</th>\n",
       "      <th>NumAgents</th>\n",
       "      <th>area</th>\n",
       "      <th>pop_density</th>\n",
       "    </tr>\n",
       "  </thead>\n",
       "  <tbody>\n",
       "    <tr>\n",
       "      <th>86</th>\n",
       "      <td>182</td>\n",
       "      <td>POLYGON ((689318.595 5333021.618, 689317.942 5...</td>\n",
       "      <td>4337</td>\n",
       "      <td>0.001244</td>\n",
       "      <td>3.487114</td>\n",
       "    </tr>\n",
       "    <tr>\n",
       "      <th>114</th>\n",
       "      <td>146</td>\n",
       "      <td>POLYGON ((690409.007 5328207.925, 690305.376 5...</td>\n",
       "      <td>4241</td>\n",
       "      <td>0.042829</td>\n",
       "      <td>0.099021</td>\n",
       "    </tr>\n",
       "  </tbody>\n",
       "</table>\n",
       "</div>"
      ],
      "text/plain": [
       "     Name                                           geometry  NumAgents  \\\n",
       "86    182  POLYGON ((689318.595 5333021.618, 689317.942 5...       4337   \n",
       "114   146  POLYGON ((690409.007 5328207.925, 690305.376 5...       4241   \n",
       "\n",
       "         area  pop_density  \n",
       "86   0.001244     3.487114  \n",
       "114  0.042829     0.099021  "
      ]
     },
     "execution_count": 45,
     "metadata": {},
     "output_type": "execute_result"
    }
   ],
   "source": [
    "gebiete.loc[gebiete.pop_density>0.05]"
   ]
  },
  {
   "cell_type": "code",
   "execution_count": 42,
   "id": "e5c37165",
   "metadata": {},
   "outputs": [
    {
     "data": {
      "image/png": "[encoded data removed]",
      "text/plain": [
       "<Figure size 1000x800 with 2 Axes>"
      ]
     },
     "metadata": {},
     "output_type": "display_data"
    }
   ],
   "source": [
    "gebiete['pop_density'] = (gebiete.NumAgents)/(gebiete.area)  # people per km²\n",
    "\n",
    "# ── 2.  plot with a nice colour scale & quantile legend ───────────────\n",
    "fig, ax = plt.subplots(figsize=(10, 8))\n",
    "gebiete.plot(\n",
    "    column='pop_density',\n",
    "    cmap='viridis',\n",
    "    #scheme='quantiles',   # equal-count class breaks\n",
    "    k=5,                  # number of classes (adjust as you like)\n",
    "    linewidth=0.4,\n",
    "    edgecolor='white',\n",
    "    legend=True,\n",
    "    legend_kwds={'label': \"Population density (people/km²)\",\n",
    "                 'orientation': \"horizontal\"},\n",
    "    ax=ax\n",
    ")\n",
    "\n",
    "# ── 3.  aesthetics ────────────────────────────────────────────────────\n",
    "ax.set_title(\"Population density by Gebiet\", fontsize=14)\n",
    "ax.set_axis_off()         # hide axes ticks/labels for a clean map\n",
    "plt.tight_layout()\n",
    "plt.show()"
   ]
  },
  {
   "cell_type": "code",
   "execution_count": null,
   "id": "e6de7e44",
   "metadata": {},
   "outputs": [],
   "source": []
  },
  {
   "cell_type": "code",
   "execution_count": null,
   "id": "4abfa6a9",
   "metadata": {},
   "outputs": [],
   "source": []
  },
  {
   "cell_type": "markdown",
   "id": "9d2e3291",
   "metadata": {},
   "source": [
    "### Maximum agents"
   ]
  },
  {
   "cell_type": "code",
   "execution_count": 72,
   "id": "d5c71911",
   "metadata": {},
   "outputs": [
    {
     "data": {
      "text/plain": [
       "<Axes: title={'center': 'Number of agents in area 0 (Sim 93)'}, xlabel='Time', ylabel='Number of agents'>"
      ]
     },
     "execution_count": 72,
     "metadata": {},
     "output_type": "execute_result"
    },
    {
     "data": {
      "image/png": "[encoded data removed]",
      "text/plain": [
       "<Figure size 640x480 with 1 Axes>"
      ]
     },
     "metadata": {},
     "output_type": "display_data"
    }
   ],
   "source": [
    "df.loc[(df.Sim==93)&(df.area==0)].plot(x=\"t\", y=\"NumAgents\", title=\"Number of agents in area 0 (Sim 93)\", xlabel=\"Time\", ylabel=\"Number of agents\")"
   ]
  },
  {
   "cell_type": "code",
   "execution_count": 73,
   "id": "8318dad9",
   "metadata": {},
   "outputs": [
    {
     "data": {
      "text/html": [
       "<div>\n",
       "<style scoped>\n",
       "    .dataframe tbody tr th:only-of-type {\n",
       "        vertical-align: middle;\n",
       "    }\n",
       "\n",
       "    .dataframe tbody tr th {\n",
       "        vertical-align: top;\n",
       "    }\n",
       "\n",
       "    .dataframe thead th {\n",
       "        text-align: right;\n",
       "    }\n",
       "</style>\n",
       "<table border=\"1\" class=\"dataframe\">\n",
       "  <thead>\n",
       "    <tr style=\"text-align: right;\">\n",
       "      <th></th>\n",
       "      <th>Sim</th>\n",
       "      <th>t</th>\n",
       "      <th>area</th>\n",
       "      <th>NumInfected</th>\n",
       "      <th>NewInfections</th>\n",
       "      <th>NumAgents</th>\n",
       "    </tr>\n",
       "  </thead>\n",
       "  <tbody>\n",
       "    <tr>\n",
       "      <th>49636920</th>\n",
       "      <td>93</td>\n",
       "      <td>202</td>\n",
       "      <td>0</td>\n",
       "      <td>88</td>\n",
       "      <td>2</td>\n",
       "      <td>83521</td>\n",
       "    </tr>\n",
       "  </tbody>\n",
       "</table>\n",
       "</div>"
      ],
      "text/plain": [
       "          Sim    t  area  NumInfected  NewInfections  NumAgents\n",
       "49636920   93  202     0           88              2      83521"
      ]
     },
     "execution_count": 73,
     "metadata": {},
     "output_type": "execute_result"
    }
   ],
   "source": [
    "df.loc[df[\"NumAgents\"]==83521]"
   ]
  },
  {
   "cell_type": "code",
   "execution_count": 74,
   "id": "bb954371",
   "metadata": {},
   "outputs": [],
   "source": [
    "df_max = df.groupby(\"area\")[\"NumAgents\"].max().reset_index()"
   ]
  },
  {
   "cell_type": "code",
   "execution_count": 76,
   "id": "75e0c6c6",
   "metadata": {},
   "outputs": [
    {
     "data": {
      "text/html": [
       "<div>\n",
       "<style scoped>\n",
       "    .dataframe tbody tr th:only-of-type {\n",
       "        vertical-align: middle;\n",
       "    }\n",
       "\n",
       "    .dataframe tbody tr th {\n",
       "        vertical-align: top;\n",
       "    }\n",
       "\n",
       "    .dataframe thead th {\n",
       "        text-align: right;\n",
       "    }\n",
       "</style>\n",
       "<table border=\"1\" class=\"dataframe\">\n",
       "  <thead>\n",
       "    <tr style=\"text-align: right;\">\n",
       "      <th></th>\n",
       "      <th>area</th>\n",
       "      <th>NumAgents</th>\n",
       "    </tr>\n",
       "  </thead>\n",
       "  <tbody>\n",
       "    <tr>\n",
       "      <th>0</th>\n",
       "      <td>0</td>\n",
       "      <td>83521</td>\n",
       "    </tr>\n",
       "    <tr>\n",
       "      <th>2</th>\n",
       "      <td>2</td>\n",
       "      <td>0</td>\n",
       "    </tr>\n",
       "    <tr>\n",
       "      <th>6</th>\n",
       "      <td>6</td>\n",
       "      <td>0</td>\n",
       "    </tr>\n",
       "    <tr>\n",
       "      <th>8</th>\n",
       "      <td>8</td>\n",
       "      <td>0</td>\n",
       "    </tr>\n",
       "    <tr>\n",
       "      <th>146</th>\n",
       "      <td>146</td>\n",
       "      <td>4325</td>\n",
       "    </tr>\n",
       "    <tr>\n",
       "      <th>166</th>\n",
       "      <td>166</td>\n",
       "      <td>0</td>\n",
       "    </tr>\n",
       "    <tr>\n",
       "      <th>168</th>\n",
       "      <td>168</td>\n",
       "      <td>0</td>\n",
       "    </tr>\n",
       "    <tr>\n",
       "      <th>182</th>\n",
       "      <td>182</td>\n",
       "      <td>4995</td>\n",
       "    </tr>\n",
       "    <tr>\n",
       "      <th>205</th>\n",
       "      <td>205</td>\n",
       "      <td>0</td>\n",
       "    </tr>\n",
       "    <tr>\n",
       "      <th>218</th>\n",
       "      <td>218</td>\n",
       "      <td>0</td>\n",
       "    </tr>\n",
       "    <tr>\n",
       "      <th>232</th>\n",
       "      <td>232</td>\n",
       "      <td>0</td>\n",
       "    </tr>\n",
       "  </tbody>\n",
       "</table>\n",
       "</div>"
      ],
      "text/plain": [
       "     area  NumAgents\n",
       "0       0      83521\n",
       "2       2          0\n",
       "6       6          0\n",
       "8       8          0\n",
       "146   146       4325\n",
       "166   166          0\n",
       "168   168          0\n",
       "182   182       4995\n",
       "205   205          0\n",
       "218   218          0\n",
       "232   232          0"
      ]
     },
     "execution_count": 76,
     "metadata": {},
     "output_type": "execute_result"
    }
   ],
   "source": [
    "df_max.loc[df_max.area.isin(areas_not_in_gebiete_list)]"
   ]
  },
  {
   "cell_type": "markdown",
   "id": "ce009e7b",
   "metadata": {},
   "source": [
    "### Start agents (i.e. citizens)"
   ]
  },
  {
   "cell_type": "code",
   "execution_count": 18,
   "id": "2397d104",
   "metadata": {},
   "outputs": [
    {
     "data": {
      "text/plain": [
       "t     Sim\n",
       "0     1      1536985\n",
       "      2      1536985\n",
       "      3      1536985\n",
       "      4      1536985\n",
       "      5      1536985\n",
       "              ...   \n",
       "2208  96     1536985\n",
       "      97     1536985\n",
       "      98     1536985\n",
       "      99     1536985\n",
       "      100    1536985\n",
       "Name: NumAgents, Length: 220900, dtype: int64"
      ]
     },
     "execution_count": 18,
     "metadata": {},
     "output_type": "execute_result"
    }
   ],
   "source": [
    "df.groupby([\"t\", \"Sim\"])[\"NumAgents\"].sum()"
   ]
  },
  {
   "cell_type": "code",
   "execution_count": 42,
   "id": "8690d7f9",
   "metadata": {},
   "outputs": [],
   "source": [
    "df = df.loc[(df.t==0)&(df.Sim==1)]\n",
    "\n",
    "n_agents = {}\n",
    "for key in tandler_upstream_gebiete.keys():\n",
    "    df_sub = df.loc[(df.area.isin(tandler_upstream_gebiete[key]))]\n",
    "    n_agents[key] = df_sub[\"NumAgents\"].sum()"
   ]
  },
  {
   "cell_type": "code",
   "execution_count": null,
   "id": "f6f19c1d",
   "metadata": {},
   "outputs": [
    {
     "data": {
      "text/plain": [
       "{np.int64(0),\n",
       " np.int64(2),\n",
       " np.int64(6),\n",
       " np.int64(8),\n",
       " np.int64(146),\n",
       " np.int64(166),\n",
       " np.int64(168),\n",
       " np.int64(182),\n",
       " np.int64(205),\n",
       " np.int64(218),\n",
       " np.int64(232)}"
      ]
     },
     "execution_count": 43,
     "metadata": {},
     "output_type": "execute_result"
    }
   ],
   "source": [
    "all_areas_in_gebiete = set()\n",
    "for areas in tandler_upstream_gebiete.values():\n",
    "    all_areas_in_gebiete.update(areas)\n",
    "\n",
    "areas_not_in_gebiete = set(df[\"area\"].unique()) - all_areas_in_gebiete\n",
    "areas_not_in_gebiete_list = [int(a) for a in areas_not_in_gebiete]"
   ]
  },
  {
   "cell_type": "code",
   "execution_count": 48,
   "id": "fc8ed4f1",
   "metadata": {},
   "outputs": [
    {
     "data": {
      "text/plain": [
       "[0, 2, 6, 166, 8, 168, 232, 205, 146, 182, 218]"
      ]
     },
     "execution_count": 48,
     "metadata": {},
     "output_type": "execute_result"
    }
   ],
   "source": [
    "areas_not_in_gebiete_list"
   ]
  },
  {
   "cell_type": "code",
   "execution_count": 51,
   "id": "54fde880",
   "metadata": {},
   "outputs": [
    {
     "data": {
      "text/html": [
       "<div>\n",
       "<style scoped>\n",
       "    .dataframe tbody tr th:only-of-type {\n",
       "        vertical-align: middle;\n",
       "    }\n",
       "\n",
       "    .dataframe tbody tr th {\n",
       "        vertical-align: top;\n",
       "    }\n",
       "\n",
       "    .dataframe thead th {\n",
       "        text-align: right;\n",
       "    }\n",
       "</style>\n",
       "<table border=\"1\" class=\"dataframe\">\n",
       "  <thead>\n",
       "    <tr style=\"text-align: right;\">\n",
       "      <th></th>\n",
       "      <th>Sim</th>\n",
       "      <th>t</th>\n",
       "      <th>area</th>\n",
       "      <th>NumInfected</th>\n",
       "      <th>NewInfections</th>\n",
       "      <th>NumAgents</th>\n",
       "    </tr>\n",
       "  </thead>\n",
       "  <tbody>\n",
       "    <tr>\n",
       "      <th>0</th>\n",
       "      <td>1</td>\n",
       "      <td>0</td>\n",
       "      <td>0</td>\n",
       "      <td>0</td>\n",
       "      <td>0</td>\n",
       "      <td>0</td>\n",
       "    </tr>\n",
       "    <tr>\n",
       "      <th>2</th>\n",
       "      <td>1</td>\n",
       "      <td>0</td>\n",
       "      <td>2</td>\n",
       "      <td>0</td>\n",
       "      <td>0</td>\n",
       "      <td>0</td>\n",
       "    </tr>\n",
       "    <tr>\n",
       "      <th>6</th>\n",
       "      <td>1</td>\n",
       "      <td>0</td>\n",
       "      <td>6</td>\n",
       "      <td>0</td>\n",
       "      <td>0</td>\n",
       "      <td>0</td>\n",
       "    </tr>\n",
       "    <tr>\n",
       "      <th>8</th>\n",
       "      <td>1</td>\n",
       "      <td>0</td>\n",
       "      <td>8</td>\n",
       "      <td>0</td>\n",
       "      <td>0</td>\n",
       "      <td>0</td>\n",
       "    </tr>\n",
       "    <tr>\n",
       "      <th>146</th>\n",
       "      <td>1</td>\n",
       "      <td>0</td>\n",
       "      <td>146</td>\n",
       "      <td>1</td>\n",
       "      <td>1</td>\n",
       "      <td>4241</td>\n",
       "    </tr>\n",
       "    <tr>\n",
       "      <th>166</th>\n",
       "      <td>1</td>\n",
       "      <td>0</td>\n",
       "      <td>166</td>\n",
       "      <td>0</td>\n",
       "      <td>0</td>\n",
       "      <td>0</td>\n",
       "    </tr>\n",
       "    <tr>\n",
       "      <th>168</th>\n",
       "      <td>1</td>\n",
       "      <td>0</td>\n",
       "      <td>168</td>\n",
       "      <td>0</td>\n",
       "      <td>0</td>\n",
       "      <td>0</td>\n",
       "    </tr>\n",
       "    <tr>\n",
       "      <th>182</th>\n",
       "      <td>1</td>\n",
       "      <td>0</td>\n",
       "      <td>182</td>\n",
       "      <td>1</td>\n",
       "      <td>0</td>\n",
       "      <td>4337</td>\n",
       "    </tr>\n",
       "    <tr>\n",
       "      <th>205</th>\n",
       "      <td>1</td>\n",
       "      <td>0</td>\n",
       "      <td>205</td>\n",
       "      <td>0</td>\n",
       "      <td>0</td>\n",
       "      <td>0</td>\n",
       "    </tr>\n",
       "    <tr>\n",
       "      <th>218</th>\n",
       "      <td>1</td>\n",
       "      <td>0</td>\n",
       "      <td>218</td>\n",
       "      <td>0</td>\n",
       "      <td>0</td>\n",
       "      <td>0</td>\n",
       "    </tr>\n",
       "    <tr>\n",
       "      <th>232</th>\n",
       "      <td>1</td>\n",
       "      <td>0</td>\n",
       "      <td>232</td>\n",
       "      <td>0</td>\n",
       "      <td>0</td>\n",
       "      <td>0</td>\n",
       "    </tr>\n",
       "  </tbody>\n",
       "</table>\n",
       "</div>"
      ],
      "text/plain": [
       "     Sim  t  area  NumInfected  NewInfections  NumAgents\n",
       "0      1  0     0            0              0          0\n",
       "2      1  0     2            0              0          0\n",
       "6      1  0     6            0              0          0\n",
       "8      1  0     8            0              0          0\n",
       "146    1  0   146            1              1       4241\n",
       "166    1  0   166            0              0          0\n",
       "168    1  0   168            0              0          0\n",
       "182    1  0   182            1              0       4337\n",
       "205    1  0   205            0              0          0\n",
       "218    1  0   218            0              0          0\n",
       "232    1  0   232            0              0          0"
      ]
     },
     "execution_count": 51,
     "metadata": {},
     "output_type": "execute_result"
    }
   ],
   "source": [
    "df.loc[df.area.isin(areas_not_in_gebiete_list),:]"
   ]
  },
  {
   "cell_type": "code",
   "execution_count": 53,
   "id": "7b808d92",
   "metadata": {},
   "outputs": [
    {
     "data": {
      "text/plain": [
       "np.int64(8578)"
      ]
     },
     "execution_count": 53,
     "metadata": {},
     "output_type": "execute_result"
    }
   ],
   "source": [
    "df.loc[df.area.isin(areas_not_in_gebiete_list),:].NumAgents.sum()"
   ]
  },
  {
   "cell_type": "code",
   "execution_count": 32,
   "id": "df4587c1",
   "metadata": {},
   "outputs": [],
   "source": [
    "n_upstream_agents = pd.DataFrame(list(n_agents.items()), columns=[\"Key\", \"NumAgents\"])"
   ]
  },
  {
   "cell_type": "code",
   "execution_count": 36,
   "id": "2b8fa934",
   "metadata": {},
   "outputs": [
    {
     "data": {
      "text/html": [
       "<div>\n",
       "<style scoped>\n",
       "    .dataframe tbody tr th:only-of-type {\n",
       "        vertical-align: middle;\n",
       "    }\n",
       "\n",
       "    .dataframe tbody tr th {\n",
       "        vertical-align: top;\n",
       "    }\n",
       "\n",
       "    .dataframe thead th {\n",
       "        text-align: right;\n",
       "    }\n",
       "</style>\n",
       "<table border=\"1\" class=\"dataframe\">\n",
       "  <thead>\n",
       "    <tr style=\"text-align: right;\">\n",
       "      <th></th>\n",
       "      <th>Key</th>\n",
       "      <th>NumAgents</th>\n",
       "    </tr>\n",
       "  </thead>\n",
       "  <tbody>\n",
       "    <tr>\n",
       "      <th>0</th>\n",
       "      <td>N_Ub</td>\n",
       "      <td>7123</td>\n",
       "    </tr>\n",
       "    <tr>\n",
       "      <th>1</th>\n",
       "      <td>S_M4</td>\n",
       "      <td>936099</td>\n",
       "    </tr>\n",
       "    <tr>\n",
       "      <th>2</th>\n",
       "      <td>C_U</td>\n",
       "      <td>8578</td>\n",
       "    </tr>\n",
       "    <tr>\n",
       "      <th>3</th>\n",
       "      <td>S_Ua</td>\n",
       "      <td>21865</td>\n",
       "    </tr>\n",
       "    <tr>\n",
       "      <th>4</th>\n",
       "      <td>N_Uc</td>\n",
       "      <td>12331</td>\n",
       "    </tr>\n",
       "    <tr>\n",
       "      <th>5</th>\n",
       "      <td>E_U</td>\n",
       "      <td>40185</td>\n",
       "    </tr>\n",
       "    <tr>\n",
       "      <th>6</th>\n",
       "      <td>SCE_D2</td>\n",
       "      <td>1327986</td>\n",
       "    </tr>\n",
       "    <tr>\n",
       "      <th>7</th>\n",
       "      <td>S_M3</td>\n",
       "      <td>637134</td>\n",
       "    </tr>\n",
       "    <tr>\n",
       "      <th>8</th>\n",
       "      <td>S_Ub</td>\n",
       "      <td>28344</td>\n",
       "    </tr>\n",
       "    <tr>\n",
       "      <th>9</th>\n",
       "      <td>N_D</td>\n",
       "      <td>200421</td>\n",
       "    </tr>\n",
       "    <tr>\n",
       "      <th>10</th>\n",
       "      <td>Overall</td>\n",
       "      <td>1528407</td>\n",
       "    </tr>\n",
       "    <tr>\n",
       "      <th>11</th>\n",
       "      <td>S_M2</td>\n",
       "      <td>546972</td>\n",
       "    </tr>\n",
       "    <tr>\n",
       "      <th>12</th>\n",
       "      <td>S_M1</td>\n",
       "      <td>208384</td>\n",
       "    </tr>\n",
       "    <tr>\n",
       "      <th>13</th>\n",
       "      <td>SCE_D1</td>\n",
       "      <td>1327986</td>\n",
       "    </tr>\n",
       "    <tr>\n",
       "      <th>14</th>\n",
       "      <td>E_M</td>\n",
       "      <td>137475</td>\n",
       "    </tr>\n",
       "    <tr>\n",
       "      <th>15</th>\n",
       "      <td>N_Ua</td>\n",
       "      <td>7246</td>\n",
       "    </tr>\n",
       "  </tbody>\n",
       "</table>\n",
       "</div>"
      ],
      "text/plain": [
       "        Key  NumAgents\n",
       "0      N_Ub       7123\n",
       "1      S_M4     936099\n",
       "2       C_U       8578\n",
       "3      S_Ua      21865\n",
       "4      N_Uc      12331\n",
       "5       E_U      40185\n",
       "6    SCE_D2    1327986\n",
       "7      S_M3     637134\n",
       "8      S_Ub      28344\n",
       "9       N_D     200421\n",
       "10  Overall    1528407\n",
       "11     S_M2     546972\n",
       "12     S_M1     208384\n",
       "13   SCE_D1    1327986\n",
       "14      E_M     137475\n",
       "15     N_Ua       7246"
      ]
     },
     "execution_count": 36,
     "metadata": {},
     "output_type": "execute_result"
    }
   ],
   "source": [
    "n_upstream_agents"
   ]
  },
  {
   "cell_type": "code",
   "execution_count": 57,
   "id": "000872ec",
   "metadata": {},
   "outputs": [
    {
     "data": {
      "text/plain": [
       "0.5581056418898038"
      ]
     },
     "execution_count": 57,
     "metadata": {},
     "output_type": "execute_result"
    }
   ],
   "source": [
    "8578/(1528407+8578)*100"
   ]
  },
  {
   "cell_type": "code",
   "execution_count": 12,
   "id": "cfe7dd6c",
   "metadata": {},
   "outputs": [
    {
     "data": {
      "text/html": [
       "<div>\n",
       "<style scoped>\n",
       "    .dataframe tbody tr th:only-of-type {\n",
       "        vertical-align: middle;\n",
       "    }\n",
       "\n",
       "    .dataframe tbody tr th {\n",
       "        vertical-align: top;\n",
       "    }\n",
       "\n",
       "    .dataframe thead th {\n",
       "        text-align: right;\n",
       "    }\n",
       "</style>\n",
       "<table border=\"1\" class=\"dataframe\">\n",
       "  <thead>\n",
       "    <tr style=\"text-align: right;\">\n",
       "      <th></th>\n",
       "      <th>Sim</th>\n",
       "      <th>t</th>\n",
       "      <th>area</th>\n",
       "      <th>NumInfected</th>\n",
       "      <th>NewInfections</th>\n",
       "      <th>NumAgents</th>\n",
       "    </tr>\n",
       "  </thead>\n",
       "  <tbody>\n",
       "    <tr>\n",
       "      <th>0</th>\n",
       "      <td>1</td>\n",
       "      <td>0</td>\n",
       "      <td>0</td>\n",
       "      <td>0</td>\n",
       "      <td>0</td>\n",
       "      <td>0</td>\n",
       "    </tr>\n",
       "    <tr>\n",
       "      <th>1</th>\n",
       "      <td>1</td>\n",
       "      <td>0</td>\n",
       "      <td>1</td>\n",
       "      <td>0</td>\n",
       "      <td>0</td>\n",
       "      <td>7270</td>\n",
       "    </tr>\n",
       "    <tr>\n",
       "      <th>2</th>\n",
       "      <td>1</td>\n",
       "      <td>0</td>\n",
       "      <td>2</td>\n",
       "      <td>0</td>\n",
       "      <td>0</td>\n",
       "      <td>0</td>\n",
       "    </tr>\n",
       "    <tr>\n",
       "      <th>3</th>\n",
       "      <td>1</td>\n",
       "      <td>0</td>\n",
       "      <td>3</td>\n",
       "      <td>0</td>\n",
       "      <td>0</td>\n",
       "      <td>8991</td>\n",
       "    </tr>\n",
       "    <tr>\n",
       "      <th>4</th>\n",
       "      <td>1</td>\n",
       "      <td>0</td>\n",
       "      <td>4</td>\n",
       "      <td>2</td>\n",
       "      <td>0</td>\n",
       "      <td>8244</td>\n",
       "    </tr>\n",
       "    <tr>\n",
       "      <th>...</th>\n",
       "      <td>...</td>\n",
       "      <td>...</td>\n",
       "      <td>...</td>\n",
       "      <td>...</td>\n",
       "      <td>...</td>\n",
       "      <td>...</td>\n",
       "    </tr>\n",
       "    <tr>\n",
       "      <th>239</th>\n",
       "      <td>1</td>\n",
       "      <td>0</td>\n",
       "      <td>239</td>\n",
       "      <td>0</td>\n",
       "      <td>0</td>\n",
       "      <td>2813</td>\n",
       "    </tr>\n",
       "    <tr>\n",
       "      <th>240</th>\n",
       "      <td>1</td>\n",
       "      <td>0</td>\n",
       "      <td>240</td>\n",
       "      <td>1</td>\n",
       "      <td>0</td>\n",
       "      <td>2822</td>\n",
       "    </tr>\n",
       "    <tr>\n",
       "      <th>241</th>\n",
       "      <td>1</td>\n",
       "      <td>0</td>\n",
       "      <td>241</td>\n",
       "      <td>2</td>\n",
       "      <td>0</td>\n",
       "      <td>5082</td>\n",
       "    </tr>\n",
       "    <tr>\n",
       "      <th>242</th>\n",
       "      <td>1</td>\n",
       "      <td>0</td>\n",
       "      <td>242</td>\n",
       "      <td>0</td>\n",
       "      <td>0</td>\n",
       "      <td>2682</td>\n",
       "    </tr>\n",
       "    <tr>\n",
       "      <th>243</th>\n",
       "      <td>1</td>\n",
       "      <td>0</td>\n",
       "      <td>243</td>\n",
       "      <td>0</td>\n",
       "      <td>0</td>\n",
       "      <td>4197</td>\n",
       "    </tr>\n",
       "  </tbody>\n",
       "</table>\n",
       "<p>244 rows × 6 columns</p>\n",
       "</div>"
      ],
      "text/plain": [
       "     Sim  t  area  NumInfected  NewInfections  NumAgents\n",
       "0      1  0     0            0              0          0\n",
       "1      1  0     1            0              0       7270\n",
       "2      1  0     2            0              0          0\n",
       "3      1  0     3            0              0       8991\n",
       "4      1  0     4            2              0       8244\n",
       "..   ... ..   ...          ...            ...        ...\n",
       "239    1  0   239            0              0       2813\n",
       "240    1  0   240            1              0       2822\n",
       "241    1  0   241            2              0       5082\n",
       "242    1  0   242            0              0       2682\n",
       "243    1  0   243            0              0       4197\n",
       "\n",
       "[244 rows x 6 columns]"
      ]
     },
     "execution_count": 12,
     "metadata": {},
     "output_type": "execute_result"
    }
   ],
   "source": [
    "df.loc[(df.t==0)&(df.Sim==1)]"
   ]
  },
  {
   "cell_type": "code",
   "execution_count": null,
   "metadata": {},
   "outputs": [],
   "source": []
  },
  {
   "cell_type": "code",
   "execution_count": null,
   "id": "eb724917",
   "metadata": {},
   "outputs": [],
   "source": []
  },
  {
   "cell_type": "code",
   "execution_count": 1,
   "id": "4386a79f",
   "metadata": {},
   "outputs": [],
   "source": [
    "import h5py\n",
    "import numpy as np\n",
    "from collections import defaultdict\n",
    "import pandas as pd \n",
    "\n",
    "from plotting_tools import *\n",
    "import geopandas as gpd"
   ]
  },
  {
   "cell_type": "code",
   "execution_count": 2,
   "id": "4649b5d9",
   "metadata": {},
   "outputs": [],
   "source": [
    "file_path = \"../../data/memilio_input/\""
   ]
  },
  {
   "cell_type": "code",
   "execution_count": 3,
   "id": "b2477a3b",
   "metadata": {},
   "outputs": [],
   "source": [
    "df_ABM_loc_size = pd.read_csv(file_path + \"../0_size_per_loc.txt\", sep=\" \", header=None, dtype={0: str})\n",
    "df_ABM_loc_size.columns = [\"loc\", \"n_Agents\"]\n",
    "\n",
    "def location_type(loc):\n",
    "    \"\"\"\n",
    "    Function to determine the type of location based on its name.\n",
    "    \"\"\"\n",
    "    if loc.startswith(\"00\"):\n",
    "        return \"home\"\n",
    "    elif loc.startswith(\"01\"):\n",
    "        return \"school\"\n",
    "    elif loc.startswith(\"02\"):\n",
    "        return \"work\"\n",
    "    elif loc.startswith(\"03\"):\n",
    "        return \"social event\"\n",
    "    elif loc.startswith(\"04\"):\n",
    "        return \"Shop\"\n",
    "    elif loc.startswith(\"05\"):\n",
    "        return \"Hospital\"\n",
    "    elif loc.startswith(\"06\"):\n",
    "        return \"ICU\"\n",
    "    elif loc.startswith(\"10\"):\n",
    "        return \"Cemetery\"\n",
    "    else:\n",
    "        return \"Unknown\"\n",
    "    \n",
    "df_ABM_loc_size[\"loc_type\"] = df_ABM_loc_size[\"loc\"].apply(location_type)"
   ]
  },
  {
   "cell_type": "code",
   "execution_count": 4,
   "id": "ebaa1eef",
   "metadata": {},
   "outputs": [
    {
     "data": {
      "text/html": [
       "<div>\n",
       "<style scoped>\n",
       "    .dataframe tbody tr th:only-of-type {\n",
       "        vertical-align: middle;\n",
       "    }\n",
       "\n",
       "    .dataframe tbody tr th {\n",
       "        vertical-align: top;\n",
       "    }\n",
       "\n",
       "    .dataframe thead th {\n",
       "        text-align: right;\n",
       "    }\n",
       "</style>\n",
       "<table border=\"1\" class=\"dataframe\">\n",
       "  <thead>\n",
       "    <tr style=\"text-align: right;\">\n",
       "      <th></th>\n",
       "      <th>loc</th>\n",
       "      <th>n_Agents</th>\n",
       "      <th>loc_type</th>\n",
       "    </tr>\n",
       "  </thead>\n",
       "  <tbody>\n",
       "    <tr>\n",
       "      <th>0</th>\n",
       "      <td>00100000</td>\n",
       "      <td>1</td>\n",
       "      <td>home</td>\n",
       "    </tr>\n",
       "    <tr>\n",
       "      <th>1</th>\n",
       "      <td>001000000</td>\n",
       "      <td>5</td>\n",
       "      <td>home</td>\n",
       "    </tr>\n",
       "    <tr>\n",
       "      <th>2</th>\n",
       "      <td>001000001</td>\n",
       "      <td>2</td>\n",
       "      <td>home</td>\n",
       "    </tr>\n",
       "    <tr>\n",
       "      <th>3</th>\n",
       "      <td>001000002</td>\n",
       "      <td>1</td>\n",
       "      <td>home</td>\n",
       "    </tr>\n",
       "    <tr>\n",
       "      <th>4</th>\n",
       "      <td>001000003</td>\n",
       "      <td>1</td>\n",
       "      <td>home</td>\n",
       "    </tr>\n",
       "  </tbody>\n",
       "</table>\n",
       "</div>"
      ],
      "text/plain": [
       "         loc  n_Agents loc_type\n",
       "0   00100000         1     home\n",
       "1  001000000         5     home\n",
       "2  001000001         2     home\n",
       "3  001000002         1     home\n",
       "4  001000003         1     home"
      ]
     },
     "execution_count": 4,
     "metadata": {},
     "output_type": "execute_result"
    }
   ],
   "source": [
    "df_ABM_loc_size.head()"
   ]
  },
  {
   "cell_type": "code",
   "execution_count": 24,
   "id": "4d610f5f",
   "metadata": {},
   "outputs": [],
   "source": [
    "df_ABM_tan_loc_mapping = pd.read_csv(file_path + \"../1_mapping_tan_locs.txt\", sep=\" \", header=None, index_col=None, dtype={0: str}).iloc[:,:2]\n",
    "df_ABM_tan_loc_mapping.columns = [\"loc\", \"tan_loc\"]"
   ]
  },
  {
   "cell_type": "code",
   "execution_count": 26,
   "id": "7a0f12e3",
   "metadata": {},
   "outputs": [],
   "source": [
    "df_loc = pd.merge(df_ABM_loc_size, df_ABM_tan_loc_mapping, on=\"loc\", how=\"outer\")"
   ]
  },
  {
   "cell_type": "code",
   "execution_count": 31,
   "id": "505dc880",
   "metadata": {},
   "outputs": [
    {
     "data": {
      "text/html": [
       "<div>\n",
       "<style scoped>\n",
       "    .dataframe tbody tr th:only-of-type {\n",
       "        vertical-align: middle;\n",
       "    }\n",
       "\n",
       "    .dataframe tbody tr th {\n",
       "        vertical-align: top;\n",
       "    }\n",
       "\n",
       "    .dataframe thead th {\n",
       "        text-align: right;\n",
       "    }\n",
       "</style>\n",
       "<table border=\"1\" class=\"dataframe\">\n",
       "  <thead>\n",
       "    <tr style=\"text-align: right;\">\n",
       "      <th></th>\n",
       "      <th>loc_type</th>\n",
       "      <th>n_Agents</th>\n",
       "    </tr>\n",
       "  </thead>\n",
       "  <tbody>\n",
       "    <tr>\n",
       "      <th>3</th>\n",
       "      <td>social event</td>\n",
       "      <td>7784.0</td>\n",
       "    </tr>\n",
       "    <tr>\n",
       "      <th>1</th>\n",
       "      <td>home</td>\n",
       "      <td>7174.0</td>\n",
       "    </tr>\n",
       "    <tr>\n",
       "      <th>0</th>\n",
       "      <td>Shop</td>\n",
       "      <td>5370.0</td>\n",
       "    </tr>\n",
       "    <tr>\n",
       "      <th>4</th>\n",
       "      <td>work</td>\n",
       "      <td>3306.0</td>\n",
       "    </tr>\n",
       "    <tr>\n",
       "      <th>2</th>\n",
       "      <td>school</td>\n",
       "      <td>316.0</td>\n",
       "    </tr>\n",
       "  </tbody>\n",
       "</table>\n",
       "</div>"
      ],
      "text/plain": [
       "       loc_type  n_Agents\n",
       "3  social event    7784.0\n",
       "1          home    7174.0\n",
       "0          Shop    5370.0\n",
       "4          work    3306.0\n",
       "2        school     316.0"
      ]
     },
     "execution_count": 31,
     "metadata": {},
     "output_type": "execute_result"
    }
   ],
   "source": [
    "df_loc.loc[df_loc.tan_loc==64].groupby(\"loc_type\").agg({\"n_Agents\": \"sum\"}).reset_index().sort_values(\"n_Agents\", ascending=False)"
   ]
  },
  {
   "cell_type": "code",
   "execution_count": 30,
   "id": "f91d8d05",
   "metadata": {},
   "outputs": [
    {
     "data": {
      "text/html": [
       "<div>\n",
       "<style scoped>\n",
       "    .dataframe tbody tr th:only-of-type {\n",
       "        vertical-align: middle;\n",
       "    }\n",
       "\n",
       "    .dataframe tbody tr th {\n",
       "        vertical-align: top;\n",
       "    }\n",
       "\n",
       "    .dataframe thead th {\n",
       "        text-align: right;\n",
       "    }\n",
       "</style>\n",
       "<table border=\"1\" class=\"dataframe\">\n",
       "  <thead>\n",
       "    <tr style=\"text-align: right;\">\n",
       "      <th></th>\n",
       "      <th>loc_type</th>\n",
       "      <th>n_Agents</th>\n",
       "    </tr>\n",
       "  </thead>\n",
       "  <tbody>\n",
       "    <tr>\n",
       "      <th>1</th>\n",
       "      <td>home</td>\n",
       "      <td>7136.0</td>\n",
       "    </tr>\n",
       "    <tr>\n",
       "      <th>0</th>\n",
       "      <td>Shop</td>\n",
       "      <td>5143.0</td>\n",
       "    </tr>\n",
       "    <tr>\n",
       "      <th>3</th>\n",
       "      <td>social event</td>\n",
       "      <td>4898.0</td>\n",
       "    </tr>\n",
       "    <tr>\n",
       "      <th>4</th>\n",
       "      <td>work</td>\n",
       "      <td>2544.0</td>\n",
       "    </tr>\n",
       "    <tr>\n",
       "      <th>2</th>\n",
       "      <td>school</td>\n",
       "      <td>631.0</td>\n",
       "    </tr>\n",
       "  </tbody>\n",
       "</table>\n",
       "</div>"
      ],
      "text/plain": [
       "       loc_type  n_Agents\n",
       "1          home    7136.0\n",
       "0          Shop    5143.0\n",
       "3  social event    4898.0\n",
       "4          work    2544.0\n",
       "2        school     631.0"
      ]
     },
     "execution_count": 30,
     "metadata": {},
     "output_type": "execute_result"
    }
   ],
   "source": [
    "df_loc.loc[df_loc.tan_loc==234].groupby(\"loc_type\").agg({\"n_Agents\": \"sum\"}).reset_index().sort_values(\"n_Agents\", ascending=False)"
   ]
  },
  {
   "cell_type": "code",
   "execution_count": 35,
   "id": "1b5fda94",
   "metadata": {},
   "outputs": [
    {
     "data": {
      "text/plain": [
       "452879.0"
      ]
     },
     "execution_count": 35,
     "metadata": {},
     "output_type": "execute_result"
    }
   ],
   "source": [
    "255577.0+197302.0"
   ]
  },
  {
   "cell_type": "code",
   "execution_count": 39,
   "id": "e57b2f2a",
   "metadata": {},
   "outputs": [
    {
     "data": {
      "text/plain": [
       "1320"
      ]
     },
     "execution_count": 39,
     "metadata": {},
     "output_type": "execute_result"
    }
   ],
   "source": [
    "1005+315"
   ]
  },
  {
   "cell_type": "code",
   "execution_count": 38,
   "id": "e1e9392c",
   "metadata": {},
   "outputs": [
    {
     "data": {
      "text/plain": [
       "316.6666666666667"
      ]
     },
     "execution_count": 38,
     "metadata": {},
     "output_type": "execute_result"
    }
   ],
   "source": [
    "(1955-1005)/3"
   ]
  },
  {
   "cell_type": "code",
   "execution_count": 34,
   "id": "f43aee32",
   "metadata": {},
   "outputs": [
    {
     "data": {
      "text/html": [
       "<div>\n",
       "<style scoped>\n",
       "    .dataframe tbody tr th:only-of-type {\n",
       "        vertical-align: middle;\n",
       "    }\n",
       "\n",
       "    .dataframe tbody tr th {\n",
       "        vertical-align: top;\n",
       "    }\n",
       "\n",
       "    .dataframe thead th {\n",
       "        text-align: right;\n",
       "    }\n",
       "</style>\n",
       "<table border=\"1\" class=\"dataframe\">\n",
       "  <thead>\n",
       "    <tr style=\"text-align: right;\">\n",
       "      <th></th>\n",
       "      <th>loc_type</th>\n",
       "      <th>n_Agents</th>\n",
       "    </tr>\n",
       "  </thead>\n",
       "  <tbody>\n",
       "    <tr>\n",
       "      <th>1</th>\n",
       "      <td>ICU</td>\n",
       "      <td>255577.0</td>\n",
       "    </tr>\n",
       "    <tr>\n",
       "      <th>0</th>\n",
       "      <td>Hospital</td>\n",
       "      <td>197302.0</td>\n",
       "    </tr>\n",
       "    <tr>\n",
       "      <th>5</th>\n",
       "      <td>social event</td>\n",
       "      <td>3829.0</td>\n",
       "    </tr>\n",
       "    <tr>\n",
       "      <th>2</th>\n",
       "      <td>Shop</td>\n",
       "      <td>1605.0</td>\n",
       "    </tr>\n",
       "    <tr>\n",
       "      <th>6</th>\n",
       "      <td>work</td>\n",
       "      <td>970.0</td>\n",
       "    </tr>\n",
       "    <tr>\n",
       "      <th>4</th>\n",
       "      <td>school</td>\n",
       "      <td>768.0</td>\n",
       "    </tr>\n",
       "    <tr>\n",
       "      <th>3</th>\n",
       "      <td>home</td>\n",
       "      <td>7.0</td>\n",
       "    </tr>\n",
       "  </tbody>\n",
       "</table>\n",
       "</div>"
      ],
      "text/plain": [
       "       loc_type  n_Agents\n",
       "1           ICU  255577.0\n",
       "0      Hospital  197302.0\n",
       "5  social event    3829.0\n",
       "2          Shop    1605.0\n",
       "6          work     970.0\n",
       "4        school     768.0\n",
       "3          home       7.0"
      ]
     },
     "execution_count": 34,
     "metadata": {},
     "output_type": "execute_result"
    }
   ],
   "source": [
    "df_loc.groupby(\"loc_type\").agg({\"n_Agents\": \"max\"}).reset_index().sort_values(\"n_Agents\", ascending=False)"
   ]
  },
  {
   "cell_type": "code",
   "execution_count": 33,
   "id": "e62da4b5",
   "metadata": {},
   "outputs": [
    {
     "data": {
      "text/html": [
       "<div>\n",
       "<style scoped>\n",
       "    .dataframe tbody tr th:only-of-type {\n",
       "        vertical-align: middle;\n",
       "    }\n",
       "\n",
       "    .dataframe tbody tr th {\n",
       "        vertical-align: top;\n",
       "    }\n",
       "\n",
       "    .dataframe thead th {\n",
       "        text-align: right;\n",
       "    }\n",
       "</style>\n",
       "<table border=\"1\" class=\"dataframe\">\n",
       "  <thead>\n",
       "    <tr style=\"text-align: right;\">\n",
       "      <th></th>\n",
       "      <th>loc_type</th>\n",
       "      <th>n_Agents</th>\n",
       "    </tr>\n",
       "  </thead>\n",
       "  <tbody>\n",
       "    <tr>\n",
       "      <th>3</th>\n",
       "      <td>social event</td>\n",
       "      <td>2001.0</td>\n",
       "    </tr>\n",
       "    <tr>\n",
       "      <th>0</th>\n",
       "      <td>Shop</td>\n",
       "      <td>867.0</td>\n",
       "    </tr>\n",
       "    <tr>\n",
       "      <th>4</th>\n",
       "      <td>work</td>\n",
       "      <td>792.0</td>\n",
       "    </tr>\n",
       "    <tr>\n",
       "      <th>2</th>\n",
       "      <td>school</td>\n",
       "      <td>316.0</td>\n",
       "    </tr>\n",
       "    <tr>\n",
       "      <th>1</th>\n",
       "      <td>home</td>\n",
       "      <td>7.0</td>\n",
       "    </tr>\n",
       "  </tbody>\n",
       "</table>\n",
       "</div>"
      ],
      "text/plain": [
       "       loc_type  n_Agents\n",
       "3  social event    2001.0\n",
       "0          Shop     867.0\n",
       "4          work     792.0\n",
       "2        school     316.0\n",
       "1          home       7.0"
      ]
     },
     "execution_count": 33,
     "metadata": {},
     "output_type": "execute_result"
    }
   ],
   "source": [
    "df_loc.loc[df_loc.tan_loc==64].groupby(\"loc_type\").agg({\"n_Agents\": \"max\"}).reset_index().sort_values(\"n_Agents\", ascending=False)"
   ]
  },
  {
   "cell_type": "code",
   "execution_count": 32,
   "id": "e411d71d",
   "metadata": {},
   "outputs": [
    {
     "data": {
      "text/html": [
       "<div>\n",
       "<style scoped>\n",
       "    .dataframe tbody tr th:only-of-type {\n",
       "        vertical-align: middle;\n",
       "    }\n",
       "\n",
       "    .dataframe tbody tr th {\n",
       "        vertical-align: top;\n",
       "    }\n",
       "\n",
       "    .dataframe thead th {\n",
       "        text-align: right;\n",
       "    }\n",
       "</style>\n",
       "<table border=\"1\" class=\"dataframe\">\n",
       "  <thead>\n",
       "    <tr style=\"text-align: right;\">\n",
       "      <th></th>\n",
       "      <th>loc_type</th>\n",
       "      <th>n_Agents</th>\n",
       "    </tr>\n",
       "  </thead>\n",
       "  <tbody>\n",
       "    <tr>\n",
       "      <th>0</th>\n",
       "      <td>Shop</td>\n",
       "      <td>1605.0</td>\n",
       "    </tr>\n",
       "    <tr>\n",
       "      <th>3</th>\n",
       "      <td>social event</td>\n",
       "      <td>634.0</td>\n",
       "    </tr>\n",
       "    <tr>\n",
       "      <th>2</th>\n",
       "      <td>school</td>\n",
       "      <td>631.0</td>\n",
       "    </tr>\n",
       "    <tr>\n",
       "      <th>4</th>\n",
       "      <td>work</td>\n",
       "      <td>146.0</td>\n",
       "    </tr>\n",
       "    <tr>\n",
       "      <th>1</th>\n",
       "      <td>home</td>\n",
       "      <td>7.0</td>\n",
       "    </tr>\n",
       "  </tbody>\n",
       "</table>\n",
       "</div>"
      ],
      "text/plain": [
       "       loc_type  n_Agents\n",
       "0          Shop    1605.0\n",
       "3  social event     634.0\n",
       "2        school     631.0\n",
       "4          work     146.0\n",
       "1          home       7.0"
      ]
     },
     "execution_count": 32,
     "metadata": {},
     "output_type": "execute_result"
    }
   ],
   "source": [
    "df_loc.loc[df_loc.tan_loc==234].groupby(\"loc_type\").agg({\"n_Agents\": \"max\"}).reset_index().sort_values(\"n_Agents\", ascending=False)"
   ]
  },
  {
   "cell_type": "code",
   "execution_count": null,
   "id": "7faa2c24",
   "metadata": {},
   "outputs": [],
   "source": []
  },
  {
   "cell_type": "code",
   "execution_count": null,
   "id": "f9ceeb1f",
   "metadata": {},
   "outputs": [],
   "source": [
    "df_loc.loc[df_loc.tan_loc==].groupby(\"loc_type\").agg({\"n_Agents\": \"sum\"}).reset_index().sort_values(\"n_Agents\", ascending=False)"
   ]
  },
  {
   "cell_type": "markdown",
   "id": "2448784e",
   "metadata": {},
   "source": []
  },
  {
   "cell_type": "code",
   "execution_count": null,
   "id": "e4c62c2e",
   "metadata": {},
   "outputs": [],
   "source": []
  },
  {
   "cell_type": "code",
   "execution_count": null,
   "id": "f4c8f921",
   "metadata": {},
   "outputs": [],
   "source": [
    "8743027"
   ]
  },
  {
   "cell_type": "code",
   "execution_count": 24,
   "id": "0af9c30d",
   "metadata": {},
   "outputs": [
    {
     "data": {
      "text/plain": [
       "np.True_"
      ]
     },
     "execution_count": 24,
     "metadata": {},
     "output_type": "execute_result"
    }
   ],
   "source": [
    "1536985*4 < df_ABM_loc_size.n_Agents.sum()"
   ]
  },
  {
   "cell_type": "code",
   "execution_count": 19,
   "id": "55bf1e64",
   "metadata": {},
   "outputs": [],
   "source": [
    "df =pd.read_csv(file_path+\"persons.csv\")\n",
    "shape_file = gpd.read_file(file_path+\"Munich_shape250319/Verschnitt_DLR_TAN_Rep.shp\")\n"
   ]
  },
  {
   "cell_type": "code",
   "execution_count": 20,
   "id": "ce6d9db2",
   "metadata": {},
   "outputs": [
    {
     "data": {
      "text/html": [
       "<div>\n",
       "<style scoped>\n",
       "    .dataframe tbody tr th:only-of-type {\n",
       "        vertical-align: middle;\n",
       "    }\n",
       "\n",
       "    .dataframe tbody tr th {\n",
       "        vertical-align: top;\n",
       "    }\n",
       "\n",
       "    .dataframe thead th {\n",
       "        text-align: right;\n",
       "    }\n",
       "</style>\n",
       "<table border=\"1\" class=\"dataframe\">\n",
       "  <thead>\n",
       "    <tr style=\"text-align: right;\">\n",
       "      <th></th>\n",
       "      <th>Unnamed: 0</th>\n",
       "      <th>puid</th>\n",
       "      <th>age</th>\n",
       "      <th>home_zone</th>\n",
       "      <th>home_id</th>\n",
       "      <th>shop_zone</th>\n",
       "      <th>shop_id</th>\n",
       "      <th>event_zone</th>\n",
       "      <th>event_id</th>\n",
       "      <th>work_zone</th>\n",
       "      <th>work_id</th>\n",
       "      <th>school_zone</th>\n",
       "      <th>school_id</th>\n",
       "    </tr>\n",
       "  </thead>\n",
       "  <tbody>\n",
       "    <tr>\n",
       "      <th>0</th>\n",
       "      <td>0</td>\n",
       "      <td>863051</td>\n",
       "      <td>50</td>\n",
       "      <td>91620671</td>\n",
       "      <td>86305</td>\n",
       "      <td>91620671</td>\n",
       "      <td>14601362</td>\n",
       "      <td>91620671</td>\n",
       "      <td>14601315</td>\n",
       "      <td>91820112</td>\n",
       "      <td>14829646</td>\n",
       "      <td>-2</td>\n",
       "      <td>-2</td>\n",
       "    </tr>\n",
       "    <tr>\n",
       "      <th>1</th>\n",
       "      <td>1</td>\n",
       "      <td>863791</td>\n",
       "      <td>50</td>\n",
       "      <td>91620691</td>\n",
       "      <td>86379</td>\n",
       "      <td>91620691</td>\n",
       "      <td>14629079</td>\n",
       "      <td>91620691</td>\n",
       "      <td>14625743</td>\n",
       "      <td>91820112</td>\n",
       "      <td>14829638</td>\n",
       "      <td>-2</td>\n",
       "      <td>-2</td>\n",
       "    </tr>\n",
       "    <tr>\n",
       "      <th>2</th>\n",
       "      <td>2</td>\n",
       "      <td>883451</td>\n",
       "      <td>50</td>\n",
       "      <td>91620811</td>\n",
       "      <td>88345</td>\n",
       "      <td>91820012</td>\n",
       "      <td>14582286</td>\n",
       "      <td>91620811</td>\n",
       "      <td>14598482</td>\n",
       "      <td>91820112</td>\n",
       "      <td>14829614</td>\n",
       "      <td>-2</td>\n",
       "      <td>-2</td>\n",
       "    </tr>\n",
       "    <tr>\n",
       "      <th>3</th>\n",
       "      <td>3</td>\n",
       "      <td>1247641</td>\n",
       "      <td>51</td>\n",
       "      <td>91620521</td>\n",
       "      <td>124764</td>\n",
       "      <td>91620521</td>\n",
       "      <td>14393929</td>\n",
       "      <td>91620521</td>\n",
       "      <td>14397895</td>\n",
       "      <td>91620521</td>\n",
       "      <td>14395347</td>\n",
       "      <td>-2</td>\n",
       "      <td>-2</td>\n",
       "    </tr>\n",
       "    <tr>\n",
       "      <th>4</th>\n",
       "      <td>4</td>\n",
       "      <td>1257601</td>\n",
       "      <td>57</td>\n",
       "      <td>91620591</td>\n",
       "      <td>125760</td>\n",
       "      <td>91620591</td>\n",
       "      <td>14425142</td>\n",
       "      <td>91820025</td>\n",
       "      <td>14828673</td>\n",
       "      <td>91870042</td>\n",
       "      <td>15454696</td>\n",
       "      <td>-2</td>\n",
       "      <td>-2</td>\n",
       "    </tr>\n",
       "  </tbody>\n",
       "</table>\n",
       "</div>"
      ],
      "text/plain": [
       "   Unnamed: 0     puid  age  home_zone  home_id  shop_zone   shop_id  \\\n",
       "0           0   863051   50   91620671    86305   91620671  14601362   \n",
       "1           1   863791   50   91620691    86379   91620691  14629079   \n",
       "2           2   883451   50   91620811    88345   91820012  14582286   \n",
       "3           3  1247641   51   91620521   124764   91620521  14393929   \n",
       "4           4  1257601   57   91620591   125760   91620591  14425142   \n",
       "\n",
       "   event_zone  event_id  work_zone   work_id  school_zone  school_id  \n",
       "0    91620671  14601315   91820112  14829646           -2         -2  \n",
       "1    91620691  14625743   91820112  14829638           -2         -2  \n",
       "2    91620811  14598482   91820112  14829614           -2         -2  \n",
       "3    91620521  14397895   91620521  14395347           -2         -2  \n",
       "4    91820025  14828673   91870042  15454696           -2         -2  "
      ]
     },
     "execution_count": 20,
     "metadata": {},
     "output_type": "execute_result"
    }
   ],
   "source": [
    "df.head()"
   ]
  },
  {
   "cell_type": "code",
   "execution_count": 21,
   "id": "7c436971",
   "metadata": {},
   "outputs": [
    {
     "data": {
      "text/plain": [
       "(1536985, 13)"
      ]
     },
     "execution_count": 21,
     "metadata": {},
     "output_type": "execute_result"
    }
   ],
   "source": [
    "df.shape"
   ]
  },
  {
   "cell_type": "code",
   "execution_count": 29,
   "id": "b8c2f7fa",
   "metadata": {},
   "outputs": [],
   "source": [
    "memilio_zone = shape_file.loc[shape_file[\"ID_TAN\"]==64, \"id_n\"].iloc[0]"
   ]
  },
  {
   "cell_type": "code",
   "execution_count": 36,
   "id": "8e5404a4",
   "metadata": {},
   "outputs": [
    {
     "data": {
      "text/html": [
       "<div>\n",
       "<style scoped>\n",
       "    .dataframe tbody tr th:only-of-type {\n",
       "        vertical-align: middle;\n",
       "    }\n",
       "\n",
       "    .dataframe tbody tr th {\n",
       "        vertical-align: top;\n",
       "    }\n",
       "\n",
       "    .dataframe thead th {\n",
       "        text-align: right;\n",
       "    }\n",
       "</style>\n",
       "<table border=\"1\" class=\"dataframe\">\n",
       "  <thead>\n",
       "    <tr style=\"text-align: right;\">\n",
       "      <th></th>\n",
       "      <th>id</th>\n",
       "      <th>geom</th>\n",
       "      <th>id_n</th>\n",
       "      <th>ags</th>\n",
       "      <th>gen</th>\n",
       "      <th>ind</th>\n",
       "      <th>ID_TAN</th>\n",
       "      <th>geometry</th>\n",
       "    </tr>\n",
       "  </thead>\n",
       "  <tbody>\n",
       "    <tr>\n",
       "      <th>53</th>\n",
       "      <td>4613</td>\n",
       "      <td>0106000020E6100000010000000103000000010000001B...</td>\n",
       "      <td>91620111</td>\n",
       "      <td>9162000</td>\n",
       "      <td>München</td>\n",
       "      <td>4612</td>\n",
       "      <td>64</td>\n",
       "      <td>POLYGON ((691190.778 5343013.348, 691189.657 5...</td>\n",
       "    </tr>\n",
       "    <tr>\n",
       "      <th>104</th>\n",
       "      <td>4613</td>\n",
       "      <td>0106000020E6100000010000000103000000010000001B...</td>\n",
       "      <td>91620111</td>\n",
       "      <td>9162000</td>\n",
       "      <td>München</td>\n",
       "      <td>4612</td>\n",
       "      <td>234</td>\n",
       "      <td>POLYGON ((690524.966 5343093.232, 690190.114 5...</td>\n",
       "    </tr>\n",
       "  </tbody>\n",
       "</table>\n",
       "</div>"
      ],
      "text/plain": [
       "       id                                               geom      id_n  \\\n",
       "53   4613  0106000020E6100000010000000103000000010000001B...  91620111   \n",
       "104  4613  0106000020E6100000010000000103000000010000001B...  91620111   \n",
       "\n",
       "         ags      gen   ind  ID_TAN  \\\n",
       "53   9162000  München  4612      64   \n",
       "104  9162000  München  4612     234   \n",
       "\n",
       "                                              geometry  \n",
       "53   POLYGON ((691190.778 5343013.348, 691189.657 5...  \n",
       "104  POLYGON ((690524.966 5343093.232, 690190.114 5...  "
      ]
     },
     "execution_count": 36,
     "metadata": {},
     "output_type": "execute_result"
    }
   ],
   "source": [
    "shape_file.loc[shape_file[\"id_n\"]==memilio_zone]"
   ]
  },
  {
   "cell_type": "code",
   "execution_count": 41,
   "id": "09c1db7d",
   "metadata": {},
   "outputs": [
    {
     "data": {
      "text/plain": [
       "<Axes: >"
      ]
     },
     "execution_count": 41,
     "metadata": {},
     "output_type": "execute_result"
    },
    {
     "data": {
      "image/png": "[encoded data removed]",
      "text/plain": [
       "<Figure size 640x480 with 1 Axes>"
      ]
     },
     "metadata": {},
     "output_type": "display_data"
    }
   ],
   "source": [
    "shape_file.groupby(\"id_n\")[\"ID_TAN\"].count().hist()"
   ]
  },
  {
   "cell_type": "code",
   "execution_count": 33,
   "id": "a36e8296",
   "metadata": {},
   "outputs": [
    {
     "name": "stdout",
     "output_type": "stream",
     "text": [
      "Citizens in zone 91620111: 14349\n",
      "Citizens working in zone 91620111: 3465\n",
      "Citizens working outside zone 91620111: 10884\n"
     ]
    }
   ],
   "source": [
    "citizens = df.loc[df[\"home_zone\"]==memilio_zone, :].shape[0]\n",
    "\n",
    "citizens_and_working_in_zone = df.loc[(df[\"home_zone\"]==memilio_zone)&(df[\"work_zone\"]==memilio_zone), :].shape[0]\n",
    "citizens_and_working_outside_zone = df.loc[(df[\"home_zone\"]==memilio_zone)&(df[\"work_zone\"]!=memilio_zone), :].shape[0]\n",
    "\n",
    "print(f\"Citizens in zone {memilio_zone}: {citizens}\")\n",
    "print(f\"Citizens working in zone {memilio_zone}: {citizens_and_working_in_zone}\")\n",
    "print(f\"Citizens working outside zone {memilio_zone}: {citizens_and_working_outside_zone}\")"
   ]
  },
  {
   "cell_type": "markdown",
   "id": "85be77ff",
   "metadata": {},
   "source": [
    "### Questions"
   ]
  },
  {
   "cell_type": "markdown",
   "id": "6898012c",
   "metadata": {},
   "source": [
    "kommen in 64 neue agenten rein / wie viele? \n",
    "wie viele locations sind da? \n",
    "\n",
    "3 Tage rauspicken und zu welchen Tageszeiten geht das hoch und runter? "
   ]
  },
  {
   "cell_type": "code",
   "execution_count": null,
   "id": "f7d43d4b",
   "metadata": {},
   "outputs": [],
   "source": []
  }
 ],
 "metadata": {
  "kernelspec": {
   "display_name": ".venv",
   "language": "python",
   "name": "python3"
  },
  "language_info": {
   "codemirror_mode": {
    "name": "ipython",
    "version": 3
   },
   "file_extension": ".py",
   "mimetype": "text/x-python",
   "name": "python",
   "nbconvert_exporter": "python",
   "pygments_lexer": "ipython3",
   "version": "3.12.3"
  }
 },
 "nbformat": 4,
 "nbformat_minor": 5
}

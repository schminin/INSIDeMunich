{
 "cells": [
  {
   "cell_type": "code",
   "execution_count": 66,
   "id": "46ffb20f",
   "metadata": {},
   "outputs": [],
   "source": [
    "import h5py\n",
    "import numpy as np\n",
    "from collections import defaultdict\n",
    "import pandas as pd \n",
    "\n",
    "from plotting_tools import *"
   ]
  },
  {
   "cell_type": "code",
   "execution_count": 67,
   "id": "03da2922",
   "metadata": {},
   "outputs": [
    {
     "data": {
      "text/plain": [
       "'/home/nina/PycharmProjects/INSIDeMunich/analysis/scripts'"
      ]
     },
     "execution_count": 67,
     "metadata": {},
     "output_type": "execute_result"
    }
   ],
   "source": [
    "import os\n",
    "os.getcwd()"
   ]
  },
  {
   "cell_type": "code",
   "execution_count": 68,
   "id": "e43548ee",
   "metadata": {},
   "outputs": [],
   "source": [
    "def read_infection_paths(memilio_id):\n",
    "    file_name = f\"{memilio_id}_infection_paths.txt\"\n",
    "    file_path = f\"/media/nina/inside/memilio_20250529/{file_name}\"\n",
    "    df = pd.read_csv(file_path, sep=\" \")\n",
    "    df.reset_index(inplace=True)\n",
    "    df.columns = df.columns[2:].values.tolist() + [\"id1\", \"id2\"]\n",
    "    return df"
   ]
  },
  {
   "cell_type": "code",
   "execution_count": 69,
   "id": "2eb9232e",
   "metadata": {},
   "outputs": [],
   "source": [
    "def get_infections(df, with_exposed=False):\n",
    "    if with_exposed:\n",
    "        return ((df[\"E\"]!=0.0)|(df[\"I_ns\"]!=0.0)|(df[\"I_sy\"]!=0.0)|(df[\"I_sev\"]!=0.0)|(df[\"I_cri\"]!=0.0)).sum()\n",
    "    else:\n",
    "        return ((df[\"I_ns\"]!=0.0)|(df[\"I_sy\"]!=0.0)|(df[\"I_sev\"]!=0.0)|(df[\"I_cri\"]!=0.0)).sum()"
   ]
  },
  {
   "cell_type": "code",
   "execution_count": 72,
   "id": "486bc408",
   "metadata": {},
   "outputs": [],
   "source": [
    "def get_severe_infections(df):\n",
    "    return ((df[\"I_sev\"]!=0.0)|(df[\"I_cri\"]!=0.0)).sum()"
   ]
  },
  {
   "cell_type": "code",
   "execution_count": 76,
   "id": "513ae1e3",
   "metadata": {},
   "outputs": [],
   "source": [
    "def get_symptomatic_infections(df):\n",
    "    return ((df[\"I_sev\"]!=0.0)|(df[\"I_cri\"]!=0.0)|(df[\"I_sy\"]!=0.0)).sum()"
   ]
  },
  {
   "cell_type": "code",
   "execution_count": 77,
   "id": "7d1744db",
   "metadata": {},
   "outputs": [
    {
     "name": "stdout",
     "output_type": "stream",
     "text": [
      "Infections:  29731\n",
      "Symptomatic Infections:  23565\n",
      "Severe Infections:  553\n"
     ]
    }
   ],
   "source": [
    "df = read_infection_paths(1)\n",
    "print(\"Infections: \", get_infections(df, with_exposed=True))\n",
    "print(\"Symptomatic Infections: \", get_symptomatic_infections(df))\n",
    "print(\"Severe Infections: \", get_severe_infections(df))\n"
   ]
  },
  {
   "cell_type": "code",
   "execution_count": 79,
   "id": "f236fd1e",
   "metadata": {},
   "outputs": [
    {
     "name": "stdout",
     "output_type": "stream",
     "text": [
      "Infections:  30415\n",
      "Symptomatic Infections:  24172\n",
      "Severe Infections:  600\n"
     ]
    }
   ],
   "source": [
    "df = read_infection_paths(2)\n",
    "print(\"Infections: \", get_infections(df, with_exposed=True))\n",
    "print(\"Symptomatic Infections: \", get_symptomatic_infections(df))\n",
    "print(\"Severe Infections: \", get_severe_infections(df))"
   ]
  },
  {
   "cell_type": "code",
   "execution_count": null,
   "id": "26490c3e",
   "metadata": {},
   "outputs": [],
   "source": []
  }
 ],
 "metadata": {
  "kernelspec": {
   "display_name": ".venv",
   "language": "python",
   "name": "python3"
  },
  "language_info": {
   "codemirror_mode": {
    "name": "ipython",
    "version": 3
   },
   "file_extension": ".py",
   "mimetype": "text/x-python",
   "name": "python",
   "nbconvert_exporter": "python",
   "pygments_lexer": "ipython3",
   "version": "3.10.12"
  }
 },
 "nbformat": 4,
 "nbformat_minor": 5
}

{
 "cells": [
  {
   "cell_type": "code",
   "execution_count": null,
   "metadata": {},
   "outputs": [],
   "source": [
    "import pandas as pd\n",
    "import numpy as np\n",
    "import matplotlib.pyplot as plt\n",
    "import seaborn as sns\n",
    "import os\n",
    "\n",
    "import sys\n",
    "sys.path.append(\"..\")\n",
    "\n",
    "from plotting_tools import * "
   ]
  },
  {
   "cell_type": "code",
   "execution_count": null,
   "metadata": {},
   "outputs": [],
   "source": [
    "experiment_series =\"pop8\"\n",
    "precipitation_setting = \"Rain\"\n",
    "decay_setting = \"decay\""
   ]
  },
  {
   "cell_type": "code",
   "execution_count": null,
   "metadata": {},
   "outputs": [],
   "source": [
    "result_path = f\"../../../preprocessing/preprocessed_data/{experiment_series}\"\n",
    "\n",
    "precipitation_setting = \"Rain\"\n",
    "decay_setting = \"decay\"\n",
    "df_Rain_decay = pd.read_csv(f\"{result_path}/substances/{decay_setting}_{precipitation_setting}_output_scaled.csv\")\n",
    "df_Rain_decay = df_Rain_decay[(df_Rain_decay[\"variable\"] == \"COV19\") & (df_Rain_decay[\"manhole\"].isin(manhole_names.keys()))]\n",
    "df_Rain_decay[\"location\"] = df_Rain_decay[\"manhole\"].map(manhole_names)\n",
    "df_Rain_decay = df_Rain_decay.loc[df_Rain_decay[\"location\"].isin([\"N_Ua\", \"N_D\"])]\n",
    "\n",
    "precipitation_setting = \"Rain\"\n",
    "decay_setting = \"no_decay\"\n",
    "df_Rain_no_decay = pd.read_csv(f\"{result_path}/substances/{decay_setting}_{precipitation_setting}_output_scaled.csv\")\n",
    "df_Rain_no_decay = df_Rain_no_decay[(df_Rain_no_decay[\"variable\"] == \"COV19\") & (df_Rain_no_decay[\"manhole\"].isin(manhole_names.keys()))]\n",
    "df_Rain_no_decay[\"location\"] = df_Rain_no_decay[\"manhole\"].map(manhole_names)\n",
    "df_Rain_no_decay = df_Rain_no_decay.loc[df_Rain_no_decay[\"location\"].isin([\"N_Ua\", \"N_D\"])]\n",
    "\n",
    "precipitation_setting = \"noRain\"\n",
    "decay_setting = \"no_decay\"\n",
    "df_noRain_no_decay = pd.read_csv(f\"{result_path}/substances/{decay_setting}_{precipitation_setting}_output_scaled.csv\")\n",
    "df_noRain_no_decay = df_noRain_no_decay[(df_noRain_no_decay[\"variable\"] == \"COV19\") & (df_noRain_no_decay[\"manhole\"].isin(manhole_names.keys()))]\n",
    "df_noRain_no_decay[\"location\"] = df_noRain_no_decay[\"manhole\"].map(manhole_names)\n",
    "df_noRain_no_decay = df_noRain_no_decay.loc[df_noRain_no_decay[\"location\"].isin([\"N_Ua\", \"N_D\"])]"
   ]
  },
  {
   "cell_type": "code",
   "execution_count": null,
   "metadata": {},
   "outputs": [],
   "source": [
    "df_Rain_decay[\"Date\"] = pd.to_datetime(start_date) + pd.to_timedelta(df_Rain_decay[\"time_in_minutes\"], unit=\"min\")\n",
    "df_Rain_no_decay[\"Date\"] = pd.to_datetime(start_date) + pd.to_timedelta(df_Rain_no_decay[\"time_in_minutes\"], unit=\"min\")\n",
    "df_noRain_no_decay[\"Date\"] = pd.to_datetime(start_date) + pd.to_timedelta(df_noRain_no_decay[\"time_in_minutes\"], unit=\"min\")"
   ]
  },
  {
   "cell_type": "code",
   "execution_count": null,
   "metadata": {},
   "outputs": [],
   "source": [
    "# Set up 4x2 subplots\n",
    "fig, axes = plt.subplots(nrows=1, ncols=2, sharey=True, figsize=(5.5,2.76), sharex=True)\n",
    "axes = axes.flatten()\n",
    "\n",
    "\n",
    "\n",
    "df_plot = df_Rain_no_decay.loc[df_Rain_no_decay[\"location\"] == \"N_D\"]\n",
    "sns.lineplot(data=df_plot, x=\"Date\", y=\"value\", color=blue, ax=axes[0], estimator=np.mean, errorbar=(\"pi\", 90))\n",
    "axes[0].set_title(\"No decay\")\n",
    "axes[0].set_ylabel(\"Virus levels\\n[copies/l]\")\n",
    "axes[0].set_xlabel(\"\")\n",
    "\n",
    "df_plot = df_Rain_decay.loc[df_Rain_decay[\"location\"] == \"N_D\"]\n",
    "sns.lineplot(data=df_plot, x=\"Date\", y=\"value\", color=blue, ax=axes[1], estimator=np.mean, errorbar=(\"pi\", 90))\n",
    "axes[1].set_title(\"Decay\")\n",
    "axes[1].set_ylabel(\"Virus levels\\n[copies/l]\")\n",
    "axes[1].set_xlabel(\"\")\n",
    "\n",
    "# locator that places a tick on day=2 of every month\n",
    "second_of_month = mdates.DayLocator(bymonthday=2)\n",
    "\n",
    "for ax in axes:\n",
    "    ax.xaxis.set_major_locator(second_of_month)\n",
    "    for lbl in ax.get_xticklabels():\n",
    "        lbl.set_rotation(45)\n",
    "plt.gca().xaxis.set_major_formatter(mdates.DateFormatter(\"%d %b\"))  # Format without year\n",
    "\n",
    "# Add overall title\n",
    "plt.tight_layout()\n",
    "fig.savefig(f\"../../plots/Figure_3/{experiment_series}_decay_comparison_N_D_COV19.png\", dpi=300)\n",
    "plt.show()"
   ]
  }
 ],
 "metadata": {
  "kernelspec": {
   "display_name": ".venv (3.12.3)",
   "language": "python",
   "name": "python3"
  },
  "language_info": {
   "codemirror_mode": {
    "name": "ipython",
    "version": 3
   },
   "file_extension": ".py",
   "mimetype": "text/x-python",
   "name": "python",
   "nbconvert_exporter": "python",
   "pygments_lexer": "ipython3",
   "version": "3.12.3"
  }
 },
 "nbformat": 4,
 "nbformat_minor": 2
}

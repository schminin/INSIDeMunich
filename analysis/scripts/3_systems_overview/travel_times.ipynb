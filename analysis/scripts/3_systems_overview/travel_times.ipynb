{
 "cells": [
  {
   "cell_type": "code",
   "execution_count": null,
   "metadata": {
    "ExecuteTime": {
     "end_time": "2025-03-23T15:40:05.682699Z",
     "start_time": "2025-03-23T15:40:05.678727Z"
    }
   },
   "outputs": [],
   "source": [
    "import numpy as np\n",
    "from collections import defaultdict\n",
    "import pandas as pd \n",
    "\n",
    "import sys\n",
    "sys.path.append(\"..\")\n",
    "\n",
    "from plotting_tools import * "
   ]
  },
  {
   "cell_type": "code",
   "execution_count": null,
   "metadata": {},
   "outputs": [],
   "source": [
    "%config InlineBackend.print_figure_kwargs = {'dpi': 110, 'bbox_inches': 'tight'}"
   ]
  },
  {
   "cell_type": "code",
   "execution_count": null,
   "metadata": {},
   "outputs": [],
   "source": [
    "def get_travel_times_matrix(df):\n",
    "\n",
    "    df.columns = df.columns.str.strip()\n",
    "    df.iloc[:,0] = df.iloc[:,0].str.strip()\n",
    "\n",
    "    col_pos = round(len(df.columns)/2)-1\n",
    "    col1 = df.columns[col_pos][:6]\n",
    "    row1_index = df.columns[col_pos][6:]\n",
    "    row1 = df.columns.tolist()[col_pos+1:]\n",
    "    df = df.iloc[:,:col_pos+1]\n",
    "    df.rename(columns={df.columns[col_pos]: col1}, inplace=True)\n",
    "\n",
    "    df = pd.concat([df, pd.DataFrame([row1_index]+row1, index=df.columns[:]).T])\n",
    "\n",
    "    df.columns = [manhole_names[x] if x in manhole_names.keys() else x for x in df.columns.values.tolist()]\n",
    "    df.iloc[:,0] = [manhole_names[x] if x in manhole_names.keys() else x for x in df.iloc[:,0].values]\n",
    "    df = df.set_index(\"\")\n",
    "    df = df.loc[df.index.isin(manhole_names.values()), df.columns.isin(manhole_names.values())]\n",
    "\n",
    "    df = df.reindex(index=list(manhole_names.values()),columns=list(manhole_names.values()))\n",
    "\n",
    "    return df"
   ]
  },
  {
   "cell_type": "code",
   "execution_count": null,
   "metadata": {},
   "outputs": [],
   "source": [
    "def plot_travel_times(df, distances = [15.84, 16.18, 30.75, 22.97, 30.08, 31.19,24.50, 19.55, 17.08, 16.16, 24.53, 18.59, 2.42, 12.12, 2.74, 0]):\n",
    "    travel_hours = df.iloc[:, -1] / 3600                # convert s → h\n",
    "    names = df.index                                   # list of labels, same length as distances\n",
    "\n",
    "    fig, ax = plt.subplots(figsize=(4*cm, 4*cm), dpi=300)\n",
    "    ax.scatter(distances, travel_hours, label=\"Travel time\")\n",
    "\n",
    "    # add one label per point\n",
    "    for x, y, label in zip(distances, travel_hours, names):\n",
    "        ax.annotate(\n",
    "            label,                         # the text\n",
    "            (x, y),                        # point to label\n",
    "            xytext=(0, 5),                 # “nudge” the text 5 px upward\n",
    "            textcoords=\"offset points\",\n",
    "            ha=\"center\", va=\"bottom\",\n",
    "            fontsize=8                     # keep them small\n",
    "        )\n",
    "\n",
    "    ax.set_xlabel(\"Distance (km)\")\n",
    "    ax.set_ylabel(\"Travel time (h)\")\n",
    "    ax.legend()\n",
    "    plt.tight_layout()\n",
    "    plt.show()\n"
   ]
  },
  {
   "cell_type": "code",
   "execution_count": null,
   "metadata": {},
   "outputs": [],
   "source": [
    "experiment_series = \"systems_pop8\"\n",
    "decay_setting = \"no_decay\"\n",
    "precipitation_setting = \"Rain\"\n",
    "df = pd.read_csv(f\"/media/iru-mls/inside/{experiment_series}/{decay_setting}_{precipitation_setting}/1_output_v4_travel_times.csv\")\n",
    "\n",
    "travel_times1 = get_travel_times_matrix(df)\n",
    "plot_travel_times(travel_times1, distances = [15.84, 16.18, 30.75, 22.97, 30.08, 31.19,24.50, 19.55, 17.08, 16.16, 24.53, 18.59, 2.42, 12.12, 2.74, 0])"
   ]
  },
  {
   "cell_type": "code",
   "execution_count": null,
   "metadata": {},
   "outputs": [],
   "source": [
    "experiment_series = \"systems_pop8\"\n",
    "decay_setting = \"no_decay\"\n",
    "precipitation_setting = \"noRain\"\n",
    "df = pd.read_csv(f\"/media/iru-mls/inside/{experiment_series}/{decay_setting}_{precipitation_setting}/1_output_v4_travel_times.csv\")\n",
    "\n",
    "travel_times2 = get_travel_times_matrix(df)\n",
    "plot_travel_times(travel_times2, distances = [15.84, 16.18, 30.75, 22.97, 30.08, 31.19,24.50, 19.55, 17.08, 16.16, 24.53, 18.59, 2.42, 12.12, 2.74, 0])"
   ]
  },
  {
   "cell_type": "code",
   "execution_count": null,
   "metadata": {},
   "outputs": [],
   "source": [
    "distances = [15.84, 16.18, 30.75, 22.97, 30.08, 31.19, 24.50, 19.55, 17.08, 16.16, 24.53, 18.59, 2.42, 12.12, 2.74, 0]\n",
    "\n",
    "fig, ax = plt.subplots(figsize=(6*cm, 5*cm), dpi=300)\n",
    "travel_hours1 = travel_times1.iloc[:, -1] / 3600\n",
    "travel_hours2 = travel_times2.iloc[:, -1] / 3600\n",
    "ax.scatter(distances, travel_hours1, label=\"precipitation\", s=20, c=green)\n",
    "ax.scatter(distances, travel_hours2, label=\"no precipitation\", s=20, c=blue)\n",
    "\n",
    "ax.set_xlabel(\"Distance [km]\")\n",
    "ax.set_ylabel(\"Flow time [h]\")\n",
    "\n",
    "# Place legend at the top\n",
    "#ax.legend(loc='upper center', bbox_to_anchor=(0.5, 1.3), ncol=1, borderaxespad=0.)\n",
    "ax.legend()\n",
    "\n",
    "# Add more x-ticks\n",
    "ax.set_xticks([0.0, 10.0, 20.0, 30.0])\n",
    "\n",
    "plt.tight_layout()\n",
    "plt.savefig(f\"../../plots/pop8/travel_times.png\", dpi=300, bbox_inches='tight')"
   ]
  }
 ],
 "metadata": {
  "kernelspec": {
   "display_name": ".venv (3.12.3)",
   "language": "python",
   "name": "python3"
  },
  "language_info": {
   "codemirror_mode": {
    "name": "ipython",
    "version": 3
   },
   "file_extension": ".py",
   "mimetype": "text/x-python",
   "name": "python",
   "nbconvert_exporter": "python",
   "pygments_lexer": "ipython3",
   "version": "3.12.3"
  }
 },
 "nbformat": 4,
 "nbformat_minor": 2
}

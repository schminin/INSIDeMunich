{
 "cells": [
  {
   "cell_type": "code",
   "execution_count": null,
   "id": "8bedefac",
   "metadata": {},
   "outputs": [],
   "source": [
    "import pandas as pd\n",
    "import numpy as np\n",
    "import matplotlib.pyplot as plt\n",
    "import seaborn as sns\n",
    "import os\n",
    "\n",
    "import sys\n",
    "sys.path.append(\"..\")\n",
    "\n",
    "from plotting_tools import * "
   ]
  },
  {
   "cell_type": "code",
   "execution_count": null,
   "id": "a34cbc79",
   "metadata": {},
   "outputs": [],
   "source": [
    "runtimes = pd.DataFrame({\n",
    "    \"rain\": \"no_rain\",\n",
    "    \"decay\": \"no_decay\",\n",
    "    \"memilio_sim\": \"pop8\",\n",
    "    \"Reading\": 3+28/60,\n",
    "    \"Calculate hydraulics\": 13,\n",
    "    \"Calculate substances\": 2+28/60,\n",
    "    \"Writing\": 10/60,\n",
    "}, index=[0])\n",
    "\n",
    "runtimes2 = pd.DataFrame({\n",
    "    \"rain\": \"rain\",\n",
    "    \"decay\": \"decay\",\n",
    "    \"memilio_sim\": \"pop8\",\n",
    "    \"Reading\": 3+12/60,\n",
    "    \"Calculate hydraulics\": 12,\n",
    "    \"Calculate substances\": 5+24/60,\n",
    "    \"Writing\": 8/60,\n",
    "}, index=[1])\n",
    "\n",
    "runtimes3 = pd.DataFrame({\n",
    "    \"rain\": \"rain\",\n",
    "    \"decay\": \"decay\",\n",
    "    \"memilio_sim\": \"pop8_local\",\n",
    "    \"Reading\": 7+21/60,\n",
    "    \"Calculate hydraulics\": 12,\n",
    "    \"Calculate substances\": 5+32/60,\n",
    "    \"Writing\": 8/60,\n",
    "}, index=[2])\n",
    "\n",
    "runtimes4 = pd.DataFrame({\n",
    "    \"rain\": \"rain\",\n",
    "    \"decay\": \"no_decay\",\n",
    "    \"memilio_sim\": \"pop8\",\n",
    "    \"Reading\": 3+12/60,\n",
    "    \"Calculate hydraulics\": 11,\n",
    "    \"Calculate substances\": 3+43/60,\n",
    "    \"Writing\": 8/60,\n",
    "}, index=[3])\n"
   ]
  },
  {
   "cell_type": "code",
   "execution_count": null,
   "id": "5fd10d9b",
   "metadata": {},
   "outputs": [],
   "source": [
    "runtimes_long = pd.concat([runtimes, runtimes2, runtimes3, runtimes4], axis=0).melt(id_vars=[\"rain\", \"decay\", \"memilio_sim\"])"
   ]
  },
  {
   "cell_type": "code",
   "execution_count": null,
   "id": "85031bbe",
   "metadata": {},
   "outputs": [],
   "source": [
    "runtimes_long.head()"
   ]
  },
  {
   "cell_type": "code",
   "execution_count": null,
   "id": "271b2c01",
   "metadata": {},
   "outputs": [],
   "source": [
    "runtimes_sub = runtimes_long.loc[(runtimes_long.memilio_sim==\"pop8\")&(runtimes_long.decay==\"no_decay\")]"
   ]
  },
  {
   "cell_type": "code",
   "execution_count": null,
   "id": "2ce03923",
   "metadata": {},
   "outputs": [],
   "source": [
    "runtimes_sub.variable = runtimes_sub.variable.apply(lambda x: x.replace(\" \", \"\\n\"))\n",
    "runtimes_sub.rain = runtimes_sub.rain.apply(lambda x: x.replace(\"_\", \" \"))\n",
    "runtimes_sub.rain = runtimes_sub.rain.apply(lambda x: x.replace(\"rain\", \"precipitation\"))\n",
    "runtimes_sub.rain = runtimes_sub.rain.apply(lambda x: x[0].upper() + x[1:] if x else x)"
   ]
  },
  {
   "cell_type": "code",
   "execution_count": null,
   "id": "ef3ce9e8",
   "metadata": {},
   "outputs": [],
   "source": [
    "fig, ax = plt.subplots(figsize=(3, 3.89))  # Swap width/height for vertical space\n",
    "\n",
    "barplot = sns.barplot(\n",
    "    data=runtimes_sub,\n",
    "    x=\"value\",                  # Now the quantitative variable\n",
    "    y=\"variable\",               # Now the categorical variable\n",
    "    hue=\"rain\",\n",
    "    palette={\"Precipitation\": blue, \"No precipitation\": tan},\n",
    "    ax=ax,\n",
    "    legend=None,\n",
    "    orient=\"h\"                  # Explicitly set horizontal orientation\n",
    ")\n",
    "\n",
    "ax.set_xlabel(\"Runtime per\\nsimulation [min]\", fontdict={\"fontsize\": 15*0.8})\n",
    "ax.set_ylabel(\"\")\n",
    "#ax.legend(title=None)\n",
    "\n",
    "plt.tight_layout()\n",
    "plt.savefig(\n",
    "    os.path.join(\"..\", \"..\", \"plots\", \"pop8\", \"runtime_visualization_horizontal.png\"),\n",
    "    bbox_inches=\"tight\",\n",
    "    dpi=300\n",
    ")\n"
   ]
  }
 ],
 "metadata": {
  "kernelspec": {
   "display_name": ".venv (3.12.3)",
   "language": "python",
   "name": "python3"
  },
  "language_info": {
   "codemirror_mode": {
    "name": "ipython",
    "version": 3
   },
   "file_extension": ".py",
   "mimetype": "text/x-python",
   "name": "python",
   "nbconvert_exporter": "python",
   "pygments_lexer": "ipython3",
   "version": "3.12.3"
  }
 },
 "nbformat": 4,
 "nbformat_minor": 5
}

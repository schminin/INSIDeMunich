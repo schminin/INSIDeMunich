{
 "cells": [
  {
   "cell_type": "code",
   "execution_count": null,
   "metadata": {},
   "outputs": [],
   "source": [
    "import pandas as pd\n",
    "import numpy as np\n",
    "import matplotlib.pyplot as plt\n",
    "import seaborn as sns\n",
    "import os\n",
    "\n",
    "import sys\n",
    "sys.path.append(\"..\")\n",
    "\n",
    "from plotting_tools import * "
   ]
  },
  {
   "cell_type": "code",
   "execution_count": null,
   "metadata": {},
   "outputs": [],
   "source": [
    "%config InlineBackend.print_figure_kwargs = {'dpi': 110, 'bbox_inches': 'tight'}"
   ]
  },
  {
   "cell_type": "code",
   "execution_count": null,
   "metadata": {},
   "outputs": [],
   "source": [
    "precipitation = pd.read_csv(\"../rain/rain.txt\", decimal=\",\", sep=\";\", header=None, skiprows=1).reset_index()\n",
    "precipitation.columns = [\"date\", \"rain\"]\n",
    "precipitation['date'] = pd.date_range(start=start_date, periods=len(precipitation), freq=\"5min\")"
   ]
  },
  {
   "cell_type": "code",
   "execution_count": null,
   "metadata": {},
   "outputs": [],
   "source": [
    "fig, ax = plt.subplots(figsize=(15, 3), dpi=300)   \n",
    "plt.plot(precipitation[\"date\"], precipitation[\"rain\"], color=blue)\n",
    "plt.ylabel(\"Precipitation [mm]\")\n",
    "plt.xlabel(\"Date\")\n",
    "\n",
    "two_weeks = mdates.DayLocator(interval=14)\n",
    "formatter = mdates.DateFormatter(\"%d %b\")\n",
    "\n",
    "ax.xaxis.set_major_formatter(formatter)\n",
    "second_of_month = mdates.DayLocator(bymonthday=2)\n",
    "\n",
    "ax.xaxis.set_major_locator(second_of_month)\n",
    "plt.savefig(f\"../../plots/Supplement/precipitation.png\", bbox_inches=\"tight\", dpi=300)"
   ]
  },
  {
   "cell_type": "code",
   "execution_count": null,
   "metadata": {},
   "outputs": [],
   "source": [
    "experiment_series =\"pop8\"\n",
    "decay_setting = \"no_decay\"\n",
    "\n",
    "memilio_id = 1\n",
    "\n",
    "plot_path = f\"../../plots/Figure_3\"\n",
    "os.makedirs(plot_path, exist_ok=True)"
   ]
  },
  {
   "cell_type": "code",
   "execution_count": null,
   "metadata": {},
   "outputs": [],
   "source": [
    "# Load the data\n",
    "result_path = f\"../../../preprocessing/preprocessed_data/{experiment_series}\"\n",
    "\n",
    "df_rain = pd.read_csv(f\"{result_path}/substances/{decay_setting}_Rain_output.csv\")\n",
    "df_rain = df_rain.loc[df_rain.simulation_id == memilio_id].drop(columns=[\"simulation_id\"])\n",
    "df_rain[\"Date\"] = pd.to_datetime(start_date) + pd.to_timedelta(df_rain[\"time_in_minutes\"], unit=\"min\")\n",
    "\n",
    "df_no_rain = pd.read_csv(f\"{result_path}/substances/{decay_setting}_noRain_output.csv\")\n",
    "df_no_rain = df_no_rain.loc[df_no_rain.simulation_id == memilio_id].drop(columns=[\"simulation_id\"])\n",
    "df_no_rain[\"Date\"] = pd.to_datetime(start_date) + pd.to_timedelta(df_no_rain[\"time_in_minutes\"], unit=\"min\")\n",
    "\n",
    "df_measurements = pd.read_csv(f\"{result_path}/../concentration_measurements.csv\")"
   ]
  },
  {
   "cell_type": "code",
   "execution_count": null,
   "metadata": {},
   "outputs": [],
   "source": [
    "# N_D\n",
    "manhole = \"MUC562\"\n",
    "\n",
    "df_flow_rates_rain = pd.read_csv(f\"{result_path}/hydraulics/{decay_setting}_Rain_output.csv\")\n",
    "df_flow_rates_rain = df_flow_rates_rain.loc[df_flow_rates_rain.simulation_id == memilio_id].drop(columns=[\"simulation_id\"])\n",
    "df_flow_rates_no_rain = pd.read_csv(f\"{result_path}/hydraulics/{decay_setting}_noRain_output.csv\")\n",
    "df_flow_rates_no_rain = df_flow_rates_no_rain.loc[df_flow_rates_no_rain.simulation_id == memilio_id].drop(columns=[\"simulation_id\"])"
   ]
  },
  {
   "cell_type": "code",
   "execution_count": null,
   "metadata": {},
   "outputs": [],
   "source": [
    "df_flow_rates_rain = df_flow_rates_rain.loc[df_flow_rates_rain[\"pipe_number\"]==manhole]\n",
    "df_flow_rates_no_rain = df_flow_rates_no_rain.loc[df_flow_rates_no_rain[\"pipe_number\"]==manhole]\n",
    "\n",
    "df_flow_rates_rain[\"Date\"] = pd.to_datetime(start_date) + pd.to_timedelta(df_flow_rates_rain[\"time_in_minutes\"], unit=\"min\")\n",
    "df_flow_rates_no_rain[\"Date\"] = pd.to_datetime(start_date) + pd.to_timedelta(df_flow_rates_no_rain[\"time_in_minutes\"], unit=\"min\")"
   ]
  },
  {
   "cell_type": "code",
   "execution_count": null,
   "metadata": {},
   "outputs": [],
   "source": [
    "def visualize_precipitation_effect(manhole, max_date=\"2022-04-01\"):\n",
    "    df_rain_sub = df_rain[(df_rain[\"variable\"] == \"COV19\") & (df_rain[\"manhole\"]==manhole)].copy()\n",
    "    df_rain_sub = df_rain_sub[df_rain_sub[\"Date\"] < max_date]\n",
    "    df_rain_sub[\"location\"] = df_rain_sub[\"manhole\"].map(manhole_names)\n",
    "\n",
    "    df_no_rain_sub = df_no_rain[(df_no_rain[\"variable\"] == \"COV19\") & (df_no_rain[\"manhole\"]==manhole)].copy()\n",
    "    df_no_rain_sub = df_no_rain_sub[df_no_rain_sub[\"Date\"] < max_date]\n",
    "    df_no_rain_sub[\"location\"] = df_no_rain_sub[\"manhole\"].map(manhole_names)\n",
    "\n",
    "    precipitation_sub = precipitation[precipitation[\"date\"] < max_date].copy()\n",
    "    flow_rates_rain_sub = df_flow_rates_rain[df_flow_rates_rain[\"Date\"] < max_date]\n",
    "    flow_rates_no_rain_sub = df_flow_rates_no_rain[df_flow_rates_no_rain[\"Date\"] < max_date]\n",
    "\n",
    "\n",
    "    high_rain_dates = precipitation_sub[precipitation_sub[\"rain\"] > 10][\"date\"]\n",
    "\n",
    "    fig, axes = plt.subplots(nrows=3, ncols=1, figsize=(5.2, 5.17), sharex=True, dpi=300)\n",
    "\n",
    "    # Add vertical dashed lines to all subplots\n",
    "    for ax in axes:\n",
    "        for date in high_rain_dates:\n",
    "            ax.axvline(x=date, color=medium_grey, linestyle='--', linewidth=0.8, alpha=0.9)\n",
    "\n",
    "    axes[0].plot(precipitation_sub[\"date\"], precipitation_sub[\"rain\"], color=blue)\n",
    "    axes[0].plot(precipitation_sub[\"date\"], np.repeat(0.0, precipitation_sub.shape[0]), color=tan)\n",
    "    axes[1].plot(df_rain_sub[\"Date\"], df_rain_sub[\"value\"], color=blue, label=\"Precipitation\")\n",
    "    axes[1].plot(df_no_rain_sub[\"Date\"], df_no_rain_sub[\"value\"], color=tan, label=\"No precipitation\")\n",
    "\n",
    "    axes[2].plot(flow_rates_rain_sub[\"Date\"][850:], flow_rates_rain_sub[\"value\"][850:], color=blue, label=\"Precipitation\")\n",
    "    axes[2].plot(flow_rates_no_rain_sub[\"Date\"][850:], flow_rates_no_rain_sub[\"value\"][850:], color=tan, label=\"No precipitation\")\n",
    "    axes[2].set_ylabel(\"Flow rate\\n[l/s]\")\n",
    "    axes[2].set_yscale('log')\n",
    "\n",
    "    #axes[2].scatter(df_measurements_sub[\"Date\"], df_measurements_sub[\"Value\"], color=\"goldenrod\", zorder=10)\n",
    "    two_weeks = mdates.DayLocator(interval=7)\n",
    "    formatter = mdates.DateFormatter(\"%d %b\")\n",
    "\n",
    "    for ax in axes:\n",
    "        ax.xaxis.set_major_locator(two_weeks)\n",
    "        ax.xaxis.set_major_formatter(formatter)\n",
    "        plt.setp(ax.get_xticklabels(), rotation=45, ha='right')\n",
    "\n",
    "    axes[1].set_ylabel(\"Virus levels\\n[copies/l]\")\n",
    "    axes[0].set_ylabel(\"Precipitation\\n[mm]\")\n",
    "    #axes[1].legend()\n",
    "\n",
    "\n",
    "    plt.tight_layout()\n",
    "    return fig"
   ]
  },
  {
   "cell_type": "code",
   "execution_count": null,
   "metadata": {},
   "outputs": [],
   "source": [
    "fig = visualize_precipitation_effect(manhole, max_date=\"2020-04-01\")\n",
    "fig.savefig(f\"{plot_path}/precipitation_effect_{manhole}.png\", bbox_inches=\"tight\", dpi=300)"
   ]
  },
  {
   "cell_type": "code",
   "execution_count": null,
   "metadata": {},
   "outputs": [],
   "source": []
  }
 ],
 "metadata": {
  "kernelspec": {
   "display_name": ".venv (3.12.3)",
   "language": "python",
   "name": "python3"
  },
  "language_info": {
   "codemirror_mode": {
    "name": "ipython",
    "version": 3
   },
   "file_extension": ".py",
   "mimetype": "text/x-python",
   "name": "python",
   "nbconvert_exporter": "python",
   "pygments_lexer": "ipython3",
   "version": "3.12.3"
  }
 },
 "nbformat": 4,
 "nbformat_minor": 2
}

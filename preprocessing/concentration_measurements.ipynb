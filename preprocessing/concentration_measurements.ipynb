{
 "cells": [
  {
   "cell_type": "code",
   "execution_count": 1,
   "metadata": {},
   "outputs": [],
   "source": [
    "import pandas as pd\n",
    "import numpy as np\n",
    "import matplotlib.pyplot as plt\n",
    "import seaborn as sns\n",
    "\n",
    "import os\n",
    "import sys\n",
    "\n",
    "sys.path.append(\"../analysis/scripts\")\n",
    "from plotting_tools import *"
   ]
  },
  {
   "cell_type": "code",
   "execution_count": 2,
   "metadata": {},
   "outputs": [],
   "source": [
    "df = pd.read_excel(\"data/UpToDate_Results Sewage PCR_TABLE 27.03.23.xlsx\")"
   ]
  },
  {
   "cell_type": "code",
   "execution_count": 3,
   "metadata": {},
   "outputs": [],
   "source": [
    "df['Date'] = df['Date'].ffill()\n",
    "df['Date'] = pd.to_datetime(df['Date'])\n",
    "\n",
    "\n",
    "# select relevant rows / columns\n",
    "df = df.loc[df[\"Unnamed: 2\"]==\"Copies/liter\",:]\n",
    "df_cleaned = df.loc[:, ~df.columns.str.contains('^Unnamed')]\n",
    "\n",
    "df_cleaned = df_cleaned.loc[:, ['Date', 'Comment', 'Langrieder \\nBach',\n",
    "       'Gräfelfinger Str. \\n/Waldwiesenstr.', 'Schenkendorfstr.',\n",
    "       'Schmidbartlanger ', 'Savitsstr.', 'Gyßling Becken']]\n",
    "\n",
    "# select relevant dates\n",
    "df_cleaned = df_cleaned.loc[df_cleaned.Date <= \"2020-06-01\",:]"
   ]
  },
  {
   "cell_type": "code",
   "execution_count": 4,
   "metadata": {},
   "outputs": [],
   "source": [
    "df_cleaned = pd.melt(df_cleaned, id_vars=['Date', 'Comment'], var_name='Location', value_name='Value')"
   ]
  },
  {
   "cell_type": "code",
   "execution_count": 5,
   "metadata": {},
   "outputs": [],
   "source": [
    "df_cleaned.Location = df_cleaned.Location.replace({'Langrieder \\nBach': \"Am Langwieder Bach\",\n",
    "                                  'Gräfelfinger Str. \\n/Waldwiesenstr.': \"Gräfelfinger Str.\",\n",
    "                                  \"Schmidbartlanger \": \"Schmidbartlangerstr.\", \n",
    "                                  \"Savitsstr.\": \"Savitstr.\", \n",
    "                                  \"Gyßling Becken\": \"Gyßlinger Becken\"})\n",
    "df_cleaned[\"Location_Clear\"] = df_cleaned[\"Location\"]\n",
    "\n",
    "df_cleaned[\"Below_threshold\"] = False\n",
    "df_cleaned.loc[df_cleaned.Value==\"<75\", \"Below_threshold\"] = True\n",
    "df_cleaned.loc[df_cleaned.Value==\"<75\", \"Value\"] = 75/2\n",
    "df_cleaned.Value = df_cleaned.Value.astype(float)\n",
    "df_cleaned.Date = pd.to_datetime(df_cleaned.Date)\n",
    "\n",
    "manhole_clear_names_renamed = {x.replace(\"\\n\", \" \"): manhole_clear_names[x] for x in manhole_clear_names.keys()}\n",
    "df_cleaned[\"Location\"] = df_cleaned[\"Location\"].replace(manhole_clear_names_renamed)"
   ]
  },
  {
   "cell_type": "code",
   "execution_count": 6,
   "metadata": {},
   "outputs": [
    {
     "data": {
      "text/html": [
       "<div>\n",
       "<style scoped>\n",
       "    .dataframe tbody tr th:only-of-type {\n",
       "        vertical-align: middle;\n",
       "    }\n",
       "\n",
       "    .dataframe tbody tr th {\n",
       "        vertical-align: top;\n",
       "    }\n",
       "\n",
       "    .dataframe thead th {\n",
       "        text-align: right;\n",
       "    }\n",
       "</style>\n",
       "<table border=\"1\" class=\"dataframe\">\n",
       "  <thead>\n",
       "    <tr style=\"text-align: right;\">\n",
       "      <th></th>\n",
       "      <th>Date</th>\n",
       "      <th>Comment</th>\n",
       "      <th>Location</th>\n",
       "      <th>Value</th>\n",
       "      <th>Location_Clear</th>\n",
       "      <th>Below_threshold</th>\n",
       "    </tr>\n",
       "  </thead>\n",
       "  <tbody>\n",
       "    <tr>\n",
       "      <th>0</th>\n",
       "      <td>2020-04-16</td>\n",
       "      <td>NaN</td>\n",
       "      <td>N_Uc</td>\n",
       "      <td>37.500000</td>\n",
       "      <td>Am Langwieder Bach</td>\n",
       "      <td>True</td>\n",
       "    </tr>\n",
       "    <tr>\n",
       "      <th>1</th>\n",
       "      <td>2020-04-28</td>\n",
       "      <td>NaN</td>\n",
       "      <td>N_Uc</td>\n",
       "      <td>788.836775</td>\n",
       "      <td>Am Langwieder Bach</td>\n",
       "      <td>False</td>\n",
       "    </tr>\n",
       "    <tr>\n",
       "      <th>2</th>\n",
       "      <td>2020-05-05</td>\n",
       "      <td>NaN</td>\n",
       "      <td>N_Uc</td>\n",
       "      <td>37.500000</td>\n",
       "      <td>Am Langwieder Bach</td>\n",
       "      <td>True</td>\n",
       "    </tr>\n",
       "    <tr>\n",
       "      <th>3</th>\n",
       "      <td>2020-05-19</td>\n",
       "      <td>NaN</td>\n",
       "      <td>N_Uc</td>\n",
       "      <td>37.500000</td>\n",
       "      <td>Am Langwieder Bach</td>\n",
       "      <td>True</td>\n",
       "    </tr>\n",
       "    <tr>\n",
       "      <th>4</th>\n",
       "      <td>2020-05-26</td>\n",
       "      <td>NaN</td>\n",
       "      <td>N_Uc</td>\n",
       "      <td>37.500000</td>\n",
       "      <td>Am Langwieder Bach</td>\n",
       "      <td>True</td>\n",
       "    </tr>\n",
       "  </tbody>\n",
       "</table>\n",
       "</div>"
      ],
      "text/plain": [
       "        Date Comment Location       Value      Location_Clear  Below_threshold\n",
       "0 2020-04-16     NaN     N_Uc   37.500000  Am Langwieder Bach             True\n",
       "1 2020-04-28     NaN     N_Uc  788.836775  Am Langwieder Bach            False\n",
       "2 2020-05-05     NaN     N_Uc   37.500000  Am Langwieder Bach             True\n",
       "3 2020-05-19     NaN     N_Uc   37.500000  Am Langwieder Bach             True\n",
       "4 2020-05-26     NaN     N_Uc   37.500000  Am Langwieder Bach             True"
      ]
     },
     "execution_count": 6,
     "metadata": {},
     "output_type": "execute_result"
    }
   ],
   "source": [
    "df_cleaned.head()"
   ]
  },
  {
   "cell_type": "code",
   "execution_count": 13,
   "metadata": {},
   "outputs": [],
   "source": [
    "df_cleaned.to_csv(\"preprocessed_data/concentration_measurements.csv\", index=False)"
   ]
  }
 ],
 "metadata": {
  "kernelspec": {
   "display_name": ".venv (3.12.3)",
   "language": "python",
   "name": "python3"
  },
  "language_info": {
   "codemirror_mode": {
    "name": "ipython",
    "version": 3
   },
   "file_extension": ".py",
   "mimetype": "text/x-python",
   "name": "python",
   "nbconvert_exporter": "python",
   "pygments_lexer": "ipython3",
   "version": "3.12.3"
  }
 },
 "nbformat": 4,
 "nbformat_minor": 2
}

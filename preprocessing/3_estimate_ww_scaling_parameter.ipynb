{
 "cells": [
  {
   "cell_type": "code",
   "execution_count": null,
   "id": "719417f3",
   "metadata": {},
   "outputs": [],
   "source": [
    "import pandas as pd\n",
    "import numpy as np\n",
    "import matplotlib.pyplot as plt\n",
    "import seaborn as sns\n",
    "import os\n",
    "\n",
    "start_date = \"2020-03-02\"\n",
    "manhole_names = {\n",
    "    \"MUC560\": \"N_Ua\", # Wintersteinstr.\", # Hasenbergl\n",
    "    \"MUC348\": \"N_Ub\", # \"Schmidbartlanger\",\n",
    "    \"MUC012\": \"N_Uc\", # \"Am Langwieder Bach\",\n",
    "    \"MUC112\": \"C_U\", # Botanischer Garten/Menzinger Str.\n",
    "    \n",
    "    \"MUC060\": \"S_Ua\", # Gräfelfinger Str. / Waldwiesenstr.\n",
    "    \"MUC612\": \"S_Ub\", # Neue Messstelle 1\n",
    "    \"MUC616\": \"S_M1\", # Neue Messstelle 4\n",
    "    \"MUC600\": \"S_M2\", # \"Leopoldstr.\",\n",
    "    \n",
    "    \"MUC608\": \"S_M3\", # \"Gyßlinger Becken\",\n",
    "    \"MUC362\": \"S_M4\", # \"Schenkendorfstr.\",\n",
    "    \"MUC614\": \"E_U\", # Neue Messstelle 2\n",
    "    \"MUC494\": \"E_M\", # \"Savitstr.\",\n",
    "\n",
    "    \"MUC562\": \"N_D\", # \"WWT Gut Marienhof\",\n",
    "    \"MUC434\": \"SCE_D1\", # \"Zulauf Gut Großlappen\",\n",
    "    \"MUC596\": \"SCE_D2\", # \"WWT Gut Großlappen\",    \n",
    "    \"MUC586\": \"Overall\",}"
   ]
  },
  {
   "cell_type": "code",
   "execution_count": null,
   "id": "18811157",
   "metadata": {},
   "outputs": [],
   "source": [
    "import scipy.stats as stats"
   ]
  },
  {
   "cell_type": "code",
   "execution_count": null,
   "id": "cfb1fa3e",
   "metadata": {},
   "outputs": [],
   "source": [
    "experiment_series =\"pop8\"\n",
    "precipitation_setting = \"Rain\"\n",
    "decay_setting = \"decay\""
   ]
  },
  {
   "cell_type": "code",
   "execution_count": null,
   "id": "2c4b1c7e",
   "metadata": {},
   "outputs": [],
   "source": [
    "result_path = f\"preprocessed_data/{experiment_series}\"\n",
    "\n",
    "df_simulations = pd.read_csv(f\"{result_path}/substances/{decay_setting}_{precipitation_setting}_output.csv\")\n",
    "df_simulations = df_simulations.loc[df_simulations[\"variable\"]==\"COV19\"]\n",
    "df_simulations[\"Location\"] = df_simulations.manhole.apply(lambda x: manhole_names[x] if x in manhole_names else x)\n",
    "df_simulations[\"Date\"] = pd.to_datetime(start_date) + pd.to_timedelta(df_simulations[\"time_in_minutes\"], unit=\"min\")\n",
    "\n",
    "df_measurements = pd.read_csv(f\"{result_path}/../concentration_measurements.csv\")\n",
    "\n",
    "# df_simulations = df_simulations.loc[df_simulations[\"Location\"].isin(df_measurements[\"Location\"].unique())]"
   ]
  },
  {
   "cell_type": "code",
   "execution_count": null,
   "id": "95bb0482",
   "metadata": {},
   "outputs": [],
   "source": [
    "df_measurements[\"sampling_timepoint\"] = pd.to_datetime(df_measurements.Date)\n",
    "df_measurements.rename(columns={\"Value\": \"value\"}, inplace=True)"
   ]
  },
  {
   "cell_type": "code",
   "execution_count": null,
   "id": "1d8ba8fe",
   "metadata": {},
   "outputs": [],
   "source": [
    "# correct values according to feedback provided by Jasmin\n",
    "df_measurements.loc[(df_measurements.Date==\"2020-04-28\")& (df_measurements.Location_Clear!=\"Savitstr.\"), \"value\"] = 37.5"
   ]
  },
  {
   "cell_type": "code",
   "execution_count": null,
   "id": "dbd6d2f1",
   "metadata": {},
   "outputs": [],
   "source": [
    "df_measurements = df_measurements.loc[df_measurements.value>75]"
   ]
  },
  {
   "cell_type": "code",
   "execution_count": null,
   "id": "96726947",
   "metadata": {},
   "outputs": [],
   "source": [
    "df_measurements.sort_values(\"Date\")"
   ]
  },
  {
   "cell_type": "code",
   "execution_count": null,
   "id": "7b7f3abe",
   "metadata": {},
   "outputs": [],
   "source": [
    "df_simulations.Hour = df_simulations.Date.dt.hour\n",
    "df_simulations = df_simulations.loc[(df_simulations.Hour<=11)&(df_simulations.Hour>=9)]\n",
    "df_simulations.Date = pd.to_datetime(df_simulations.Date.dt.date)"
   ]
  },
  {
   "cell_type": "code",
   "execution_count": null,
   "id": "ea28a128",
   "metadata": {},
   "outputs": [],
   "source": [
    "df_simulations"
   ]
  },
  {
   "cell_type": "code",
   "execution_count": null,
   "id": "556141d4",
   "metadata": {},
   "outputs": [],
   "source": [
    "df_res = pd.merge(df_simulations, df_measurements, how=\"left\", left_on=[\"Date\"], right_on=[\"sampling_timepoint\"], suffixes=(\"_sim\", \"_meas\"))"
   ]
  },
  {
   "cell_type": "code",
   "execution_count": null,
   "id": "0cbe57df",
   "metadata": {},
   "outputs": [],
   "source": [
    "df_res = df_res.loc[df_res.value_meas.notna(), [\"Location_sim\", \"Location_meas\", \"simulation_id\", \"time_in_minutes\", \"value_meas\", \"value_sim\"]]"
   ]
  },
  {
   "cell_type": "code",
   "execution_count": null,
   "id": "c234d9a4",
   "metadata": {},
   "outputs": [],
   "source": [
    "df_res = df_res.loc[df_res.value_sim!=0]"
   ]
  },
  {
   "cell_type": "code",
   "execution_count": null,
   "id": "dbf80675",
   "metadata": {},
   "outputs": [],
   "source": [
    "import numpy as np\n",
    "import pandas as pd\n",
    "from scipy.optimize import minimize\n",
    "\n",
    "meas = df_res['value_meas'].values\n",
    "sim  = df_res['value_sim'].values\n",
    "\n",
    "def neg_log_likelihood(params, meas, sim):\n",
    "    \"\"\"\n",
    "    Negative log-likelihood for:\n",
    "      meas_i ~ LogNormal(log(k*sim_i), sigma^2)\n",
    "    params = [ln_k, ln_sigma]\n",
    "    \"\"\"\n",
    "    ln_k, ln_sigma = params\n",
    "    sigma = np.exp(ln_sigma)\n",
    "    mu = ln_k + np.log(sim)\n",
    "    # drop the -ln(x) term since it doesn't depend on k or sigma\n",
    "    resid = (np.log(meas) - mu)\n",
    "    # NLL up to an additive constant:\n",
    "    return 0.5 * np.sum((resid/sigma)**2 + 2*ln_sigma)\n",
    "\n",
    "# initial guesses: use simple log‐ratio MLE for ln_k, and its std for ln_sigma\n",
    "initial_ln_k = 1.0\n",
    "initial_ln_sigma = np.log(np.log(meas/sim).std(ddof=0))\n",
    "x0 = np.array([initial_ln_k, initial_ln_sigma])\n",
    "\n",
    "# enforce sigma>0 but ln_sigma free; k>0 automatically via ln_k\n",
    "res = minimize(neg_log_likelihood, x0,\n",
    "               args=(meas, sim),\n",
    "               bounds=[(None, None), (None, None)])\n",
    "\n",
    "ln_k_opt, ln_sigma_opt = res.x\n",
    "k_opt = np.exp(ln_k_opt)\n",
    "sigma_opt = np.exp(ln_sigma_opt)\n",
    "\n",
    "print(f\"  Estimated scaling k = {k_opt:.6f}\")\n",
    "print(f\"Estimated log‐space σ = {sigma_opt:.6f}\")\n"
   ]
  },
  {
   "cell_type": "markdown",
   "id": "9cc051c5",
   "metadata": {},
   "source": [
    "## Apply scaling"
   ]
  },
  {
   "cell_type": "code",
   "execution_count": null,
   "id": "13a776c6",
   "metadata": {},
   "outputs": [],
   "source": [
    "for setting in [\"decay_Rain\", \"no_decay_noRain\", \"no_decay_Rain\"]:\n",
    "    result_path = f\"preprocessed_data/pop8\"\n",
    "    df_simulations = pd.read_csv(f\"{result_path}/substances/{setting}_output.csv\")\n",
    "    df_simulations.value = df_simulations.value * k_opt\n",
    "    df_simulations.to_csv(f\"{result_path}/substances/{setting}_output_scaled.csv\", index=False)\n",
    "\n",
    "\n",
    "result_path = f\"preprocessed_data/pop8_local\"\n",
    "setting = \"decay_Rain\"\n",
    "df_simulations = pd.read_csv(f\"{result_path}/substances/{setting}_output.csv\")\n",
    "df_simulations.value = df_simulations.value * k_opt\n",
    "df_simulations.to_csv(f\"{result_path}/substances/{setting}_output_scaled.csv\", index=False)"
   ]
  },
  {
   "cell_type": "code",
   "execution_count": null,
   "id": "fdde59dc",
   "metadata": {},
   "outputs": [],
   "source": [
    "\n",
    "result_path = f\"preprocessed_data/pop8_local57\"\n",
    "setting = \"decay_Rain\"\n",
    "df_simulations = pd.read_csv(f\"{result_path}/substances/{setting}_output.csv\")\n",
    "df_simulations.value = df_simulations.value * k_opt\n",
    "df_simulations.to_csv(f\"{result_path}/substances/{setting}_output_scaled.csv\", index=False)"
   ]
  }
 ],
 "metadata": {
  "kernelspec": {
   "display_name": ".venv (3.12.3)",
   "language": "python",
   "name": "python3"
  },
  "language_info": {
   "codemirror_mode": {
    "name": "ipython",
    "version": 3
   },
   "file_extension": ".py",
   "mimetype": "text/x-python",
   "name": "python",
   "nbconvert_exporter": "python",
   "pygments_lexer": "ipython3",
   "version": "3.12.3"
  }
 },
 "nbformat": 4,
 "nbformat_minor": 5
}

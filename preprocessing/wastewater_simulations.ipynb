{
 "cells": [
  {
   "cell_type": "code",
   "execution_count": 10,
   "metadata": {},
   "outputs": [],
   "source": [
    "import pandas as pd\n",
    "import numpy as np\n",
    "import matplotlib.pyplot as plt\n",
    "import seaborn as sns"
   ]
  },
  {
   "cell_type": "code",
   "execution_count": 11,
   "metadata": {},
   "outputs": [],
   "source": [
    "import re"
   ]
  },
  {
   "cell_type": "code",
   "execution_count": 12,
   "metadata": {},
   "outputs": [],
   "source": [
    "data_path = \"../simulation_results/wastewater/april\"\n",
    "result_path = \"../preprocessing/preprocessed_data/april\""
   ]
  },
  {
   "cell_type": "markdown",
   "metadata": {},
   "source": [
    "## substances"
   ]
  },
  {
   "cell_type": "code",
   "execution_count": 13,
   "metadata": {},
   "outputs": [],
   "source": [
    "file_name = \"INSIDe_substances_results1_output.txt\""
   ]
  },
  {
   "cell_type": "code",
   "execution_count": 14,
   "metadata": {},
   "outputs": [],
   "source": [
    "def tidy_substances(file_name, data_path):\n",
    "    # Path to text file\n",
    "    file_path = f\"{data_path}/{file_name}\"\n",
    "\n",
    "    # Initialize containers\n",
    "    records = []\n",
    "    current_variable = None\n",
    "    current_manhole = None\n",
    "\n",
    "    # Regular expressions\n",
    "    manhole_pattern = re.compile(r'INSIDe_substances_results_1_output_manhole_(MUC\\d+)\\.txt')\n",
    "    header_pattern = re.compile(r'time\\[min\\]\\s+(\\w+)\\([^)]+\\) concentration')\n",
    "    data_pattern = re.compile(r'^(\\d+)\\s+([-\\d.eE]+)$')\n",
    "\n",
    "    # Read file line by line\n",
    "    with open(file_path, 'r') as file:\n",
    "        for line in file:\n",
    "            line = line.strip()\n",
    "\n",
    "            # Skip empty lines\n",
    "            if not line or line == '##':\n",
    "                continue\n",
    "\n",
    "            # Match manhole ID\n",
    "            manhole_match = manhole_pattern.match(line)\n",
    "            if manhole_match:\n",
    "                current_manhole = manhole_match.group(1)\n",
    "                continue\n",
    "\n",
    "            # Match variable name\n",
    "            header_match = header_pattern.match(line)\n",
    "            if header_match:\n",
    "                current_variable = header_match.group(1)\n",
    "                continue\n",
    "\n",
    "            # Match data lines\n",
    "            data_match = data_pattern.match(line)\n",
    "            if data_match and current_variable and current_manhole:\n",
    "                time = int(data_match.group(1))\n",
    "                value = float(data_match.group(2))\n",
    "                records.append({\n",
    "                    \"time_in_minutes\": time,\n",
    "                    \"variable\": current_variable,\n",
    "                    \"value\": value,\n",
    "                    \"manhole\": current_manhole\n",
    "                })\n",
    "    df = pd.DataFrame(records)\n",
    "    df = df.loc[df.variable!=\"T\"]\n",
    "    df[\"time_in_days\"] = df[\"time_in_minutes\"]/(24*60)\n",
    "    return df"
   ]
  },
  {
   "cell_type": "code",
   "execution_count": 15,
   "metadata": {},
   "outputs": [],
   "source": [
    "df = tidy_substances(file_name, data_path)\n",
    "df[\"simulation_id\"] = 1\n",
    "df.to_csv(f\"{result_path}/substances/1_output.csv\", index=False)"
   ]
  },
  {
   "cell_type": "code",
   "execution_count": 16,
   "metadata": {},
   "outputs": [
    {
     "data": {
      "text/plain": [
       "array(['MUC012', 'MUC060', 'MUC112', 'MUC348', 'MUC362', 'MUC434',\n",
       "       'MUC494', 'MUC560', 'MUC562', 'MUC586', 'MUC600', 'MUC608'],\n",
       "      dtype=object)"
      ]
     },
     "execution_count": 16,
     "metadata": {},
     "output_type": "execute_result"
    }
   ],
   "source": [
    "df.manhole.unique()"
   ]
  },
  {
   "cell_type": "code",
   "execution_count": 17,
   "metadata": {},
   "outputs": [
    {
     "data": {
      "text/plain": [
       "array(['COV19', 'PMMoV'], dtype=object)"
      ]
     },
     "execution_count": 17,
     "metadata": {},
     "output_type": "execute_result"
    }
   ],
   "source": [
    "df.variable.unique()"
   ]
  },
  {
   "cell_type": "code",
   "execution_count": 47,
   "metadata": {},
   "outputs": [
    {
     "data": {
      "text/plain": [
       "np.float64(0.0)"
      ]
     },
     "execution_count": 47,
     "metadata": {},
     "output_type": "execute_result"
    }
   ],
   "source": [
    "df.loc[df.variable==\"PMMoV\", \"time\"].value_counts().describe()[\"std\"]"
   ]
  },
  {
   "cell_type": "code",
   "execution_count": 48,
   "metadata": {},
   "outputs": [
    {
     "data": {
      "text/plain": [
       "np.float64(0.0)"
      ]
     },
     "execution_count": 48,
     "metadata": {},
     "output_type": "execute_result"
    }
   ],
   "source": [
    "df.loc[df.variable==\"COV19\", \"time\"].value_counts().describe()[\"std\"]"
   ]
  },
  {
   "cell_type": "code",
   "execution_count": 49,
   "metadata": {},
   "outputs": [
    {
     "data": {
      "text/plain": [
       "count    85540.000000\n",
       "mean         4.190165\n",
       "std         10.007633\n",
       "min          0.000000\n",
       "25%          0.000000\n",
       "50%          0.000000\n",
       "75%          0.049465\n",
       "max         67.956350\n",
       "Name: value, dtype: float64"
      ]
     },
     "execution_count": 49,
     "metadata": {},
     "output_type": "execute_result"
    }
   ],
   "source": [
    "df.loc[df.variable==\"COV19\", \"value\"].describe()"
   ]
  },
  {
   "cell_type": "code",
   "execution_count": 50,
   "metadata": {},
   "outputs": [
    {
     "data": {
      "text/plain": [
       "count    85540.000000\n",
       "mean        -0.001334\n",
       "std          0.002827\n",
       "min         -0.008330\n",
       "25%         -0.000030\n",
       "50%         -0.000000\n",
       "75%          0.000000\n",
       "max          0.000000\n",
       "Name: value, dtype: float64"
      ]
     },
     "execution_count": 50,
     "metadata": {},
     "output_type": "execute_result"
    }
   ],
   "source": [
    "df.loc[df.variable==\"PMMoV\", \"value\"].describe()"
   ]
  },
  {
   "cell_type": "code",
   "execution_count": 51,
   "metadata": {},
   "outputs": [
    {
     "data": {
      "text/plain": [
       "array(['MUC012', 'MUC060', 'MUC112', 'MUC338', 'MUC348', 'MUC362',\n",
       "       'MUC394', 'MUC434', 'MUC494', 'MUC560'], dtype=object)"
      ]
     },
     "execution_count": 51,
     "metadata": {},
     "output_type": "execute_result"
    }
   ],
   "source": [
    "df.manhole.unique()"
   ]
  },
  {
   "cell_type": "markdown",
   "metadata": {},
   "source": [
    "## hydraulic results"
   ]
  },
  {
   "cell_type": "code",
   "execution_count": 109,
   "metadata": {},
   "outputs": [],
   "source": [
    "file_name = \"INSIDe_hydraulic_results1_output.txt\""
   ]
  },
  {
   "cell_type": "code",
   "execution_count": 110,
   "metadata": {},
   "outputs": [],
   "source": [
    "def tidy_hydraulics(file_name, data_path):\n",
    "\n",
    "    file_path = f\"{data_path}/{file_name}\"\n",
    "\n",
    "    # Containers\n",
    "    records = []\n",
    "    current_pipe = None\n",
    "    current_variable = \"flow_rate\"  # Only one variable here\n",
    "\n",
    "    # Regex patterns\n",
    "    pipe_pattern = re.compile(r'INSIDe_hydraulic_results_1_output_pipe_(\\d+)')\n",
    "    data_pattern = re.compile(r'^([\\d.,]+)\\s+([\\d.,]+)$')\n",
    "\n",
    "    # Read and parse the file\n",
    "    with open(file_path, 'r') as file:\n",
    "        for line in file:\n",
    "            line = line.strip()\n",
    "            if not line or line == \"##\":\n",
    "                continue\n",
    "\n",
    "            # Match pipe ID\n",
    "            pipe_match = pipe_pattern.match(line)\n",
    "            if pipe_match:\n",
    "                current_pipe = pipe_match.group(1)\n",
    "                continue\n",
    "\n",
    "            # Skip headers\n",
    "            if line.startswith(\"t [min]\"):\n",
    "                continue\n",
    "\n",
    "            # Match data lines\n",
    "            data_match = data_pattern.match(line)\n",
    "            if data_match and current_pipe:\n",
    "                time_str = data_match.group(1).replace(',', '.')\n",
    "                value_str = data_match.group(2).replace(',', '.')\n",
    "                try:\n",
    "                    time = float(time_str)\n",
    "                    value = float(value_str)\n",
    "                    records.append({\n",
    "                        \"time\": time,\n",
    "                        \"value\": value,\n",
    "                        \"pipe_number\": \"pipe_\"+current_pipe\n",
    "                    })\n",
    "                except ValueError:\n",
    "                    continue  # skip lines that don't convert properly\n",
    "\n",
    "    # Convert to DataFrame\n",
    "    df = pd.DataFrame(records)\n",
    "    return df"
   ]
  },
  {
   "cell_type": "code",
   "execution_count": 112,
   "metadata": {},
   "outputs": [],
   "source": [
    "df = tidy_hydraulics(file_name, data_path)\n",
    "df[\"simulation_id\"] = 1\n",
    "df.to_csv(f\"{result_path}/hydraulics/1_output.csv\", index=False)"
   ]
  },
  {
   "cell_type": "code",
   "execution_count": 73,
   "metadata": {},
   "outputs": [
    {
     "data": {
      "text/html": [
       "<div>\n",
       "<style scoped>\n",
       "    .dataframe tbody tr th:only-of-type {\n",
       "        vertical-align: middle;\n",
       "    }\n",
       "\n",
       "    .dataframe tbody tr th {\n",
       "        vertical-align: top;\n",
       "    }\n",
       "\n",
       "    .dataframe thead th {\n",
       "        text-align: right;\n",
       "    }\n",
       "</style>\n",
       "<table border=\"1\" class=\"dataframe\">\n",
       "  <thead>\n",
       "    <tr style=\"text-align: right;\">\n",
       "      <th></th>\n",
       "      <th>time</th>\n",
       "      <th>value</th>\n",
       "      <th>pipe_number</th>\n",
       "    </tr>\n",
       "  </thead>\n",
       "  <tbody>\n",
       "    <tr>\n",
       "      <th>0</th>\n",
       "      <td>1.0</td>\n",
       "      <td>0.003465</td>\n",
       "      <td>pipe_100048</td>\n",
       "    </tr>\n",
       "    <tr>\n",
       "      <th>1</th>\n",
       "      <td>2.0</td>\n",
       "      <td>0.003536</td>\n",
       "      <td>pipe_100048</td>\n",
       "    </tr>\n",
       "    <tr>\n",
       "      <th>2</th>\n",
       "      <td>4.0</td>\n",
       "      <td>0.003642</td>\n",
       "      <td>pipe_100048</td>\n",
       "    </tr>\n",
       "    <tr>\n",
       "      <th>3</th>\n",
       "      <td>5.0</td>\n",
       "      <td>0.003697</td>\n",
       "      <td>pipe_100048</td>\n",
       "    </tr>\n",
       "    <tr>\n",
       "      <th>4</th>\n",
       "      <td>6.0</td>\n",
       "      <td>0.003750</td>\n",
       "      <td>pipe_100048</td>\n",
       "    </tr>\n",
       "  </tbody>\n",
       "</table>\n",
       "</div>"
      ],
      "text/plain": [
       "   time     value  pipe_number\n",
       "0   1.0  0.003465  pipe_100048\n",
       "1   2.0  0.003536  pipe_100048\n",
       "2   4.0  0.003642  pipe_100048\n",
       "3   5.0  0.003697  pipe_100048\n",
       "4   6.0  0.003750  pipe_100048"
      ]
     },
     "execution_count": 73,
     "metadata": {},
     "output_type": "execute_result"
    }
   ],
   "source": [
    "df.head()"
   ]
  },
  {
   "cell_type": "code",
   "execution_count": 76,
   "metadata": {},
   "outputs": [
    {
     "data": {
      "text/plain": [
       "array(['pipe_100048', 'pipe_100041', 'pipe_100066', 'pipe_100079',\n",
       "       'pipe_100077', 'pipe_100078', 'pipe_100088', 'pipe_100085',\n",
       "       'pipe_100095', 'pipe_100099', 'pipe_100169', 'pipe_100177',\n",
       "       'pipe_100184', 'pipe_100233', 'pipe_100228', 'pipe_100261',\n",
       "       'pipe_100248', 'pipe_100298'], dtype=object)"
      ]
     },
     "execution_count": 76,
     "metadata": {},
     "output_type": "execute_result"
    }
   ],
   "source": [
    "df.pipe_number.unique()"
   ]
  },
  {
   "cell_type": "code",
   "execution_count": 77,
   "metadata": {},
   "outputs": [
    {
     "data": {
      "text/plain": [
       "count    712818.000000\n",
       "mean          0.269002\n",
       "std           1.289450\n",
       "min           0.000000\n",
       "25%           0.000016\n",
       "50%           0.001727\n",
       "75%           0.120910\n",
       "max          35.231280\n",
       "Name: value, dtype: float64"
      ]
     },
     "execution_count": 77,
     "metadata": {},
     "output_type": "execute_result"
    }
   ],
   "source": [
    "df.value.describe()"
   ]
  },
  {
   "cell_type": "code",
   "execution_count": 78,
   "metadata": {},
   "outputs": [
    {
     "data": {
      "text/plain": [
       "<Axes: >"
      ]
     },
     "execution_count": 78,
     "metadata": {},
     "output_type": "execute_result"
    },
    {
     "data": {
      "image/png": "[encoded data removed]",
      "text/plain": [
       "<Figure size 640x480 with 1 Axes>"
      ]
     },
     "metadata": {},
     "output_type": "display_data"
    }
   ],
   "source": [
    "df.value.hist()"
   ]
  },
  {
   "cell_type": "code",
   "execution_count": null,
   "metadata": {},
   "outputs": [],
   "source": []
  }
 ],
 "metadata": {
  "kernelspec": {
   "display_name": ".venv",
   "language": "python",
   "name": "python3"
  },
  "language_info": {
   "codemirror_mode": {
    "name": "ipython",
    "version": 3
   },
   "file_extension": ".py",
   "mimetype": "text/x-python",
   "name": "python",
   "nbconvert_exporter": "python",
   "pygments_lexer": "ipython3",
   "version": "3.10.12"
  }
 },
 "nbformat": 4,
 "nbformat_minor": 2
}

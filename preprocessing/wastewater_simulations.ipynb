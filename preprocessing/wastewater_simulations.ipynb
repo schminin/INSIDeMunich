{
 "cells": [
  {
   "cell_type": "code",
   "execution_count": 1,
   "metadata": {},
   "outputs": [],
   "source": [
    "import pandas as pd\n",
    "import numpy as np\n",
    "import matplotlib.pyplot as plt\n",
    "import seaborn as sns"
   ]
  },
  {
   "cell_type": "code",
   "execution_count": 2,
   "metadata": {},
   "outputs": [],
   "source": [
    "import re\n",
    "import os"
   ]
  },
  {
   "cell_type": "code",
   "execution_count": 63,
   "metadata": {},
   "outputs": [],
   "source": [
    "experiment_series =\"20250509\"\n",
    "precipitation_setting = \"Regen\"\n",
    "decay_setting = \"decay\"\n",
    "\n",
    "data_path = f\"../simulation_results/wastewater/{experiment_series}/{decay_setting}/{precipitation_setting}\"\n",
    "result_path = f\"preprocessed_data/{experiment_series}/\""
   ]
  },
  {
   "cell_type": "markdown",
   "metadata": {},
   "source": [
    "## substances"
   ]
  },
  {
   "cell_type": "code",
   "execution_count": 64,
   "metadata": {},
   "outputs": [],
   "source": [
    "memilio_id = 99"
   ]
  },
  {
   "cell_type": "code",
   "execution_count": 65,
   "metadata": {},
   "outputs": [],
   "source": [
    "def tidy_substances(data_path, memilio_id):\n",
    "    # Path to text file\n",
    "    file_name = f'INSIDe_substances_results{memilio_id}_output_v4.txt'\n",
    "    file_path = f\"{data_path}/{file_name}\"\n",
    "\n",
    "    # Initialize containers\n",
    "    records = []\n",
    "    current_variable = None\n",
    "    current_manhole = None\n",
    "\n",
    "    # Regular expressions\n",
    "    pattern_str = fr'INSIDe_substances_results_{memilio_id}_output_v4_manhole_(MUC\\d+)\\.txt'\n",
    "    manhole_pattern = re.compile(pattern_str)\n",
    "    header_pattern = re.compile(r'time\\[min\\]\\s+(\\w+)\\([^)]+\\) concentration')\n",
    "    data_pattern = re.compile(r'^(\\d+)\\s+([-\\d.eE]+)$')\n",
    "\n",
    "    # Read file line by line\n",
    "    with open(file_path, 'r') as file:\n",
    "        for line in file:\n",
    "            line = line.strip()\n",
    "\n",
    "            # Skip empty lines\n",
    "            if not line or line == '##':\n",
    "                continue\n",
    "\n",
    "            # Match manhole ID\n",
    "            manhole_match = manhole_pattern.match(line)\n",
    "            if manhole_match:\n",
    "                current_manhole = manhole_match.group(1)\n",
    "                continue\n",
    "\n",
    "            # Match variable name\n",
    "            header_match = header_pattern.match(line)\n",
    "            if header_match:\n",
    "                current_variable = header_match.group(1)\n",
    "                continue\n",
    "\n",
    "            # Match data lines\n",
    "            data_match = data_pattern.match(line)\n",
    "            if data_match and current_variable and current_manhole:\n",
    "                time = int(data_match.group(1))\n",
    "                value = float(data_match.group(2))\n",
    "                records.append({\n",
    "                    \"time_in_minutes\": time,\n",
    "                    \"variable\": current_variable,\n",
    "                    \"value\": value,\n",
    "                    \"manhole\": current_manhole\n",
    "                })\n",
    "    df = pd.DataFrame(records)\n",
    "    df = df.loc[df.variable!=\"T\"]\n",
    "    df[\"time_in_days\"] = df[\"time_in_minutes\"]/(24*60)\n",
    "    df[\"simulation_id\"] = memilio_id\n",
    "    return df"
   ]
  },
  {
   "cell_type": "code",
   "execution_count": 66,
   "metadata": {},
   "outputs": [],
   "source": [
    "df = tidy_substances(data_path, memilio_id)\n",
    "\n",
    "os.makedirs(f\"{result_path}/substances/\", exist_ok=True)\n",
    "df.to_csv(f\"{result_path}/substances/{decay_setting}_{precipitation_setting}_{memilio_id}_output.csv\", index=False)"
   ]
  },
  {
   "cell_type": "code",
   "execution_count": 67,
   "metadata": {},
   "outputs": [
    {
     "data": {
      "text/plain": [
       "array(['MUC012', 'MUC060', 'MUC112', 'MUC348', 'MUC362', 'MUC434',\n",
       "       'MUC486', 'MUC494', 'MUC560', 'MUC562', 'MUC586', 'MUC596',\n",
       "       'MUC600', 'MUC608', 'MUC612', 'MUC614', 'MUC616'], dtype=object)"
      ]
     },
     "execution_count": 67,
     "metadata": {},
     "output_type": "execute_result"
    }
   ],
   "source": [
    "df.manhole.unique()"
   ]
  },
  {
   "cell_type": "code",
   "execution_count": 68,
   "metadata": {},
   "outputs": [
    {
     "data": {
      "text/plain": [
       "array(['COV19', 'PMMoV'], dtype=object)"
      ]
     },
     "execution_count": 68,
     "metadata": {},
     "output_type": "execute_result"
    }
   ],
   "source": [
    "df.variable.unique()"
   ]
  },
  {
   "cell_type": "code",
   "execution_count": 69,
   "metadata": {},
   "outputs": [
    {
     "data": {
      "text/html": [
       "<div>\n",
       "<style scoped>\n",
       "    .dataframe tbody tr th:only-of-type {\n",
       "        vertical-align: middle;\n",
       "    }\n",
       "\n",
       "    .dataframe tbody tr th {\n",
       "        vertical-align: top;\n",
       "    }\n",
       "\n",
       "    .dataframe thead th {\n",
       "        text-align: right;\n",
       "    }\n",
       "</style>\n",
       "<table border=\"1\" class=\"dataframe\">\n",
       "  <thead>\n",
       "    <tr style=\"text-align: right;\">\n",
       "      <th></th>\n",
       "      <th>time_in_minutes</th>\n",
       "      <th>variable</th>\n",
       "      <th>value</th>\n",
       "      <th>manhole</th>\n",
       "      <th>time_in_days</th>\n",
       "      <th>simulation_id</th>\n",
       "    </tr>\n",
       "  </thead>\n",
       "  <tbody>\n",
       "    <tr>\n",
       "      <th>0</th>\n",
       "      <td>15</td>\n",
       "      <td>COV19</td>\n",
       "      <td>3.65069</td>\n",
       "      <td>MUC012</td>\n",
       "      <td>0.010417</td>\n",
       "      <td>99</td>\n",
       "    </tr>\n",
       "    <tr>\n",
       "      <th>1</th>\n",
       "      <td>30</td>\n",
       "      <td>COV19</td>\n",
       "      <td>3.64318</td>\n",
       "      <td>MUC012</td>\n",
       "      <td>0.020833</td>\n",
       "      <td>99</td>\n",
       "    </tr>\n",
       "    <tr>\n",
       "      <th>2</th>\n",
       "      <td>45</td>\n",
       "      <td>COV19</td>\n",
       "      <td>3.63653</td>\n",
       "      <td>MUC012</td>\n",
       "      <td>0.031250</td>\n",
       "      <td>99</td>\n",
       "    </tr>\n",
       "    <tr>\n",
       "      <th>3</th>\n",
       "      <td>60</td>\n",
       "      <td>COV19</td>\n",
       "      <td>3.63030</td>\n",
       "      <td>MUC012</td>\n",
       "      <td>0.041667</td>\n",
       "      <td>99</td>\n",
       "    </tr>\n",
       "    <tr>\n",
       "      <th>4</th>\n",
       "      <td>75</td>\n",
       "      <td>COV19</td>\n",
       "      <td>3.63477</td>\n",
       "      <td>MUC012</td>\n",
       "      <td>0.052083</td>\n",
       "      <td>99</td>\n",
       "    </tr>\n",
       "  </tbody>\n",
       "</table>\n",
       "</div>"
      ],
      "text/plain": [
       "   time_in_minutes variable    value manhole  time_in_days  simulation_id\n",
       "0               15    COV19  3.65069  MUC012      0.010417             99\n",
       "1               30    COV19  3.64318  MUC012      0.020833             99\n",
       "2               45    COV19  3.63653  MUC012      0.031250             99\n",
       "3               60    COV19  3.63030  MUC012      0.041667             99\n",
       "4               75    COV19  3.63477  MUC012      0.052083             99"
      ]
     },
     "execution_count": 69,
     "metadata": {},
     "output_type": "execute_result"
    }
   ],
   "source": [
    "df.head()"
   ]
  },
  {
   "cell_type": "code",
   "execution_count": 70,
   "metadata": {},
   "outputs": [
    {
     "data": {
      "text/plain": [
       "np.float64(0.0)"
      ]
     },
     "execution_count": 70,
     "metadata": {},
     "output_type": "execute_result"
    }
   ],
   "source": [
    "df.loc[df.variable==\"COV19\", \"time_in_minutes\"].value_counts().describe()[\"std\"]"
   ]
  },
  {
   "cell_type": "code",
   "execution_count": 71,
   "metadata": {},
   "outputs": [
    {
     "data": {
      "text/plain": [
       "count    150161.000000\n",
       "mean       1456.656135\n",
       "std        2810.323583\n",
       "min           0.000000\n",
       "25%         162.074460\n",
       "50%         746.470610\n",
       "75%        1925.384750\n",
       "max       68506.015510\n",
       "Name: value, dtype: float64"
      ]
     },
     "execution_count": 71,
     "metadata": {},
     "output_type": "execute_result"
    }
   ],
   "source": [
    "df.loc[df.variable==\"COV19\", \"value\"].describe()"
   ]
  },
  {
   "cell_type": "code",
   "execution_count": 72,
   "metadata": {},
   "outputs": [
    {
     "data": {
      "text/plain": [
       "count    150161.000000\n",
       "mean         75.677184\n",
       "std          18.442026\n",
       "min           0.000000\n",
       "25%          81.474520\n",
       "50%          83.214980\n",
       "75%          83.326730\n",
       "max          83.333340\n",
       "Name: value, dtype: float64"
      ]
     },
     "execution_count": 72,
     "metadata": {},
     "output_type": "execute_result"
    }
   ],
   "source": [
    "df.loc[df.variable==\"PMMoV\", \"value\"].describe()"
   ]
  },
  {
   "cell_type": "markdown",
   "metadata": {},
   "source": [
    "## hydraulic results"
   ]
  },
  {
   "cell_type": "code",
   "execution_count": 73,
   "metadata": {},
   "outputs": [],
   "source": [
    "def tidy_hydraulics(memilio_id, data_path):\n",
    "    # Path to text file\n",
    "    file_name = f'INSIDe_hydraulic_results{memilio_id}_output_v4.txt'\n",
    "    file_path = f\"{data_path}/{file_name}\"\n",
    "\n",
    "    # Containers\n",
    "    records = []\n",
    "    current_pipe = None\n",
    "    current_variable = \"flow_rate\"  # Only one variable here\n",
    "\n",
    "    # Regex patterns\n",
    "    pattern_str = fr'INSIDe_hydraulic_results_{memilio_id}_output_v4_pipe_(MUC\\d+)'\n",
    "    pipe_pattern = re.compile(pattern_str)\n",
    "    data_pattern = re.compile(r'^([\\d.,]+)\\s+([\\d.,]+)$')\n",
    "\n",
    "    # Read and parse the file\n",
    "    with open(file_path, 'r') as file:\n",
    "        for line in file:\n",
    "            line = line.strip()\n",
    "            if not line or line == \"##\":\n",
    "                continue\n",
    "\n",
    "            # Match pipe ID\n",
    "            pipe_match = pipe_pattern.match(line)\n",
    "            if pipe_match:\n",
    "                current_pipe = pipe_match.group(1)\n",
    "                continue\n",
    "\n",
    "            # Skip headers\n",
    "            if line.startswith(\"t [min]\"):\n",
    "                continue\n",
    "\n",
    "            # Match data lines\n",
    "            data_match = data_pattern.match(line)\n",
    "            if data_match and current_pipe:\n",
    "                time_str = data_match.group(1).replace(',', '.')\n",
    "                value_str = data_match.group(2).replace(',', '.')\n",
    "                try:\n",
    "                    time = float(time_str)\n",
    "                    value = float(value_str)\n",
    "                    records.append({\n",
    "                        \"time_in_minutes\": time,\n",
    "                        \"value\": value,\n",
    "                        \"pipe_number\": current_pipe\n",
    "                    })\n",
    "                except ValueError:\n",
    "                    continue  # skip lines that don't convert properly\n",
    "\n",
    "    # Convert to DataFrame\n",
    "    df = pd.DataFrame(records)\n",
    "    df[\"time_in_days\"] = df[\"time_in_minutes\"]/(24*60)\n",
    "    df[\"simulation_id\"] = memilio_id\n",
    "    return df"
   ]
  },
  {
   "cell_type": "code",
   "execution_count": 74,
   "metadata": {},
   "outputs": [],
   "source": [
    "df = tidy_hydraulics(memilio_id, data_path)\n",
    "\n",
    "os.makedirs(f\"{result_path}/hydraulics/\", exist_ok=True)\n",
    "df.to_csv(f\"{result_path}/hydraulics/{decay_setting}_{precipitation_setting}_{memilio_id}_output.csv\", index=False)"
   ]
  },
  {
   "cell_type": "code",
   "execution_count": 75,
   "metadata": {},
   "outputs": [
    {
     "data": {
      "text/html": [
       "<div>\n",
       "<style scoped>\n",
       "    .dataframe tbody tr th:only-of-type {\n",
       "        vertical-align: middle;\n",
       "    }\n",
       "\n",
       "    .dataframe tbody tr th {\n",
       "        vertical-align: top;\n",
       "    }\n",
       "\n",
       "    .dataframe thead th {\n",
       "        text-align: right;\n",
       "    }\n",
       "</style>\n",
       "<table border=\"1\" class=\"dataframe\">\n",
       "  <thead>\n",
       "    <tr style=\"text-align: right;\">\n",
       "      <th></th>\n",
       "      <th>time_in_minutes</th>\n",
       "      <th>value</th>\n",
       "      <th>pipe_number</th>\n",
       "      <th>time_in_days</th>\n",
       "      <th>simulation_id</th>\n",
       "    </tr>\n",
       "  </thead>\n",
       "  <tbody>\n",
       "    <tr>\n",
       "      <th>0</th>\n",
       "      <td>1.0</td>\n",
       "      <td>0.004054</td>\n",
       "      <td>MUC614</td>\n",
       "      <td>0.000694</td>\n",
       "      <td>99</td>\n",
       "    </tr>\n",
       "    <tr>\n",
       "      <th>1</th>\n",
       "      <td>2.0</td>\n",
       "      <td>0.004290</td>\n",
       "      <td>MUC614</td>\n",
       "      <td>0.001389</td>\n",
       "      <td>99</td>\n",
       "    </tr>\n",
       "    <tr>\n",
       "      <th>2</th>\n",
       "      <td>3.0</td>\n",
       "      <td>0.004489</td>\n",
       "      <td>MUC614</td>\n",
       "      <td>0.002083</td>\n",
       "      <td>99</td>\n",
       "    </tr>\n",
       "    <tr>\n",
       "      <th>3</th>\n",
       "      <td>4.0</td>\n",
       "      <td>0.004743</td>\n",
       "      <td>MUC614</td>\n",
       "      <td>0.002778</td>\n",
       "      <td>99</td>\n",
       "    </tr>\n",
       "    <tr>\n",
       "      <th>4</th>\n",
       "      <td>5.0</td>\n",
       "      <td>0.005045</td>\n",
       "      <td>MUC614</td>\n",
       "      <td>0.003472</td>\n",
       "      <td>99</td>\n",
       "    </tr>\n",
       "  </tbody>\n",
       "</table>\n",
       "</div>"
      ],
      "text/plain": [
       "   time_in_minutes     value pipe_number  time_in_days  simulation_id\n",
       "0              1.0  0.004054      MUC614      0.000694             99\n",
       "1              2.0  0.004290      MUC614      0.001389             99\n",
       "2              3.0  0.004489      MUC614      0.002083             99\n",
       "3              4.0  0.004743      MUC614      0.002778             99\n",
       "4              5.0  0.005045      MUC614      0.003472             99"
      ]
     },
     "execution_count": 75,
     "metadata": {},
     "output_type": "execute_result"
    }
   ],
   "source": [
    "df.head()"
   ]
  },
  {
   "cell_type": "code",
   "execution_count": 76,
   "metadata": {},
   "outputs": [
    {
     "data": {
      "text/plain": [
       "array(['MUC614', 'MUC060', 'MUC4861', 'MUC562', 'MUC596', 'MUC494',\n",
       "       'MUC612', 'MUC434', 'MUC486', 'MUC012', 'MUC112', 'MUC560',\n",
       "       'MUC362', 'MUC600', 'MUC616', 'MUC608', 'MUC586', 'MUC348'],\n",
       "      dtype=object)"
      ]
     },
     "execution_count": 76,
     "metadata": {},
     "output_type": "execute_result"
    }
   ],
   "source": [
    "df.pipe_number.unique()"
   ]
  },
  {
   "cell_type": "code",
   "execution_count": 77,
   "metadata": {},
   "outputs": [
    {
     "data": {
      "text/plain": [
       "count    1.915904e+06\n",
       "mean     9.841649e-01\n",
       "std      2.817039e+00\n",
       "min      0.000000e+00\n",
       "25%      3.064479e-02\n",
       "50%      1.909400e-01\n",
       "75%      1.304410e+00\n",
       "max      7.448901e+01\n",
       "Name: value, dtype: float64"
      ]
     },
     "execution_count": 77,
     "metadata": {},
     "output_type": "execute_result"
    }
   ],
   "source": [
    "df.value.describe()"
   ]
  },
  {
   "cell_type": "code",
   "execution_count": null,
   "metadata": {},
   "outputs": [],
   "source": []
  }
 ],
 "metadata": {
  "kernelspec": {
   "display_name": ".venv",
   "language": "python",
   "name": "python3"
  },
  "language_info": {
   "codemirror_mode": {
    "name": "ipython",
    "version": 3
   },
   "file_extension": ".py",
   "mimetype": "text/x-python",
   "name": "python",
   "nbconvert_exporter": "python",
   "pygments_lexer": "ipython3",
   "version": "3.10.12"
  }
 },
 "nbformat": 4,
 "nbformat_minor": 2
}

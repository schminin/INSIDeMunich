{
 "cells": [
  {
   "cell_type": "code",
   "execution_count": 14,
   "metadata": {},
   "outputs": [],
   "source": [
    "import pandas as pd\n",
    "import numpy as np\n",
    "import matplotlib.pyplot as plt\n",
    "import seaborn as sns                                                                                                                                                                                                                                                       "
   ]
  },
  {
   "cell_type": "code",
   "execution_count": 15,
   "metadata": {},
   "outputs": [],
   "source": [
    "import os\n",
    "import re"
   ]
  },
  {
   "cell_type": "code",
   "execution_count": 16,
   "metadata": {},
   "outputs": [],
   "source": [
    "experiment_series =\"systems_pop8_local57\"\n",
    "precipitation_setting = \"Rain\"\n",
    "decay_setting = \"decay\"\n",
    "\n",
    "data_path = f\"/media/iru-mls/inside/pop8_results/raw/{experiment_series}/{decay_setting}_{precipitation_setting}\"\n",
    "# data_path = f\"/media/iru-mls/inside/{experiment_series}/{precipitation_setting}\"\n",
    "\n",
    "experiment_series = \"pop8_local57\"\n",
    "result_path = f\"preprocessed_data/{experiment_series}/\""
   ]
  },
  {
   "cell_type": "markdown",
   "metadata": {},
   "source": [
    "## substances"
   ]
  },
  {
   "cell_type": "code",
   "execution_count": 17,
   "metadata": {},
   "outputs": [],
   "source": [
    "def tidy_substances(data_path, memilio_id):\n",
    "    # Path to text file\n",
    "    file_name = f'INSIDe_substances_results{memilio_id}_output_v4.txt'\n",
    "    file_path = f\"{data_path}/{file_name}\"\n",
    "\n",
    "    # Initialize containers\n",
    "    records = []\n",
    "    current_variable = None\n",
    "    current_manhole = None\n",
    "\n",
    "    # Regular expressions\n",
    "    pattern_str = fr'INSIDe_substances_results_{memilio_id}_output_v4_manhole_(MUC\\d+)\\.txt'\n",
    "    manhole_pattern = re.compile(pattern_str)\n",
    "    header_pattern = re.compile(r'time\\[min\\]\\s+(\\w+)\\([^)]+\\) concentration')\n",
    "    data_pattern = re.compile(r'^(\\d+)\\s+([-\\d.eE]+)$')\n",
    "\n",
    "    # Read file line by line\n",
    "    with open(file_path, 'r') as file:\n",
    "        for line in file:\n",
    "            line = line.strip()\n",
    "\n",
    "            # Skip empty lines\n",
    "            if not line or line == '##':\n",
    "                continue\n",
    "\n",
    "            # Match manhole ID\n",
    "            manhole_match = manhole_pattern.match(line)\n",
    "            if manhole_match:\n",
    "                current_manhole = manhole_match.group(1)\n",
    "                continue\n",
    "\n",
    "            # Match variable name\n",
    "            header_match = header_pattern.match(line)\n",
    "            if header_match:\n",
    "                current_variable = header_match.group(1)\n",
    "                continue\n",
    "\n",
    "            # Match data lines\n",
    "            data_match = data_pattern.match(line)\n",
    "            if data_match and current_variable and current_manhole:\n",
    "                time = int(data_match.group(1))\n",
    "                value = float(data_match.group(2))\n",
    "                records.append({\n",
    "                    \"time_in_minutes\": time,\n",
    "                    \"variable\": current_variable,\n",
    "                    \"value\": value,\n",
    "                    \"manhole\": current_manhole\n",
    "                })\n",
    "    df = pd.DataFrame(records)\n",
    "    df = df.loc[df.variable!=\"T\"]\n",
    "    df[\"time_in_days\"] = df[\"time_in_minutes\"]/(24*60)\n",
    "    df[\"simulation_id\"] = memilio_id\n",
    "    return df"
   ]
  },
  {
   "cell_type": "code",
   "execution_count": 18,
   "metadata": {},
   "outputs": [
    {
     "name": "stdout",
     "output_type": "stream",
     "text": [
      "Processing Memilio ID: 1\n",
      "Processing Memilio ID: 2\n",
      "Processing Memilio ID: 3\n",
      "Processing Memilio ID: 4\n",
      "Processing Memilio ID: 5\n",
      "Processing Memilio ID: 6\n",
      "Processing Memilio ID: 7\n",
      "Processing Memilio ID: 8\n",
      "Processing Memilio ID: 9\n",
      "Processing Memilio ID: 10\n",
      "Processing Memilio ID: 11\n",
      "Processing Memilio ID: 12\n",
      "Processing Memilio ID: 13\n",
      "Processing Memilio ID: 14\n",
      "Processing Memilio ID: 15\n",
      "Processing Memilio ID: 16\n",
      "Processing Memilio ID: 17\n",
      "Processing Memilio ID: 18\n",
      "Processing Memilio ID: 19\n",
      "Processing Memilio ID: 20\n",
      "Processing Memilio ID: 21\n",
      "Processing Memilio ID: 22\n",
      "Processing Memilio ID: 23\n",
      "Processing Memilio ID: 24\n",
      "Processing Memilio ID: 25\n",
      "Processing Memilio ID: 26\n",
      "Processing Memilio ID: 27\n",
      "Processing Memilio ID: 28\n",
      "Processing Memilio ID: 29\n",
      "Processing Memilio ID: 30\n",
      "Processing Memilio ID: 31\n",
      "Processing Memilio ID: 32\n",
      "Processing Memilio ID: 33\n",
      "Processing Memilio ID: 34\n",
      "Processing Memilio ID: 35\n",
      "Processing Memilio ID: 36\n",
      "Processing Memilio ID: 37\n",
      "Processing Memilio ID: 38\n",
      "Processing Memilio ID: 39\n",
      "Processing Memilio ID: 40\n",
      "Processing Memilio ID: 41\n",
      "Processing Memilio ID: 42\n",
      "Processing Memilio ID: 43\n",
      "Processing Memilio ID: 44\n",
      "Processing Memilio ID: 45\n",
      "Processing Memilio ID: 46\n",
      "Processing Memilio ID: 47\n",
      "Processing Memilio ID: 48\n",
      "Processing Memilio ID: 49\n",
      "Processing Memilio ID: 50\n",
      "Processing Memilio ID: 51\n",
      "Processing Memilio ID: 52\n",
      "Processing Memilio ID: 53\n",
      "Processing Memilio ID: 54\n",
      "Processing Memilio ID: 55\n",
      "Processing Memilio ID: 56\n",
      "Processing Memilio ID: 57\n",
      "Processing Memilio ID: 58\n",
      "Processing Memilio ID: 59\n",
      "Processing Memilio ID: 60\n",
      "Processing Memilio ID: 61\n",
      "Processing Memilio ID: 62\n",
      "Processing Memilio ID: 63\n",
      "Processing Memilio ID: 64\n",
      "Processing Memilio ID: 65\n",
      "Processing Memilio ID: 66\n",
      "Processing Memilio ID: 67\n",
      "Processing Memilio ID: 68\n",
      "Processing Memilio ID: 69\n",
      "Processing Memilio ID: 70\n",
      "Processing Memilio ID: 71\n",
      "Processing Memilio ID: 72\n",
      "Processing Memilio ID: 73\n",
      "Processing Memilio ID: 74\n",
      "Processing Memilio ID: 75\n",
      "Processing Memilio ID: 76\n",
      "Processing Memilio ID: 77\n",
      "Processing Memilio ID: 78\n",
      "Processing Memilio ID: 79\n",
      "Processing Memilio ID: 80\n",
      "Processing Memilio ID: 81\n",
      "Processing Memilio ID: 82\n",
      "Processing Memilio ID: 83\n",
      "Processing Memilio ID: 84\n",
      "Processing Memilio ID: 85\n",
      "Processing Memilio ID: 86\n",
      "Processing Memilio ID: 87\n",
      "Processing Memilio ID: 88\n",
      "Processing Memilio ID: 89\n",
      "Processing Memilio ID: 90\n",
      "Processing Memilio ID: 91\n",
      "Processing Memilio ID: 92\n",
      "Processing Memilio ID: 93\n",
      "Processing Memilio ID: 94\n",
      "Processing Memilio ID: 95\n",
      "Processing Memilio ID: 96\n",
      "Processing Memilio ID: 97\n",
      "Processing Memilio ID: 98\n",
      "Processing Memilio ID: 99\n",
      "Processing Memilio ID: 100\n"
     ]
    }
   ],
   "source": [
    "df = pd.DataFrame()\n",
    "for memilio_id in range(1, 101):\n",
    "    print(f\"Processing Memilio ID: {memilio_id}\")\n",
    "    df_temp = tidy_substances(data_path, memilio_id)\n",
    "    df = pd.concat([df, df_temp], ignore_index=True)\n",
    "\n",
    "os.makedirs(f\"{result_path}/substances/\", exist_ok=True)\n",
    "df.to_csv(f\"{result_path}/substances/{decay_setting}_{precipitation_setting}_output.csv\", index=False)"
   ]
  },
  {
   "cell_type": "code",
   "execution_count": 58,
   "metadata": {},
   "outputs": [
    {
     "data": {
      "text/plain": [
       "'\\nmemilio_id = 1  # Example Memilio ID for individual processing\\ndf = tidy_substances(data_path, memilio_id)\\n\\nos.makedirs(f\"{result_path}/substances/\", exist_ok=True)\\ndf.to_csv(f\"{result_path}/substances/{decay_setting}_{precipitation_setting}_{memilio_id}_output.csv\", index=False)\\n'"
      ]
     },
     "execution_count": 58,
     "metadata": {},
     "output_type": "execute_result"
    }
   ],
   "source": [
    "\"\"\"\n",
    "memilio_id = 1  # Example Memilio ID for individual processing\n",
    "df = tidy_substances(data_path, memilio_id)\n",
    "\n",
    "os.makedirs(f\"{result_path}/substances/\", exist_ok=True)\n",
    "df.to_csv(f\"{result_path}/substances/{decay_setting}_{precipitation_setting}_{memilio_id}_output.csv\", index=False)\n",
    "\"\"\""
   ]
  },
  {
   "cell_type": "code",
   "execution_count": null,
   "metadata": {},
   "outputs": [],
   "source": []
  },
  {
   "cell_type": "code",
   "execution_count": 19,
   "metadata": {},
   "outputs": [
    {
     "data": {
      "text/plain": [
       "True"
      ]
     },
     "execution_count": 19,
     "metadata": {},
     "output_type": "execute_result"
    }
   ],
   "source": [
    "df.manhole.nunique() == 17"
   ]
  },
  {
   "cell_type": "code",
   "execution_count": 20,
   "metadata": {},
   "outputs": [
    {
     "data": {
      "text/plain": [
       "np.True_"
      ]
     },
     "execution_count": 20,
     "metadata": {},
     "output_type": "execute_result"
    }
   ],
   "source": [
    "df.groupby(\"manhole\")[\"time_in_minutes\"].count().describe()[\"std\"]==0.0"
   ]
  },
  {
   "cell_type": "code",
   "execution_count": 21,
   "metadata": {},
   "outputs": [
    {
     "data": {
      "text/plain": [
       "count    1.501610e+07\n",
       "mean     7.568071e+01\n",
       "std      1.843700e+01\n",
       "min      0.000000e+00\n",
       "25%      8.149966e+01\n",
       "50%      8.321230e+01\n",
       "75%      8.332656e+01\n",
       "max      8.333334e+01\n",
       "Name: value, dtype: float64"
      ]
     },
     "execution_count": 21,
     "metadata": {},
     "output_type": "execute_result"
    }
   ],
   "source": [
    "df.loc[df.variable==\"PMMoV\", \"value\"].describe()"
   ]
  },
  {
   "cell_type": "code",
   "execution_count": 23,
   "metadata": {},
   "outputs": [
    {
     "data": {
      "text/plain": [
       "np.float64(75.67203671958764)"
      ]
     },
     "execution_count": 23,
     "metadata": {},
     "output_type": "execute_result"
    }
   ],
   "source": [
    "df.loc[df.variable==\"PMMoV\"].groupby(\"simulation_id\")[\"value\"].mean().min()"
   ]
  },
  {
   "cell_type": "markdown",
   "metadata": {},
   "source": [
    "## hydraulic results"
   ]
  },
  {
   "cell_type": "code",
   "execution_count": 28,
   "metadata": {},
   "outputs": [],
   "source": [
    "def tidy_hydraulics(memilio_id, data_path):\n",
    "    # Path to text file\n",
    "    file_name = f'INSIDe_hydraulic_results{memilio_id}_output_v4.txt'\n",
    "    file_path = f\"{data_path}/{file_name}\"\n",
    "\n",
    "    # Containers\n",
    "    records = []\n",
    "    current_pipe = None\n",
    "    current_variable = \"flow_rate\"  # Only one variable here\n",
    "\n",
    "    # Regex patterns\n",
    "    pattern_str = fr'INSIDe_hydraulic_results_{memilio_id}_output_v4_pipe_(MUC\\d+)'\n",
    "    pipe_pattern = re.compile(pattern_str)\n",
    "    data_pattern = re.compile(r'^([\\d.,]+)\\s+([\\d.,]+)$')\n",
    "\n",
    "    # Read and parse the file\n",
    "    with open(file_path, 'r') as file:\n",
    "        for line in file:\n",
    "            line = line.strip()\n",
    "            if not line or line == \"##\":\n",
    "                continue\n",
    "\n",
    "            # Match pipe ID\n",
    "            pipe_match = pipe_pattern.match(line)\n",
    "            if pipe_match:\n",
    "                current_pipe = pipe_match.group(1)\n",
    "                continue\n",
    "\n",
    "            # Skip headers\n",
    "            if line.startswith(\"t [min]\"):\n",
    "                continue\n",
    "\n",
    "            # Match data lines\n",
    "            data_match = data_pattern.match(line)\n",
    "            if data_match and current_pipe:\n",
    "                time_str = data_match.group(1).replace(',', '.')\n",
    "                value_str = data_match.group(2).replace(',', '.')\n",
    "                try:\n",
    "                    time = float(time_str)\n",
    "                    value = float(value_str)\n",
    "                    records.append({\n",
    "                        \"time_in_minutes\": time,\n",
    "                        \"value\": value,\n",
    "                        \"pipe_number\": current_pipe\n",
    "                    })\n",
    "                except ValueError:\n",
    "                    continue  # skip lines that don't convert properly\n",
    "\n",
    "    # Convert to DataFrame\n",
    "    df = pd.DataFrame(records)\n",
    "    df[\"time_in_days\"] = df[\"time_in_minutes\"]/(24*60)\n",
    "    df[\"simulation_id\"] = memilio_id\n",
    "    return df"
   ]
  },
  {
   "cell_type": "code",
   "execution_count": 29,
   "metadata": {},
   "outputs": [
    {
     "name": "stdout",
     "output_type": "stream",
     "text": [
      "Processing Memilio ID: 1\n",
      "Processing Memilio ID: 2\n",
      "Processing Memilio ID: 3\n",
      "Processing Memilio ID: 4\n",
      "Processing Memilio ID: 5\n",
      "Processing Memilio ID: 6\n",
      "Processing Memilio ID: 7\n",
      "Processing Memilio ID: 8\n",
      "Processing Memilio ID: 9\n",
      "Processing Memilio ID: 10\n",
      "Processing Memilio ID: 11\n",
      "Processing Memilio ID: 12\n",
      "Processing Memilio ID: 13\n",
      "Processing Memilio ID: 14\n",
      "Processing Memilio ID: 15\n",
      "Processing Memilio ID: 16\n",
      "Processing Memilio ID: 17\n",
      "Processing Memilio ID: 18\n",
      "Processing Memilio ID: 19\n",
      "Processing Memilio ID: 20\n",
      "Processing Memilio ID: 21\n",
      "Processing Memilio ID: 22\n",
      "Processing Memilio ID: 23\n",
      "Processing Memilio ID: 24\n",
      "Processing Memilio ID: 25\n",
      "Processing Memilio ID: 26\n",
      "Processing Memilio ID: 27\n",
      "Processing Memilio ID: 28\n",
      "Processing Memilio ID: 29\n",
      "Processing Memilio ID: 30\n",
      "Processing Memilio ID: 31\n",
      "Processing Memilio ID: 32\n",
      "Processing Memilio ID: 33\n",
      "Processing Memilio ID: 34\n",
      "Processing Memilio ID: 35\n",
      "Processing Memilio ID: 36\n",
      "Processing Memilio ID: 37\n",
      "Processing Memilio ID: 38\n",
      "Processing Memilio ID: 39\n",
      "Processing Memilio ID: 40\n",
      "Processing Memilio ID: 41\n",
      "Processing Memilio ID: 42\n",
      "Processing Memilio ID: 43\n",
      "Processing Memilio ID: 44\n",
      "Processing Memilio ID: 45\n",
      "Processing Memilio ID: 46\n",
      "Processing Memilio ID: 47\n",
      "Processing Memilio ID: 48\n",
      "Processing Memilio ID: 49\n",
      "Processing Memilio ID: 50\n",
      "Processing Memilio ID: 51\n",
      "Processing Memilio ID: 52\n",
      "Processing Memilio ID: 53\n",
      "Processing Memilio ID: 54\n",
      "Processing Memilio ID: 55\n",
      "Processing Memilio ID: 56\n",
      "Processing Memilio ID: 57\n",
      "Processing Memilio ID: 58\n",
      "Processing Memilio ID: 59\n",
      "Processing Memilio ID: 60\n",
      "Processing Memilio ID: 61\n",
      "Processing Memilio ID: 62\n",
      "Processing Memilio ID: 63\n",
      "Processing Memilio ID: 64\n",
      "Processing Memilio ID: 65\n",
      "Processing Memilio ID: 66\n",
      "Processing Memilio ID: 67\n",
      "Processing Memilio ID: 68\n",
      "Processing Memilio ID: 69\n",
      "Processing Memilio ID: 70\n",
      "Processing Memilio ID: 71\n",
      "Processing Memilio ID: 72\n",
      "Processing Memilio ID: 73\n",
      "Processing Memilio ID: 74\n",
      "Processing Memilio ID: 75\n",
      "Processing Memilio ID: 76\n",
      "Processing Memilio ID: 77\n",
      "Processing Memilio ID: 78\n",
      "Processing Memilio ID: 79\n",
      "Processing Memilio ID: 80\n",
      "Processing Memilio ID: 81\n",
      "Processing Memilio ID: 82\n",
      "Processing Memilio ID: 83\n",
      "Processing Memilio ID: 84\n",
      "Processing Memilio ID: 85\n",
      "Processing Memilio ID: 86\n",
      "Processing Memilio ID: 87\n",
      "Processing Memilio ID: 88\n",
      "Processing Memilio ID: 89\n",
      "Processing Memilio ID: 90\n",
      "Processing Memilio ID: 91\n",
      "Processing Memilio ID: 92\n",
      "Processing Memilio ID: 93\n",
      "Processing Memilio ID: 94\n",
      "Processing Memilio ID: 95\n",
      "Processing Memilio ID: 96\n",
      "Processing Memilio ID: 97\n",
      "Processing Memilio ID: 98\n",
      "Processing Memilio ID: 99\n",
      "Processing Memilio ID: 100\n"
     ]
    }
   ],
   "source": [
    "df = pd.DataFrame()\n",
    "for memilio_id in range(1, 101):\n",
    "    print(f\"Processing Memilio ID: {memilio_id}\")\n",
    "    df_temp = tidy_hydraulics(memilio_id, data_path)\n",
    "    df = pd.concat([df, df_temp], ignore_index=True)\n",
    "\n",
    "os.makedirs(f\"{result_path}/hydraulics/\", exist_ok=True)\n",
    "df.to_csv(f\"{result_path}/hydraulics/{decay_setting}_{precipitation_setting}_output.csv\", index=False)"
   ]
  },
  {
   "cell_type": "code",
   "execution_count": null,
   "metadata": {},
   "outputs": [
    {
     "data": {
      "text/plain": [
       "'\\ndf = tidy_hydraulics(memilio_id, data_path)\\n\\nos.makedirs(f\"{result_path}/hydraulics/\", exist_ok=True)\\ndf.to_csv(f\"{result_path}/hydraulics/{decay_setting}_{precipitation_setting}_{memilio_id}_output.csv\", index=False)\\n'"
      ]
     },
     "execution_count": 12,
     "metadata": {},
     "output_type": "execute_result"
    }
   ],
   "source": [
    "\"\"\"\n",
    "df = tidy_hydraulics(memilio_id, data_path)\n",
    "\n",
    "os.makedirs(f\"{result_path}/hydraulics/\", exist_ok=True)\n",
    "df.to_csv(f\"{result_path}/hydraulics/{decay_setting}_{precipitation_setting}_{memilio_id}_output.csv\", index=False)\n",
    "\"\"\""
   ]
  },
  {
   "cell_type": "code",
   "execution_count": 30,
   "metadata": {},
   "outputs": [
    {
     "data": {
      "text/plain": [
       "18"
      ]
     },
     "execution_count": 30,
     "metadata": {},
     "output_type": "execute_result"
    }
   ],
   "source": [
    "df.pipe_number.nunique()"
   ]
  },
  {
   "cell_type": "code",
   "execution_count": 31,
   "metadata": {},
   "outputs": [
    {
     "data": {
      "text/plain": [
       "count    1.911298e+08\n",
       "mean     9.857949e-01\n",
       "std      2.820718e+00\n",
       "min      0.000000e+00\n",
       "25%      3.036367e-02\n",
       "50%      1.909300e-01\n",
       "75%      1.305500e+00\n",
       "max      7.449310e+01\n",
       "Name: value, dtype: float64"
      ]
     },
     "execution_count": 31,
     "metadata": {},
     "output_type": "execute_result"
    }
   ],
   "source": [
    "df.value.describe()"
   ]
  },
  {
   "cell_type": "code",
   "execution_count": null,
   "metadata": {},
   "outputs": [],
   "source": []
  }
 ],
 "metadata": {
  "kernelspec": {
   "display_name": ".venv (3.12.3)",
   "language": "python",
   "name": "python3"
  },
  "language_info": {
   "codemirror_mode": {
    "name": "ipython",
    "version": 3
   },
   "file_extension": ".py",
   "mimetype": "text/x-python",
   "name": "python",
   "nbconvert_exporter": "python",
   "pygments_lexer": "ipython3",
   "version": "3.12.3"
  }
 },
 "nbformat": 4,
 "nbformat_minor": 2
}
